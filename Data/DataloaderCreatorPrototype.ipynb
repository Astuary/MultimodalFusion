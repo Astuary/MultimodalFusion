{
 "cells": [
  {
   "cell_type": "markdown",
   "metadata": {},
   "source": [
    "# Using CMU-Multimodal SDK\n",
    "\n",
    "Credits: https://github.com/Justin1904/CMU-MultimodalSDK-Tutorials\n",
    "\n",
    "This file uses ***CMU-Multimodal SDK*** to load and process multimodal time-series dataset CMU-MOSEI.\n",
    "\n",
    "We specify some constants in `./constans/paths.py`. Please first take a look and modify the paths to point to the correct folders.\n",
    "\n",
    "## Downloading the data\n",
    "\n",
    "We start off by (down)loading the datasets. In the SDK each dataset has three sets of content: `highlevel`, `raw` and `labels`. `highlevel` contains the extracted features for each modality (e.g OpenFace facial landmarks, openSMILE acoustic features) while `raw` contains the raw transctripts, phonemes. `labels` are self-explanatory. Note that some datasets have more than just one set of annotations so `labels` could also give you multiple files.\n",
    "\n",
    "Currently there's a caveat that the SDK will not automatically detect if you have downloaded the data already. In event of that it will throw a `RuntimeError`. We work around that by `try/except`. This is not ideal but it will work for now."
   ]
  },
  {
   "cell_type": "code",
   "execution_count": 1,
   "metadata": {
    "tags": []
   },
   "outputs": [],
   "source": [
    "#from Data.constants import SDK_PATH, DATA_PATH_HIGH_LEVEL, DATA_PATH_LABELS, ALIGNED_DATA_PATH_HIGH_LEVEL, ALIGNED_DATA_PATH_LABELS, WORD_EMB_PATH, CACHE_PATH, DATA_PATH_RAW\n",
    "from constants import SDK_PATH, DATA_PATH_HIGH_LEVEL, DATA_PATH_LABELS, ALIGNED_DATA_PATH_HIGH_LEVEL, ALIGNED_DATA_PATH_LABELS, WORD_EMB_PATH, CACHE_PATH, DATA_PATH_RAW\n",
    "import os\n",
    "import sys\n",
    "\n",
    "if SDK_PATH is None:\n",
    "    print(\"SDK path is not specified! Please specify first in constants/paths.py\")\n",
    "    exit(0)\n",
    "else:\n",
    "    sys.path.append(SDK_PATH)\n",
    "\n",
    "if not os.path.exists(SDK_PATH):\n",
    "    print(\"Check the relative address of SDK in the constants/paths.py, current address is: \", SDK_PATH)\n",
    "\n",
    "if not os.path.exists(DATA_PATH_HIGH_LEVEL):\n",
    "    print(\"Check the relative address of high level features of the data in the constants/paths.py, current address is: \", DATA_PATH_HIGH_LEVEL)\n",
    "\n",
    "if not os.path.exists(DATA_PATH_LABELS):\n",
    "    print(\"Check the relative address of labels of the high level features in the constants/paths.py, current address is: \", DATA_PATH_LABELS)\n",
    "\n",
    "if not os.path.exists(ALIGNED_DATA_PATH_HIGH_LEVEL):\n",
    "    print(\"Check the relative address of aligned high level features of the data in the constants/paths.py, current address is: \", ALIGNED_DATA_PATH_HIGH_LEVEL)\n",
    "\n",
    "if not os.path.exists(ALIGNED_DATA_PATH_LABELS):\n",
    "    print(\"Check the relative address of aligned labels of the high level features in the constants/paths.py, current address is: \", ALIGNED_DATA_PATH_LABELS)\n",
    "\n",
    "if not os.path.exists(DATA_PATH_RAW):\n",
    "    print(\"Check the relative address of raw features in the constants/paths.py, current address is: \", DATA_PATH_RAW)\n",
    "\n",
    "import mmsdk\n",
    "import os\n",
    "import re\n",
    "import numpy as np\n",
    "from mmsdk import mmdatasdk as md\n",
    "from subprocess import check_call, CalledProcessError\n",
    "\n",
    "# create folders for storing the data\n",
    "#if not os.path.exists(DATA_PATH):\n",
    "#    check_call(' '.join(['mkdir', '-p', DATA_PATH]), shell=True)\n",
    "\n",
    "# download highlevel features, low-level (raw) data and labels for the dataset MOSEI\n",
    "# if the files are already present, instead of downloading it you just load it yourself.\n",
    "# here we use CMU_MOSEI dataset as example.\n",
    "\n",
    "DATASET = md.cmu_mosei\n",
    "SETUP = False # Set this to True if you are downloading and aligning the dataset for the first time \n",
    "\n",
    "#try:\n",
    "#    md.mmdataset(DATASET.highlevel, DATA_PATH_HIGH_LEVEL)\n",
    "#except RuntimeError:\n",
    "#    print(\"High-level features have been downloaded previously.\")\n",
    "\n",
    "#try:\n",
    "#    md.mmdataset(DATASET.raw, DATA_PATH)\n",
    "#except RuntimeError:\n",
    "#    print(\"Raw data have been downloaded previously.\")\n",
    "    \n",
    "#try:\n",
    "#    md.mmdataset(DATASET.labels, DATA_PATH_LABELS)\n",
    "#except RuntimeError:\n",
    "#    print(\"Labels have been downloaded previously.\")"
   ]
  },
  {
   "cell_type": "markdown",
   "metadata": {},
   "source": [
    "## Inspecting the downloaded files\n",
    "\n",
    "We can print the files in the target data folder to see what files are there.\n",
    "\n",
    "We can observe a bunch of files ending with `.csd` extension. This stands for ***computational sequences***, which is the underlying data structure for all features in the SDK. We will come back to that later when we load the data. For now we just print out what computational sequences we have downloaded."
   ]
  },
  {
   "cell_type": "code",
   "execution_count": 2,
   "metadata": {
    "scrolled": true,
    "tags": []
   },
   "outputs": [
    {
     "output_type": "stream",
     "name": "stdout",
     "text": "COAVAREP.csd\nFACET 4.2.csd\nglove_vectors.csd\nOpenFace_2.0.csd\nOpenSMILE.csd\nCMU_MOSEI_TimestampedWords.csd\nAll Labels.csd\n"
    }
   ],
   "source": [
    "# list the directory contents... let's see what features there are\n",
    "data_files = os.listdir(ALIGNED_DATA_PATH_HIGH_LEVEL)\n",
    "print('\\n'.join(data_files))\n",
    "data_files = os.listdir(DATA_PATH_RAW)\n",
    "print('\\n'.join(data_files))\n",
    "data_files = os.listdir(ALIGNED_DATA_PATH_LABELS)\n",
    "print('\\n'.join(data_files))"
   ]
  },
  {
   "cell_type": "markdown",
   "metadata": {},
   "source": [
    "## Loading a multimodal dataset\n",
    "\n",
    "Loading the dataset is as simple as telling the SDK what are the features you need and where are their computational sequences. You can construct a dictionary with format `{feature_name: csd_path}` and feed it to `mmdataset` object in the SDK."
   ]
  },
  {
   "cell_type": "code",
   "execution_count": null,
   "metadata": {
    "scrolled": true,
    "tags": []
   },
   "outputs": [],
   "source": [
    "# define your different modalities - refer to the filenames of the CSD files\n",
    "#visual_field = 'CMU_MOSEI_VisualFacet42'\n",
    "#acoustic_field = 'CMU_MOSEI_COVAREP'\n",
    "#text_field = 'CMU_MOSEI_TimestampedWordVectors'\n",
    "\n",
    "# We have use different names for the files, make sure the names are same for your version of the data\n",
    "visual_field = 'FACET 4.2'\n",
    "acoustic_field = 'COAVAREP'\n",
    "text_field = 'glove_vectors'\n",
    "word_field = 'CMU_MOSEI_TimestampedWords'\n",
    "\n",
    "features = [\n",
    "    #text_field, \n",
    "    visual_field, \n",
    "    acoustic_field\n",
    "]\n",
    "\n",
    "raw_features = [word_field]\n",
    "\n",
    "# Use the line below if you have just downloaded the high level unaligned features and comment out the line below that\n",
    "# recipe = {feat: os.path.join(DATA_PATH_HIGH_LEVEL, feat) + '.csd' for feat in features}\n",
    "\n",
    "recipe = {feat: os.path.join(ALIGNED_DATA_PATH_HIGH_LEVEL, feat) + '.csd' for feat in features}\n",
    "recipe[word_field] = os.path.join(DATA_PATH_RAW, word_field) + '.csd'\n",
    "print(recipe)\n",
    "dataset = md.mmdataset(recipe)"
   ]
  },
  {
   "cell_type": "markdown",
   "metadata": {},
   "source": [
    "## A peek into the dataset\n",
    "\n",
    "The multimodal dataset, after loaded, has the following hierarchy:\n",
    "\n",
    "\n",
    "```\n",
    "            computational_sequence_1 ---...\n",
    "           /                                   ...\n",
    "          /                                    /\n",
    "         /                          first_video     features -- T X N array\n",
    "        /                          /               /\n",
    "dataset ---computational_sequence_2 -- second_video\n",
    "        \\                          \\               \\\n",
    "         \\                          third_video     intervals -- T X 2 array\n",
    "          \\                                    \\...\n",
    "           \\\n",
    "            computational_sequence_3 ---...\n",
    "```\n",
    "\n",
    "It looks like a nested dictionary and can be indexed as if it is a nested dictionary. A dataset contains multiple computational sequences whose key is the `text_field`, `visual_field`, `acoustic_field` as defined above. Each computational sequence, however, has multiple video IDs in it, and different computational sequences are supposed to have the same set of video IDs. Within each video, there are two arrays: `features` and `intervals`, denoting the feature values at each time step and the start and end timestamp for each step. We can take a look at its content."
   ]
  },
  {
   "cell_type": "code",
   "execution_count": 7,
   "metadata": {
    "tags": [
     "outputPrepend"
    ]
   },
   "outputs": [
    {
     "output_type": "stream",
     "name": "stdout",
     "text": ";, &#39;gPWyANEm0eE&#39;, &#39;gR3igiwaeyc&#39;, &#39;gR4gM_WXesQ&#39;, &#39;gRAmIaSlm80&#39;, &#39;gU7McujYYPY&#39;, &#39;gVqs4TzqySw&#39;, &#39;gXDRWhJbfFU&#39;, &#39;gXuiIWRxrw4&#39;, &#39;gZDyk95Xob4&#39;, &#39;gZF-YNQHqwI&#39;, &#39;gcFECfN4BCU&#39;, &#39;gcGZp9JX_qE&#39;, &#39;gcpsSao7kHM&#39;, &#39;ge071m9bGeY&#39;, &#39;gfHrSg3BwiQ&#39;, &#39;ggbV7YeSl7k&#39;, &#39;gjEYmdWrBLM&#39;, &#39;gjGL6YY6oMs&#39;, &#39;gjSyl6evrWk&#39;, &#39;gm4l099casQ&#39;, &#39;goMtnNHQ_z4&#39;, &#39;gpn71-aKWwQ&#39;, &#39;gr8mzv2xZ2s&#39;, &#39;gr9YU-UTJzQ&#39;, &#39;grePRQ8zonA&#39;, &#39;grsV1YN1z5s&#39;, &#39;guRD0zQC6Q0&#39;, &#39;gv43BPYYxKQ&#39;, &#39;gvjQ1XfMA_g&#39;, &#39;gvrfI9e5xHQ&#39;, &#39;gzZ8NTeTzRs&#39;, &#39;h1ZZHUU4j0k&#39;, &#39;h4LrwMn94ss&#39;, &#39;h7p5URoookk&#39;, &#39;hASTLbFHrEs&#39;, &#39;hBzw4r0kfjA&#39;, &#39;hCFV5VLgS0A&#39;, &#39;hE-sA5umuCk&#39;, &#39;hF6kFQPdBjY&#39;, &#39;hGRRlXfH0BY&#39;, &#39;hI7ObFqn9Bg&#39;, &#39;hIQhkTjNaQc&#39;, &#39;hOp6I4jGvu4&#39;, &#39;hSEfYcIjIr4&#39;, &#39;hSgKOKK3L8M&#39;, &#39;hThsntvCk2s&#39;, &#39;hUBQrLjm4M4&#39;, &#39;hawztAtYHCE&#39;, &#39;hbJfSyJKBEA&#39;, &#39;hdLC4Ro977Q&#39;, &#39;he475nnmMi0&#39;, &#39;hfK8QtTd7fo&#39;, &#39;hfVXx8hfKak&#39;, &#39;hfvmQuhqMmY&#39;, &#39;hh04W3xXa5s&#39;, &#39;hhK7q30p0Jk&#39;, &#39;hj1ph17-0jE&#39;, &#39;hjBQmIWiWgw&#39;, &#39;hkGN5q3OOCE&#39;, &#39;hlBOP5NskhM&#39;, &#39;hlYDicOj2m0&#39;, &#39;hmjfBZGGZR8&#39;, &#39;hnSdAbnHDy4&#39;, &#39;hntnelpiyl8&#39;, &#39;hp3nsb_eIc0&#39;, &#39;hqzF4IDaIYE&#39;, &#39;hrLoOAh_8LY&#39;, &#39;huzEsVEJPaY&#39;, &#39;hvfaYsv7p8E&#39;, &#39;hyazktfsZew&#39;, &#39;hytnfm-AVaA&#39;, &#39;i5bmKlHv-SA&#39;, &#39;i5of7ZTkyfw&#39;, &#39;i6UngvEEuNs&#39;, &#39;i714Xt6eb1Y&#39;, &#39;iEOBNT0HFtU&#39;, &#39;iFGoQUh81as&#39;, &#39;iFj9wJaJSPE&#39;, &#39;iFxFTtCQ6zA&#39;, &#39;iH04VOkbof0&#39;, &#39;iM3wSwoAtwk&#39;, &#39;iMG962Rj3Vw&#39;, &#39;iMss8xBhFiI&#39;, &#39;iO34hER47xA&#39;, &#39;iPPp6MCythU&#39;, &#39;iQDB_OkAQWs&#39;, &#39;iR1Os7FVGHs&#39;, &#39;iREkcXde5ds&#39;, &#39;iS91daVpH2E&#39;, &#39;iUXqlrui25c&#39;, &#39;iWBx0CP9JqA&#39;, &#39;iXiMifHNKPI&#39;, &#39;iYtD_ArCdKw&#39;, &#39;icIS9VfbzMw&#39;, &#39;icbUzboLcDQ&#39;, &#39;iceSGs0MXaA&#39;, &#39;icehEYAiimM&#39;, &#39;ieWQdiQAh4M&#39;, &#39;iex7I7iVnLk&#39;, &#39;ihPjsliqz5o&#39;, &#39;ihuGFUrzD30&#39;, &#39;io85pRFj_dw&#39;, &#39;ioupaiAuRr0&#39;, &#39;ip8xwAr4MRE&#39;, &#39;ipLoS44xfO4&#39;, &#39;ixQbCXLUUj8&#39;, &#39;ixZAEncExWI&#39;, &#39;izFBeXMTgds&#39;, &#39;j0br-fFy160&#39;, &#39;j1m6ctAgjsM&#39;, &#39;j4MpQ6CKoDE&#39;, &#39;j6R1NTrosuM&#39;, &#39;j7fRIGphgtk&#39;, &#39;j9mRv472dq0&#39;, &#39;jD3iIEsc_K4&#39;, &#39;jE3gYsxr_5s&#39;, &#39;jEQoBvc7V1o&#39;, &#39;jFNgOznarMo&#39;, &#39;jFpRdhl3fgw&#39;, &#39;jHB9kiH6Vas&#39;, &#39;jICmfLeFymA&#39;, &#39;jLN6B0aSrW0&#39;, &#39;jNdvceZ4etc&#39;, &#39;jPGDFrQLD4I&#39;, &#39;jPf0LjZAS14&#39;, &#39;jPrEKz1rAno&#39;, &#39;jPtaz1rN6lc&#39;, &#39;jQ3EmbRIe58&#39;, &#39;jT3FSTBA8Us&#39;, &#39;jUKH63mltLE&#39;, &#39;jV6qzF2YROc&#39;, &#39;jVayR0VClxQ&#39;, &#39;jXQmVFcOiUI&#39;, &#39;jXp595jj734&#39;, &#39;jYT3-RQFy1U&#39;, &#39;jZTe5cbwwEE&#39;, &#39;jZe-2w7pkd8&#39;, &#39;jZnFr-Mzj9M&#39;, &#39;jakiZQd4boM&#39;, &#39;jbJF3aphcP0&#39;, &#39;jbKDW9URnvM&#39;, &#39;jcQi90n008o&#39;, &#39;jfSGWBfVNBI&#39;, &#39;jgNu58Da9cs&#39;, &#39;jhb6SV2dQzg&#39;, &#39;jj8aSNPHMw8&#39;, &#39;jjb1cWmkhI8&#39;, &#39;jjbOD6u7V34&#39;, &#39;jlCFLG6rKKY&#39;, &#39;jlW4Iep4mmE&#39;, &#39;jnG9zog4NCs&#39;, &#39;jqKzaEniiKo&#39;, &#39;jqutn5ou8_0&#39;, &#39;jrDqduyQrfo&#39;, &#39;jscKL5jS-SQ&#39;, &#39;juI9KoLA87A&#39;, &#39;jzNIU-w0MVo&#39;, &#39;k0cGUNUHuyY&#39;, &#39;k1BrzX5bc7U&#39;, &#39;k1ca_xbhohk&#39;, &#39;k4T6GaDrcjs&#39;, &#39;k5-3KuvCFms&#39;, &#39;k5ZOshC2LP4&#39;, &#39;k8NgVOCDYKM&#39;, &#39;k8yDywC4gt8&#39;, &#39;kCQqLNiO0mk&#39;, &#39;kDyK9VGfLW8&#39;, &#39;kI6jzM_aLGs&#39;, &#39;kKMfsWrigTE&#39;, &#39;kKkZihSbxF4&#39;, &#39;kLAXmTx2xOA&#39;, &#39;kM6wo2bb3nw&#39;, &#39;kPch8YhNfPE&#39;, &#39;kPn-t6NSxfQ&#39;, &#39;kRs39SO-neY&#39;, &#39;kRsA87VU6EQ&#39;, &#39;kSooCdVTI6E&#39;, &#39;kU6YY2z7z0I&#39;, &#39;kXhJ3hHK9hQ&#39;, &#39;kXiBdruxTvE&#39;, &#39;kY64gXOapYk&#39;, &#39;kZfcQ4a0kx4&#39;, &#39;kaudsLIvYC8&#39;, &#39;kbGhEJ4W44o&#39;, &#39;kbRtSmJM5aU&#39;, &#39;kcIGTPHEsNo&#39;, &#39;kddCewAsxfA&#39;, &#39;kf3fZcx8nIo&#39;, &#39;kfsO4c0Ekes&#39;, &#39;kg-W6-hP2Do&#39;, &#39;kh6eynD9OIk&#39;, &#39;khw3YCTFLfs&#39;, &#39;kiR5zVo2zvU&#39;, &#39;kj63uF0RhW8&#39;, &#39;kjQAkrdbREk&#39;, &#39;kk4gr5A6_Uw&#39;, &#39;kkaX3okuvjI&#39;, &#39;kld9r0iFkWM&#39;, &#39;kmAisuAFckw&#39;, &#39;kmgsC68hIL8&#39;, &#39;kpS4BXif_Sw&#39;, &#39;kqXpf26EL-s&#39;, &#39;krHZuqfXrPU&#39;, &#39;ktblaVOnFVE&#39;, &#39;ku-dtUqCm2o&#39;, &#39;kuQWPuhnlHs&#39;, &#39;kvUb78Rdzdc&#39;, &#39;kwkhYpCHWPw&#39;, &#39;kx544gnOZB0&#39;, &#39;kxcCxbsKx3w&#39;, &#39;ky7Q5onqxGw&#39;, &#39;kyPepNmxaj8&#39;, &#39;kz7ahNfXFsk&#39;, &#39;kzmaKnujN64&#39;, &#39;l-nM_U1qpko&#39;, &#39;l0vCKpk6Aes&#39;, &#39;l1jW3OMXUzs&#39;, &#39;l4oMbKDuW3Y&#39;, &#39;l5_DDqck4Rs&#39;, &#39;l8LTcZJ-_8k&#39;, &#39;lD4xtQ6NpDY&#39;, &#39;lEsFI5YJGDo&#39;, &#39;lKTeLK8nq8w&#39;, &#39;lO6N9dyvPTA&#39;, &#39;lO87-4Kf0cQ&#39;, &#39;lTfsqoo-jKg&#39;, &#39;lUNNDDsm7R8&#39;, &#39;lVj6ZdyW9pI&#39;, &#39;lWXjdWvB0VI&#39;, &#39;lWf5hHRHIDs&#39;, &#39;lWvaIexY2WU&#39;, &#39;lYwgLa4R5XQ&#39;, &#39;lawHYX5eB20&#39;, &#39;laxadgca3Fo&#39;, &#39;lbx3eu8LUl8&#39;, &#39;lc5bSoGlQwY&#39;, &#39;liJO1yIFsJs&#39;, &#39;lilHOUfWrIA&#39;, &#39;lkIe41StoGI&#39;, &#39;lkeVfgI0eEk&#39;, &#39;lksy-At0vxc&#39;, &#39;ll10nEjTvGE&#39;, &#39;lo0R1mvjDT8&#39;, &#39;lp9vkkimXqg&#39;, &#39;lpF-yBYou0s&#39;, &#39;lrjm6F3JJgg&#39;, &#39;ltA1VF_DUSc&#39;, &#39;luQfWSfb1s0&#39;, &#39;lwL4hjhkid4&#39;, &#39;lxBKEPIUSgc&#39;, &#39;ly3QDQDJzzQ&#39;, &#39;lzVA--tIse0&#39;, &#39;lzyVWNrkgbQ&#39;, &#39;m-7yRWZLwLY&#39;, &#39;m0-DH0k115I&#39;, &#39;m7SJs73SF8w&#39;, &#39;m8tzdtrgFUA&#39;, &#39;mHEtr7PHxoA&#39;, &#39;mHGaQ_nv9UY&#39;, &#39;mHIvH6Nnrls&#39;, &#39;mI50zj8cTNw&#39;, &#39;mKP6TVuixWg&#39;, &#39;mL2v-sODUZ8&#39;, &#39;mLW-jn67gRE&#39;, &#39;mLZZ174bqws&#39;, &#39;mMeGgB9-hSE&#39;, &#39;mN1Z5xEOy10&#39;, &#39;mNurUl_Q2UY&#39;, &#39;mO4H5S_Q7aU&#39;, &#39;mOnyMWhb5Ac&#39;, &#39;mQTaEIrNxnQ&#39;, &#39;mRPIse3OO74&#39;, &#39;mRnEJOLkhp8&#39;, &#39;mRqqH_gx7Q0&#39;, &#39;mSWwz7dXUP8&#39;, &#39;mVnqP-vLpuo&#39;, &#39;mW8eL4e7Wrg&#39;, &#39;mXdvCxLbpuY&#39;, &#39;mZ_8em_-CGc&#39;, &#39;maO6KmmgcB8&#39;, &#39;mfpR4CN9LZo&#39;, &#39;mgovo8VYtvk&#39;, &#39;mgpoY1-110U&#39;, &#39;mgsvwAVQAQo&#39;, &#39;mjQfQx2K__8&#39;, &#39;mjYeEikLR8I&#39;, &#39;mjpCK2Edsv8&#39;, &#39;mkkoJ2iVbGs&#39;, &#39;mmg_eTDHjkk&#39;, &#39;mn8_HvzbN5c&#39;, &#39;mpfSRGHFY0g&#39;, &#39;mrQIrm6hYMQ&#39;, &#39;muOYAxkG-Zo&#39;, &#39;mud6tEqFiEM&#39;, &#39;mw_ZwML0SbY&#39;, &#39;mxFU6TrHChY&#39;, &#39;mxa4KXSz9rw&#39;, &#39;mzAu5gxjE-w&#39;, &#39;mzTHW2dtbs4&#39;, &#39;mziQcFSsdRI&#39;, &#39;n-sgVVTE9Io&#39;, &#39;n2BuwHbdilY&#39;, &#39;n4xRx0J3rYQ&#39;, &#39;n5J1ZkGUGnU&#39;, &#39;n5MU2-GFjo8&#39;, &#39;n7K5SpMrQt0&#39;, &#39;nAhn8-kZpM8&#39;, &#39;nD1R4UedEDo&#39;, &#39;nDXKvarLEOM&#39;, &#39;nErOMpqvcRg&#39;, &#39;nF0AMbTH4VM&#39;, &#39;nFTo-Lz4Fr8&#39;, &#39;nGah7qST1dI&#39;, &#39;nHMHePX9WoU&#39;, &#39;nHP7l5zAwGA&#39;, &#39;nISNBD3I95A&#39;, &#39;nKiC9sEP2vM&#39;, &#39;nM5S3xxNOlQ&#39;, &#39;nMCCLB9gOag&#39;, &#39;nNFDj9fRAqE&#39;, &#39;nQ7txb1MtG0&#39;, &#39;nTBKtwqPIYw&#39;, &#39;nTZSH0EwpnY&#39;, &#39;nUZYqTRSGDw&#39;, &#39;nXWNHVZtV9A&#39;, &#39;nZEPf7a8GbI&#39;, &#39;nZFPKP9kBkw&#39;, &#39;naZi9AusrW4&#39;, &#39;namehdJxRIM&#39;, &#39;nbru7qLot04&#39;, &#39;ngp7s5Wvde0&#39;, &#39;nhD9WSEIspQ&#39;, &#39;niX_m3aMxhQ&#39;, &#39;nmWplIQhvoA&#39;, &#39;npIVLL_fTf0&#39;, &#39;nsLACXjD4KU&#39;, &#39;nw6Kf3AtCz4&#39;, &#39;nxksB2kDJ6o&#39;, &#39;nyzIL6YAonY&#39;, &#39;nz2vkMyqfeE&#39;, &#39;o1cRmT9qnOc&#39;, &#39;o2XbNJDpOlc&#39;, &#39;o2bNnLOEEC0&#39;, &#39;o2miCpS7Hwo&#39;, &#39;o4b7hjQwpv0&#39;, &#39;o5OsO6Aq9pA&#39;, &#39;o63doZKEIds&#39;, &#39;o6Cd9RmqdBc&#39;, &#39;o7vcTMAX9fQ&#39;, &#39;o8OZGBDPD8M&#39;, &#39;oANUXY3xXKM&#39;, &#39;oBS-IW-BO00&#39;, &#39;oCsrnIomHos&#39;, &#39;oDznO5w3v0U&#39;, &#39;oGFDE-6nd7Q&#39;, &#39;oGnKsroR0R0&#39;, &#39;oH9fMma8jiQ&#39;, &#39;oHV99Y_EWfI&#39;, &#39;oHff2W51wZ8&#39;, &#39;oK951Y2N_k0&#39;, &#39;oNCvb0F-c88&#39;, &#39;oNnoN0bxVnA&#39;, &#39;oO61Ma17tRA&#39;, &#39;oOhxCwkZsUI&#39;, &#39;oPlnhc0DkcU&#39;, &#39;oPvUDLhTrjI&#39;, &#39;oQizLbmte0c&#39;, &#39;oVqBUyKvgdU&#39;, &#39;oW1OEsP7Dds&#39;, &#39;oWAyEzyp2xQ&#39;, &#39;oZkWWCQw2Js&#39;, &#39;oZxMx8e0x2U&#39;, &#39;oaC1UATdtAg&#39;, &#39;obGF3RfWQKE&#39;, &#39;obnOnuzb-Xw&#39;, &#39;oecQ9yDtfx0&#39;, &#39;ogGweZUAVtU&#39;, &#39;oj7A8mpuBeQ&#39;, &#39;olVQZV_1rdA&#39;, &#39;olcPEN9x5VY&#39;, &#39;omBcvw7izuM&#39;, &#39;omHQ68k50XY&#39;, &#39;ooAF6I-fmTg&#39;, &#39;ooGB4BLK9PM&#39;, &#39;opHUZsc2WO8&#39;, &#39;ossKC1VrusE&#39;, &#39;otna1VHHCow&#39;, &#39;ou6S6fbfBWU&#39;, &#39;ouhCx4TgHlE&#39;, &#39;owT0_Xfu8a0&#39;, &#39;oyHKiX5YGDE&#39;, &#39;ozA7pRW4gFM&#39;, &#39;p18PVgfxook&#39;, &#39;p19Hsjx2xgI&#39;, &#39;p1zqEGwRMI8&#39;, &#39;p4IeTRNcxc4&#39;, &#39;p4WmcxrXkc4&#39;, &#39;p5LEk2u8tXk&#39;, &#39;p7zuPEZgtY4&#39;, &#39;pAclBdj20ZU&#39;, &#39;pC0zFF8CXXk&#39;, &#39;pDRdCSIyjkA&#39;, &#39;pFh-SLxltms&#39;, &#39;pI5Kng_GuLE&#39;, &#39;pIMByitigYI&#39;, &#39;pIaEcqnzI-s&#39;, &#39;pKXaKinzTmY&#39;, &#39;pOrk7fl1AYo&#39;, &#39;pQpy7RSfWzM&#39;, &#39;pRdxEaLB8r4&#39;, &#39;pSxte-ms0t8&#39;, &#39;pU-MjERGTUk&#39;, &#39;pVs1daijYTw&#39;, &#39;pVzHaakhKAw&#39;, &#39;pY4ovojS4rk&#39;, &#39;pYUTSG9frAk&#39;, &#39;pZye4zFzk3o&#39;, &#39;pbFwuNCQlH8&#39;, &#39;pf-78LF4ORE&#39;, &#39;pf6HYOOwfGE&#39;, &#39;pfCPogxnUfw&#39;, &#39;pjWLxORDDP4&#39;, &#39;pkH2TfFN-6s&#39;, &#39;plsot5mFAtQ&#39;, &#39;pnSRLB6anIM&#39;, &#39;pnpFPX34Agk&#39;, &#39;po5jCjnxW1w&#39;, &#39;pqAGD3ijMPw&#39;, &#39;ptgBkE_e5js&#39;, &#39;ptp-kfn4vWY&#39;, &#39;pttwIaJmfcU&#39;, &#39;pu1C7tmYHxI&#39;, &#39;puum3vabpb4&#39;, &#39;pvIQWWiT4-0&#39;, &#39;pvlmYjQdRmA&#39;, &#39;pwj9YeMJC08&#39;, &#39;pzUplbeH_fg&#39;, &#39;q-0gu48ClF4&#39;, &#39;q17gSr9kNww&#39;, &#39;q1_knonj0Lw&#39;, &#39;q3QUybiOYeU&#39;, &#39;q4hP2j7oewo&#39;, &#39;q5M1God4M6Y&#39;, &#39;q7BxnIM2_z0&#39;, &#39;q9yDL81QppI&#39;, &#39;qAip3lZRj-g&#39;, &#39;qBanrqkzobg&#39;, &#39;qCUg4ek1PPE&#39;, &#39;qDIh6YNbIMU&#39;, &#39;qDfSYz0PX9g&#39;, &#39;qEkFReBuwxc&#39;, &#39;qEuJj4uW93E&#39;, &#39;qFppeQvdfxI&#39;, &#39;qFsGMA75-oQ&#39;, &#39;qJBQH14qtHc&#39;, &#39;qJZlp9uxoTU&#39;, &#39;qJh6x4wmmh8&#39;, &#39;qK77ZmbqmOM&#39;, &#39;qP4uuMI-JSk&#39;, &#39;qTkazqluJ_I&#39;, &#39;qXisb7w9LjM&#39;, &#39;qY1sXq-YCHs&#39;, &#39;qYC3gN1AkOA&#39;, &#39;qYJtbgLqizk&#39;, &#39;qaoSn1eEyq0&#39;, &#39;qbIajpM7U3Y&#39;, &#39;qd6YuFGcBGk&#39;, &#39;qdeQg5dZb2E&#39;, &#39;qed3medhsj4&#39;, &#39;qgC8_emxSIU&#39;, &#39;qjMyjLSORY4&#39;, &#39;qkWdc-E6jGI&#39;, &#39;qlDT-bmIzQI&#39;, &#39;qlDiE1d45Bc&#39;, &#39;qmMSumMloAs&#39;, &#39;qmx0nQZYHIo&#39;, &#39;qo2reupzUE0&#39;, &#39;qpht9L3s9G4&#39;, &#39;qrI7XCKRFNk&#39;, &#39;qrSW93EtuMc&#39;, &#39;qszy_WSRFUM&#39;, &#39;qtI3CB1jslQ&#39;, &#39;qvIhzmujTi8&#39;, &#39;qyJiDgtj6YE&#39;, &#39;qyqVc352g3Q&#39;, &#39;r13W4H8ZhqI&#39;, &#39;r1erb5PSm1A&#39;, &#39;r46amqjpWgg&#39;, &#39;r4ul1wl_1T8&#39;, &#39;r5ijC2W9ddk&#39;, &#39;r8Jyl2Bfl14&#39;, &#39;r8OPmbZZlpE&#39;, &#39;r917wP1qsL4&#39;, &#39;r91csZc6AXE&#39;, &#39;r9tgDqXEcuc&#39;, &#39;rApOTQgFW6Y&#39;, &#39;rB6WmWvvyxg&#39;, &#39;rBWeo_rEdcU&#39;, &#39;rC29Qub0U7A&#39;, &#39;rC7qKZMKa0U&#39;, &#39;rCQYq4T8SEI&#39;, &#39;rEWQW_ibDwg&#39;, &#39;rFHIApgUtoI&#39;, &#39;rKyXU0ls5aQ&#39;, &#39;rLHJ_ebXCHQ&#39;, &#39;rLNY4-FWt5c&#39;, &#39;rNXM3avNBKk&#39;, &#39;rVG8gOAY0JE&#39;, &#39;rWjPSlzUc-8&#39;, &#39;rZqWAnrJ1Nc&#39;, &#39;r_vjlTcrI-U&#39;, &#39;raQ9Pcgo-II&#39;, &#39;rcfnqiD0y8o&#39;, &#39;rePYTlT5_AY&#39;, &#39;rexJoy4RMdY&#39;, &#39;rf0yDSeVEUA&#39;, &#39;rhQB8e999-Q&#39;, &#39;rojyUp4FPSg&#39;, &#39;rsQRiALH5FU&#39;, &#39;rv1gp0wEhI0&#39;, &#39;rvQ2cRnroOU&#39;, &#39;rwNlqh0k1j4&#39;, &#39;rwe-hBNpzH8&#39;, &#39;ryE9VBiR3p8&#39;, &#39;rz4Ax6xfZHQ&#39;, &#39;rzsk_IvI7bQ&#39;, &#39;s0PUurm1ONo&#39;, &#39;s1Yo_MCiMPc&#39;, &#39;s1tVE8g6JBc&#39;, &#39;s2oX3zxWuEI&#39;, &#39;s53UAEi7JEY&#39;, &#39;sC16n1k66io&#39;, &#39;sC1NvtirijU&#39;, &#39;sFLTjqVS7AE&#39;, &#39;sFxUNO2HOKY&#39;, &#39;sIGAq2J4KKI&#39;, &#39;sIusv36VoBY&#39;, &#39;sK9_de5Jx4U&#39;, &#39;sKwPCpFtUUI&#39;, &#39;sLaTZtL0ZIk&#39;, &#39;sMnbpyFqrlE&#39;, &#39;sPremsknoLM&#39;, &#39;sPxoGNvnVzg&#39;, &#39;sRMdbZVjhis&#39;, &#39;sRex0-9yFFc&#39;, &#39;sU40irMa-so&#39;, &#39;sWsDAG6x9n0&#39;, &#39;sfaWfZ2-4c0&#39;, &#39;sjoArVtU8-o&#39;, &#39;skRqBxLLJkE&#39;, &#39;skp_SpnIOCM&#39;, &#39;slLRsFFiiRc&#39;, &#39;slz8pd0Wzxs&#39;, &#39;sn1fEo72gJM&#39;, &#39;snVkfJKvjwk&#39;, &#39;soqnBdPOwoo&#39;, &#39;sqADHmnM164&#39;, &#39;srbrWyZRMCI&#39;, &#39;ssH8WQF4eN0&#39;, &#39;ssqiwP19JhM&#39;, &#39;svsbGQn389o&#39;, &#39;sw-smuVRByI&#39;, &#39;szic2IB9HB4&#39;, &#39;t-wXEPHHtME&#39;, &#39;t0Wi5Nb6kbI&#39;, &#39;t2U7w3K2qac&#39;, &#39;t4-ZulW5np4&#39;, &#39;t7a3zECpT4k&#39;, &#39;t80DGfWJ3fI&#39;, &#39;tC2KicUHB9Q&#39;, &#39;tL8RzwWSmAE&#39;, &#39;tNd3--lvSXE&#39;, &#39;tO68uTk-T_E&#39;, &#39;tQ-CIfgj-Js&#39;, &#39;tQk-eoA7JyE&#39;, &#39;tRSPfPlNbMU&#39;, &#39;tUTf9R5u6r0&#39;, &#39;tW5xAWDnbGU&#39;, &#39;tXQQ0joMq1Q&#39;, &#39;tXQpm-nKxNA&#39;, &#39;tXxXhGD1aMo&#39;, &#39;tXxf6-CilNI&#39;, &#39;tZDNinnrGf8&#39;, &#39;ta26Z2YEVMQ&#39;, &#39;taCchyi5h68&#39;, &#39;taGs3-SMoYM&#39;, &#39;tdIZZ9v0IGA&#39;, &#39;teQqaAmqqx0&#39;, &#39;tgrxA3CiBv0&#39;, &#39;tkzdanzsA0A&#39;, &#39;tnWmVXZ87h0&#39;, &#39;tnhRxo-g3Xw&#39;, &#39;trQLgl6ncmk&#39;, &#39;ttfaZ8IIWCo&#39;, &#39;tv8IhQZQuJI&#39;, &#39;tvE_DucE0_k&#39;, &#39;tw2xFbfgV4U&#39;, &#39;txjqbr6FoZs&#39;, &#39;tymso_pAxhk&#39;, &#39;u6H0sVuY1ac&#39;, &#39;u6PL_7Z9QlU&#39;, &#39;u8ViR4L2cVk&#39;, &#39;u94VPxEIJPg&#39;, &#39;u9I5WD3Nglk&#39;, &#39;u9ZV8jb_-U0&#39;, &#39;uAExKaLeOl8&#39;, &#39;uBgRo9tnv-I&#39;, &#39;uITHY4LORDs&#39;, &#39;uN0d3ZOkDp8&#39;, &#39;uQds2dN1AiM&#39;, &#39;uTWeng4h5eM&#39;, &#39;uU_3tbZ1zG8&#39;, &#39;uVM4JWjfGgQ&#39;, &#39;uWW1ejwFURI&#39;, &#39;uXYAfpQUYVE&#39;, &#39;uYzZB4ccG1Q&#39;, &#39;uacdDoBtT1k&#39;, &#39;ueCWy7aTmyo&#39;, &#39;uea5xJZygsc&#39;, &#39;um8WVjZMLUc&#39;, &#39;unNY4zIk8MM&#39;, &#39;unOeTDc2rlY&#39;, &#39;uogwnZGb-iE&#39;, &#39;uooIiW6dEyg&#39;, &#39;ussfmzwftQ8&#39;, &#39;uu1FqsR7JV0&#39;, &#39;uxHBEfIhY-E&#39;, &#39;uy9MGhVqCp8&#39;, &#39;uyOrVTq8Tjk&#39;, &#39;uyeQsv2tq44&#39;, &#39;v0a8N7Y-Vfc&#39;, &#39;v1GKBjohgHc&#39;, &#39;v2DFe9X-jCY&#39;, &#39;v2Rr-EsJda8&#39;, &#39;v3l56fl6aJM&#39;, &#39;v45zoIrjoTo&#39;, &#39;v5AAvrZuR2U&#39;, &#39;v73dbqOUoXQ&#39;, &#39;v9GshyXtiWg&#39;, &#39;v9gjg7TDlTA&#39;, &#39;vA68fTqDars&#39;, &#39;vB_kZocHtYo&#39;, &#39;vC9oWzTU71s&#39;, &#39;vCWpKubBbcw&#39;, &#39;vGkIaClHKDg&#39;, &#39;vGxqVh_kJdo&#39;, &#39;vHzbn_YW76s&#39;, &#39;vI5JH0daNsM&#39;, &#39;vJDDEuE-FlY&#39;, &#39;vM3YB7LmMq4&#39;, &#39;vM7m581tHn0&#39;, &#39;vM9AH4EqCaA&#39;, &#39;vNID-RVhWcQ&#39;, &#39;vR90Pdx9wxs&#39;, &#39;vRhj2bLo1ho&#39;, &#39;vRydHjRzDX0&#39;, &#39;vTAV6FThy30&#39;, &#39;vU0a4F36Ksw&#39;, &#39;vXABB4tBBUU&#39;, &#39;vYOr36tdcpc&#39;, &#39;v_8QeoNc4QY&#39;, &#39;vbVLgaP5IYU&#39;, &#39;vbr3EA8cJTI&#39;, &#39;veA6ECsGFxI&#39;, &#39;veHYwR7ge6Y&#39;, &#39;vi0FsBCqfRE&#39;, &#39;vlnKSMw5v1o&#39;, &#39;vn0CFvUK5D0&#39;, &#39;vo_JbAFAD68&#39;, &#39;vop7tN_K64I&#39;, &#39;vqBRkjHWjXM&#39;, &#39;vrgwwihTxVQ&#39;, &#39;vttEPA6Xffk&#39;, &#39;vwUBtNvjrU4&#39;, &#39;vx8j_4DMqh4&#39;, &#39;vySKXq0ZOb0&#39;, &#39;w-PFjo89Dpw&#39;, &#39;w1MxXu5D7ho&#39;, &#39;w44JDB1NmqM&#39;, &#39;w4xIyGs-3wc&#39;, &#39;w8TXP0iz29A&#39;, &#39;wC_1M7KIv9s&#39;, &#39;wCbQxI_-GKU&#39;, &#39;wCtZdAdoIm8&#39;, &#39;wEs7pJH2mqQ&#39;, &#39;wF8980oGklk&#39;, &#39;wHQYmMZzyJY&#39;, &#39;wHeZHLv9wGI&#39;, &#39;wI7DDCRh4Nw&#39;, &#39;wLJohZMqR-g&#39;, &#39;wLj_gnNON7A&#39;, &#39;wLrgvSYLPUI&#39;, &#39;wMggOhhVouA&#39;, &#39;wNx1ZnQ0MDQ&#39;, &#39;wO8fUOC4OSE&#39;, &#39;wOKWTFYYMuk&#39;, &#39;wOjnqud5GBA&#39;, &#39;wQkNqbrAlB4&#39;, &#39;wR3zalLV_6c&#39;, &#39;wRKVNiABc0w&#39;, &#39;wUf6AvCMHbQ&#39;, &#39;wVdoIjg3ZFQ&#39;, &#39;wXuBJvzeC1Q&#39;, &#39;wY8JbFOsp5E&#39;, &#39;w_qYZSVx2dM&#39;, &#39;wb7CfuiIZFQ&#39;, &#39;wd-LTpCtAzw&#39;, &#39;wd8VQ5E7o7o&#39;, &#39;wdU-0bttAkc&#39;, &#39;werKCgZ5dFE&#39;, &#39;wfLrS6CdFs4&#39;, &#39;wgCSuviySwg&#39;, &#39;wgca4dZnnVQ&#39;, &#39;wj3ur4fsiN4&#39;, &#39;wj4snKbUWZA&#39;, &#39;wk5lFk5kFjY&#39;, &#39;wlrb0HyIs-Q&#39;, &#39;wnL3ld9bM2o&#39;, &#39;wosolsrH3sM&#39;, &#39;wrQVnClcNPM&#39;, &#39;wtCKzu8eVJ0&#39;, &#39;wvLEIxt-_V0&#39;, &#39;wvMA0r3esw8&#39;, &#39;wxxqXK9x-64&#39;, &#39;wz3nVBPVgIA&#39;, &#39;wznRBN1fWj4&#39;, &#39;x-oexIBWwR4&#39;, &#39;x-zGBp7axao&#39;, &#39;x0rLwBIocuI&#39;, &#39;x266rUJQC_8&#39;, &#39;x2lOwQaAn4g&#39;, &#39;x2n19Cn96aw&#39;, &#39;x5xF4yu9Bos&#39;, &#39;x7ZR70cTa84&#39;, &#39;x8UZQkN52o4&#39;, &#39;x92920ole0w&#39;, &#39;x9E8yaFCX0Y&#39;, &#39;xAApNMTj3as&#39;, &#39;xBE9YWYGjtk&#39;, &#39;xBsrNFxnnuY&#39;, &#39;xNYsfeSgDCQ&#39;, &#39;xP81rX2ATLI&#39;, &#39;xPN38lYBQv4&#39;, &#39;xPhlDO-2Foc&#39;, &#39;xRJXYUZVdas&#39;, &#39;xSCvspXYU9k&#39;, &#39;xTBBDx3DkXQ&#39;, &#39;xU3N7ujUB-g&#39;, &#39;xUgAP84vsg4&#39;, &#39;xUz5cCA-oTo&#39;, &#39;xXGEkDhu94E&#39;, &#39;xXIq7YPkdUQ&#39;, &#39;xXXcgb9eZ9Y&#39;, &#39;xYtNgq9eTlg&#39;, &#39;xZ1FrxU6hcg&#39;, &#39;xaSf1d13WoY&#39;, &#39;xbl7bU5PGBs&#39;, &#39;xfP0bm6Z-7E&#39;, &#39;xfeASyC6PPg&#39;, &#39;xgAwddSkrOo&#39;, &#39;xge9aYTxxOA&#39;, &#39;xiRUWSUrGSg&#39;, &#39;xivYoEUQ5sk&#39;, &#39;xjsaS-LeZ14&#39;, &#39;xk4C4p5vHDk&#39;, &#39;xkEK17UUyi4&#39;, &#39;xlNDpmKgSIc&#39;, &#39;xmLJHru6Z1M&#39;, &#39;xn9_4n4NpEw&#39;, &#39;xnNZyfhusAk&#39;, &#39;xobMRm5Vs44&#39;, &#39;xomMHflvVDw&#39;, &#39;xqcqieV0Rn8&#39;, &#39;xsiHAO0gq74&#39;, &#39;xu53lk4dhSc&#39;, &#39;xvnFF0FiyS4&#39;, &#39;xw-Blnej8EA&#39;, &#39;xwNQ7QuXaps&#39;, &#39;xwvSYhQrHoA&#39;, &#39;xyOa9ivNrg4&#39;, &#39;y-nEcwAyQos&#39;, &#39;y1gL_MuokI8&#39;, &#39;y3r2kk8zvl0&#39;, &#39;y5JdqGL5DRc&#39;, &#39;y5Jpf48SUX8&#39;, &#39;y8HXGm1-Ecw&#39;, &#39;y9FyTEyGy5Y&#39;, &#39;yALhl-lMBxk&#39;, &#39;yBGuxyO-ElM&#39;, &#39;yBtMwyQFXwA&#39;, &#39;yCpHmPSshKY&#39;, &#39;yDIFWzOBjXc&#39;, &#39;yEtfjJOMMCs&#39;, &#39;yG3wpvLUQcg&#39;, &#39;yHtR71rx16I&#39;, &#39;yKdIZR5xfcc&#39;, &#39;yLo-Jl8nBXU&#39;, &#39;yNiJGh7JpLM&#39;, &#39;yOQHOiswVjc&#39;, &#39;ySblgk7T7eQ&#39;, &#39;ySfHPyaDbqY&#39;, &#39;yUqNp-poh9M&#39;, &#39;yXE_XZUb8qE&#39;, &#39;yZWH2P-h0jo&#39;, &#39;ybK5wRaaUyE&#39;, &#39;ydzNAuqUAnc&#39;, &#39;ygb8Cfxghbs&#39;, &#39;ymPQOY2O_nw&#39;, &#39;yoDMh8FlHR8&#39;, &#39;yp6Gd2NPwOU&#39;, &#39;ypZhKsR-9iI&#39;, &#39;yrIXBklJ5YQ&#39;, &#39;ysGFcG_PI5I&#39;, &#39;yt9GpittX4U&#39;, &#39;ytXVSpPfKwA&#39;, &#39;yuwvVTnsDjc&#39;, &#39;yxZydS2qHzs&#39;, &#39;yyToAEoUuek&#39;, &#39;yzCHa2qchpg&#39;, &#39;z-bupzylxEc&#39;, &#39;z0y1ZxH1f74&#39;, &#39;z441aDJvAcU&#39;, &#39;z6E-ocntPo4&#39;, &#39;z7FicxE_pMU&#39;, &#39;z8bWG2z-bMM&#39;, &#39;zFTuwjr3xq0&#39;, &#39;zFuRNvfC4So&#39;, &#39;zJWmmDk9fCE&#39;, &#39;zKNAu2CCeRs&#39;, &#39;zOHZDq2BvGo&#39;, &#39;zPskvGHHQtE&#39;, &#39;zR-kKDaSDmE&#39;, &#39;zR62DCEMWgs&#39;, &#39;zShw-E-yBqU&#39;, &#39;zU2_X9lIcUM&#39;, &#39;zURYO3k8lW0&#39;, &#39;zWfDRPy4lXQ&#39;, &#39;zaTyjiyrHnk&#39;, &#39;zcG0ms7CdBE&#39;, &#39;zeQKU2L173M&#39;, &#39;zfZUOvZZTuk&#39;, &#39;zg-ZIxVsBbQ&#39;, &#39;zhE_68GMJIk&#39;, &#39;zhNksSReaQk&#39;, &#39;zi0a6r52ZlY&#39;, &#39;zj4PzGtFwJM&#39;, &#39;zjYEBwXGD8I&#39;, &#39;zk2jTlAtvSU&#39;, &#39;zknhrUs7-lI&#39;, &#39;znNt--6itO4&#39;, &#39;zoPOeViAdOo&#39;, &#39;zqkawTdHN5s&#39;, &#39;zrFZAofNGi4&#39;, &#39;zsRTbbKlsEg&#39;, &#39;zuc7vUhZNfY&#39;, &#39;zv0Jl4TIQDc&#39;, &#39;zvZd3V5D5Ik&#39;, &#39;zwRBZisdpQ0&#39;, &#39;zwTrXwi54us&#39;, &#39;zx4W0Vuus-I&#39;])\nIntervals\n[455, 2]\n[321, 2]\n[1425, 2]\n================================================================================\nFeatures\n[455, 35]\n[321, 1]\n[1425, 74]\nDifferent modalities have different number of time steps!\n"
    }
   ],
   "source": [
    "print(list(dataset.keys()))\n",
    "print(\"=\" * 80)\n",
    "\n",
    "print(list(dataset[visual_field].keys())[:10])\n",
    "print(\"=\" * 80)\n",
    "\n",
    "some_id = list(dataset[visual_field].keys())[15]\n",
    "print(list(dataset[visual_field][some_id].keys()))\n",
    "print(\"=\" * 80)\n",
    "\n",
    "word_id = list(dataset[word_field].keys())[15]\n",
    "print(list(dataset[word_field][word_id].keys()))\n",
    "print(\"=\" * 80)\n",
    "print(dataset[word_field].keys())\n",
    "\n",
    "print('Intervals')\n",
    "print(list(dataset[visual_field][some_id]['intervals'].shape))\n",
    "#print(list(dataset[text_field][some_id]['intervals'].shape))\n",
    "print(list(dataset[word_field][word_id]['intervals'].shape))\n",
    "print(list(dataset[acoustic_field][some_id]['intervals'].shape))\n",
    "print(\"=\" * 80)\n",
    "\n",
    "print('Features')\n",
    "print(list(dataset[visual_field][some_id]['features'].shape))\n",
    "#print(list(dataset[text_field][some_id]['features'].shape))\n",
    "print(list(dataset[word_field][word_id]['features'].shape))\n",
    "print(list(dataset[acoustic_field][some_id]['features'].shape))\n",
    "print(\"Different modalities have different number of time steps!\")"
   ]
  },
  {
   "cell_type": "markdown",
   "metadata": {},
   "source": [
    "## Alignment of multimodal time series\n",
    "\n",
    "To work with multimodal time series that contains multiple views of data with different frequencies, we have to first align them to a ***pivot*** modality. The convention is to align to ***words***. Alignment groups feature vectors from other modalities into bins denoted by the timestamps of the pivot modality, and apply a certain processing function to each bin. We call this function ***collapse function***, because usually it is a pooling function that collapses multiple feature vectors from another modality into one single vector. This will give you sequences of same lengths in each modality (as the length of the pivot modality) for all videos.\n",
    "\n",
    "Here we define our collapse funtion as simple averaging. We feed the function to the SDK when we invoke `align` method. Note that the SDK always expect collapse functions with two arguments: `intervals` and `features`. Even if you don't use intervals (as is in the case below) you still need to define your function in the following way.\n",
    "\n",
    "***Note: Currently the SDK applies the collapse function to all modalities including the pivot, and obviously text modality cannot be \"averaged\", causing some errors. My solution is to define the avg function such that it averages the features when it can, and return the content as is when it cannot average.***"
   ]
  },
  {
   "cell_type": "code",
   "execution_count": 5,
   "metadata": {
    "scrolled": true
   },
   "outputs": [],
   "source": [
    "# Don't run this and the next cell if you have already aligned the data\n",
    "if SETUP:\n",
    "# we define a simple averaging function that does not depend on intervals\n",
    "    def avg(intervals: np.array, features: np.array) -> np.array:\n",
    "        try:\n",
    "            return np.average(features, axis=0)\n",
    "        except:\n",
    "            return features\n",
    "\n",
    "    # first we align to words with averaging, collapse_function receives a list of functions\n",
    "    dataset.align(text_field, collapse_functions=[avg])"
   ]
  },
  {
   "cell_type": "code",
   "execution_count": null,
   "metadata": {},
   "outputs": [],
   "source": [
    "if SETUP:\n",
    "    deploy_files={x:x for x in dataset.keys()}\n",
    "    dataset.deploy(\"hl1\",deploy_files)"
   ]
  },
  {
   "cell_type": "markdown",
   "metadata": {},
   "source": [
    "## Append annotations to the dataset and get the data points\n",
    "\n",
    "Now that we have a preprocessed dataset, all we need to do is to apply annotations to the data. Annotations are also computational sequences, since they are also just some values distributed on different time spans (e.g 1-3s is 'angry', 12-26s is 'neutral'). Hence, we just add the label computational sequence to the dataset and then align to the labels. Since we (may) want to preserve the whole sequences, this time we don't specify any collapse functions when aligning. \n",
    "\n",
    "Note that after alignment, the keys in the dataset changes from `video_id` to `video_id[segment_no]`, because alignment will segment each datapoint based on the segmentation of the pivot modality (in this case, it is segmented based on labels, which is what we need, and yes, one code block ago they are segmented to word level, which I didn't show you).\n",
    "\n",
    "***Important: DO NOT add the labels together at the beginning, the labels will be segmented during the first alignment to words. This also holds for any situation where you want to do multiple levels of alignment.***"
   ]
  },
  {
   "cell_type": "code",
   "execution_count": 8,
   "metadata": {
    "tags": []
   },
   "outputs": [
    {
     "output_type": "stream",
     "name": "stdout",
     "text": "[2020-10-04 23:26:00.260] | Warning | Dataset already contains &lt;All Labels&gt; computational sequence ...\n[2020-10-04 23:26:00.268] | Success | Computational sequence read from file ..\\Dataset\\AlignedData\\labels\\All Labels.csd ...\n[2020-10-04 23:26:00.973] | Status  | Checking the integrity of the &lt;All Labels&gt; computational sequence ...\n[2020-10-04 23:26:00.975] | Status  | Checking the format of the data in &lt;All Labels&gt; computational sequence ...\n[2020-10-04 23:26:11.913] | Success | &lt;All Labels&gt; computational sequence data in correct format.\n[2020-10-04 23:26:11.916] | Status  | Checking the format of the metadata in &lt;All Labels&gt; computational sequence ...\n[2020-10-04 23:26:11.921] | Success | &lt;All Labels&gt; computational sequence metadata in correct format.\n[2020-10-04 23:26:11.926] | Success | &lt;All Labels&gt; computational sequence is valid!\n"
    }
   ],
   "source": [
    "#label_field = 'CMU_MOSEI_Labels'\n",
    "label_field = 'All Labels'\n",
    "\n",
    "# we add and align to lables to obtain labeled segments\n",
    "# this time we don't apply collapse functions so that the temporal sequences are preserved\n",
    "label_recipe = {label_field: os.path.join(ALIGNED_DATA_PATH_LABELS, label_field + '.csd')}\n",
    "dataset.add_computational_sequences(label_recipe, destination=None)\n",
    "\n",
    "# Uncomment the line below if you haven't aligned the labels \n",
    "#dataset.align(label_field)"
   ]
  },
  {
   "cell_type": "code",
   "execution_count": null,
   "metadata": {},
   "outputs": [],
   "source": [
    "# Only run this cell if you just aligned the data with the labels and now you want to store the alined data\n",
    "if SETUP:\n",
    "    deploy_files={x:x for x in dataset.keys()}\n",
    "    dataset.deploy(\"fl1\",deploy_files)"
   ]
  },
  {
   "cell_type": "code",
   "execution_count": 9,
   "metadata": {
    "tags": []
   },
   "outputs": [
    {
     "output_type": "stream",
     "name": "stdout",
     "text": "-tANM6ETl_M\n"
    }
   ],
   "source": [
    "# check out what the keys look like now\n",
    "print(list(dataset[word_field].keys())[55])"
   ]
  },
  {
   "cell_type": "markdown",
   "metadata": {},
   "source": [
    "## Splitting the dataset\n",
    "\n",
    "Now it comes to our final step: splitting the dataset into train/dev/test splits. This code block is a bit long in itself, so be patience and step through carefully with the explanatory comments.\n",
    "\n",
    "The SDK provides the splits in terms of video IDs (which video belong to which split), however, after alignment our dataset keys already changed from `video_id` to `video_id[segment_no]`. Hence, we need to extract the video ID when looping through the data to determine which split each data point belongs to.\n",
    "\n",
    "In the following data processing, I also include instance-wise Z-normalization (subtract by mean and divide by standard dev) and converted words to unique IDs.\n",
    "\n",
    "This example is based on PyTorch so I am using PyTorch related utils, but the same procedure should be easy to adapt to other frameworks."
   ]
  },
  {
   "cell_type": "code",
   "execution_count": 10,
   "metadata": {
    "tags": [
     "outputPrepend"
    ]
   },
   "outputs": [
    {
     "output_type": "stream",
     "name": "stdout",
     "text": "X0wGw[0]&#39;, &#39;pRdxEaLB8r4[0]&#39;, &#39;107585[12]&#39;, &#39;lD4xtQ6NpDY[9]&#39;, &#39;wC_1M7KIv9s[5]&#39;, &#39;Ua4g9q0r-dI[9]&#39;, &#39;0FA32bEZ6xI[2]&#39;, &#39;8i7u3fl-hP8[0]&#39;, &#39;oNnoN0bxVnA[0]&#39;, &#39;-hnBHBN8p5A[2]&#39;, &#39;298736[2]&#39;, &#39;lkeVfgI0eEk[1]&#39;, &#39;251839[8]&#39;, &#39;7oFimEZJQ_A[2]&#39;, &#39;222247[7]&#39;, &#39;vop7tN_K64I[3]&#39;, &#39;mjQfQx2K__8[7]&#39;, &#39;e1E5W_ZefmY[5]&#39;, &#39;0p9XKC_J3hU[0]&#39;, &#39;kjQAkrdbREk[2]&#39;, &#39;AVScVfLgNmw[1]&#39;, &#39;4H9RfQuqsvg[1]&#39;, &#39;215259[11]&#39;, &#39;224869[10]&#39;, &#39;yUqNp-poh9M[2]&#39;, &#39;CU6U-gS76K4[3]&#39;, &#39;194299[10]&#39;, &#39;vwUBtNvjrU4[2]&#39;, &#39;VS7xSvno7NA[3]&#39;, &#39;hyazktfsZew[22]&#39;, &#39;JKueLneBoik[1]&#39;, &#39;29751[6]&#39;, &#39;-LnuDPiuuZw[2]&#39;, &#39;A6R6J8SJtBc[1]&#39;, &#39;xvnFF0FiyS4[3]&#39;, &#39;254298[13]&#39;, &#39;P0UHzR4CmYg[1]&#39;, &#39;puum3vabpb4[15]&#39;, &#39;49358[7]&#39;, &#39;33439[11]&#39;, &#39;266938[43]&#39;, &#39;267466[28]&#39;, &#39;9kLNVTm3Z90[2]&#39;, &#39;vlnKSMw5v1o[5]&#39;, &#39;gzZ8NTeTzRs[1]&#39;, &#39;fjE2EZKgQm8[6]&#39;, &#39;o4b7hjQwpv0[2]&#39;, &#39;E0g6nae4Ae4[18]&#39;, &#39;_7HVhnSYX1Y[7]&#39;, &#39;gpn71-aKWwQ[2]&#39;, &#39;Fmwc7wkIc4Q[9]&#39;, &#39;fdK_tsvBXJ8[0]&#39;, &#39;SzJf6viBWBg[3]&#39;, &#39;272624[15]&#39;, &#39;_gzYkdjNvPc[0]&#39;, &#39;24504[6]&#39;, &#39;271598[14]&#39;, &#39;HMRqR-P68Ws[7]&#39;, &#39;TYJzg5IJN8o[3]&#39;, &#39;266396[9]&#39;, &#39;yEtfjJOMMCs[13]&#39;, &#39;SzJf6viBWBg[0]&#39;, &#39;1tQOvm5eQOA[0]&#39;, &#39;N3QuD26DuCI[3]&#39;, &#39;102389[13]&#39;, &#39;jgNu58Da9cs[5]&#39;, &#39;c9jD33baJ60[2]&#39;, &#39;MroQfGehC84[5]&#39;, &#39;273171[1]&#39;, &#39;0DBfvvIVmqY[5]&#39;, &#39;GKsjv42t284[3]&#39;, &#39;188343[7]&#39;, &#39;266366[6]&#39;, &#39;XLjpZUsFEXo[3]&#39;, &#39;114624[7]&#39;, &#39;125730[11]&#39;, &#39;EmmuWoCUgXs[6]&#39;, &#39;G38DwNDQ8Cc[1]&#39;, &#39;aE7sckIAWuw[3]&#39;, &#39;WAXJRnJXmOA[2]&#39;, &#39;264446[21]&#39;, &#39;ePtlUYCdrNM[1]&#39;, &#39;220134[10]&#39;, &#39;nw6Kf3AtCz4[21]&#39;, &#39;U-KihZeIfKI[12]&#39;, &#39;264446[3]&#39;, &#39;x2n19Cn96aw[1]&#39;, &#39;uXYAfpQUYVE[0]&#39;, &#39;y3r2kk8zvl0[3]&#39;, &#39;l0vCKpk6Aes[9]&#39;, &#39;SGsiGz2fdpo[22]&#39;, &#39;IM6HW1HwHhM[8]&#39;, &#39;jcQi90n008o[1]&#39;, &#39;_gzYkdjNvPc[15]&#39;, &#39;yBGuxyO-ElM[3]&#39;, &#39;245582[14]&#39;, &#39;qTkazqluJ_I[5]&#39;, &#39;202990[4]&#39;, &#39;Kn5eKHlPD0k[0]&#39;, &#39;lc5bSoGlQwY[0]&#39;, &#39;244623[22]&#39;, &#39;XyBU_gZtU0M[10]&#39;, &#39;StgqrTr0JqU[2]&#39;, &#39;zi0a6r52ZlY[1]&#39;, &#39;Kep_mLLXsqk[3]&#39;, &#39;234587[18]&#39;, &#39;40260[22]&#39;, &#39;pnpFPX34Agk[4]&#39;, &#39;Rugd2NMu4bA[4]&#39;, &#39;121128[8]&#39;, &#39;7xiu1tAJ2d8[4]&#39;, &#39;Cd0JH1AreDw[5]&#39;, &#39;i5of7ZTkyfw[0]&#39;, &#39;Wnw1IAEDwDM[1]&#39;, &#39;ogGweZUAVtU[17]&#39;, &#39;266852[18]&#39;, &#39;zhNksSReaQk[35]&#39;, &#39;_JcML8u5Wes[2]&#39;, &#39;wRKVNiABc0w[6]&#39;, &#39;267466[27]&#39;, &#39;RzOFxDk26p0[1]&#39;, &#39;3GyEnzE1NTQ[8]&#39;, &#39;221153[16]&#39;, &#39;92331[9]&#39;, &#39;mxa4KXSz9rw[6]&#39;, &#39;XrNaL-MTjXg[3]&#39;, &#39;YJJoYkFPmds[11]&#39;, &#39;rcfnqiD0y8o[10]&#39;, &#39;d0QNH2vcDgU[20]&#39;, &#39;8xfW_azeNPk[13]&#39;, &#39;72tXTrSXoMk[2]&#39;, &#39;271366[24]&#39;, &#39;266396[41]&#39;, &#39;104741[9]&#39;, &#39;270665[32]&#39;, &#39;a4PHWxILDp0[8]&#39;, &#39;qBanrqkzobg[3]&#39;, &#39;afCsKTHteg4[2]&#39;, &#39;hSgKOKK3L8M[7]&#39;, &#39;XVWiAArXYpE[5]&#39;, &#39;222116[8]&#39;, &#39;CO2YoTZbUr0[4]&#39;, &#39;S9PDgK7fpJI[6]&#39;, &#39;83400[0]&#39;, &#39;275267[6]&#39;, &#39;31474[7]&#39;, &#39;Q2uHXKA8cq8[2]&#39;, &#39;YUNxD04EvfE[9]&#39;, &#39;TBCjKGYBNIo[9]&#39;, &#39;atxoi7pB5TM[1]&#39;, &#39;80866[9]&#39;, &#39;284673[18]&#39;, &#39;MFrwi-RibUk[9]&#39;, &#39;213327[6]&#39;, &#39;nD1R4UedEDo[5]&#39;, &#39;YQanVofsHoE[0]&#39;, &#39;267694[14]&#39;, &#39;97095[20]&#39;, &#39;x8UZQkN52o4[5]&#39;, &#39;IkvL4IAiZog[1]&#39;, &#39;SLi2gT5H6m8[1]&#39;, &#39;4EDblUpJieU[1]&#39;, &#39;282560[5]&#39;, &#39;wOKWTFYYMuk[1]&#39;, &#39;LJGL2sGvSS0[0]&#39;, &#39;294178[15]&#39;, &#39;6MloL1gIccs[2]&#39;, &#39;KI2sU-mhM44[1]&#39;, &#39;hGRRlXfH0BY[4]&#39;, &#39;LJGL2sGvSS0[17]&#39;, &#39;79935[18]&#39;, &#39;267278[12]&#39;, &#39;STeqtJLakQQ[4]&#39;, &#39;JCg26b8EO48[3]&#39;, &#39;vU0a4F36Ksw[8]&#39;, &#39;xBsrNFxnnuY[6]&#39;, &#39;188122[10]&#39;, &#39;202810[7]&#39;, &#39;0nJrksJ7azM[5]&#39;, &#39;xBE9YWYGjtk[0]&#39;, &#39;24351[7]&#39;, &#39;gjEYmdWrBLM[0]&#39;, &#39;238683[4]&#39;, &#39;naZi9AusrW4[0]&#39;, &#39;Ceu9AkIjuLY[9]&#39;, &#39;80627[8]&#39;, &#39;mHGaQ_nv9UY[17]&#39;, &#39;p4WmcxrXkc4[2]&#39;, &#39;197778[3]&#39;, &#39;97095[12]&#39;, &#39;ZUqTWOx9jYU[0]&#39;, &#39;3GyEnzE1NTQ[5]&#39;, &#39;282586[21]&#39;, &#39;jj8aSNPHMw8[0]&#39;, &#39;ZjsQqd6KZIg[1]&#39;, &#39;SWhfaL7AdEc[0]&#39;, &#39;167521[7]&#39;, &#39;2Wo-0trLBjU[1]&#39;, &#39;gvjQ1XfMA_g[3]&#39;, &#39;bQcJVJcpgAs[3]&#39;, &#39;250430[2]&#39;, &#39;c805Td8A_Ek[3]&#39;, &#39;v5AAvrZuR2U[3]&#39;, &#39;kx544gnOZB0[1]&#39;, &#39;pttwIaJmfcU[1]&#39;, &#39;DZIFCYOhosQ[0]&#39;, &#39;YVHJpAROBvQ[3]&#39;, &#39;owT0_Xfu8a0[0]&#39;, &#39;FB_b1dm0SRY[14]&#39;, &#39;136196[7]&#39;, &#39;fW1pK2L6RgM[4]&#39;, &#39;TLPlduck5II[0]&#39;, &#39;QLEOYF7Mju0[10]&#39;, &#39;234046[15]&#39;, &#39;cuR-l2qCxBc[1]&#39;, &#39;qjMyjLSORY4[10]&#39;, &#39;56989[7]&#39;, &#39;22880[6]&#39;, &#39;rojyUp4FPSg[38]&#39;, &#39;JDgqyOkzXHw[4]&#39;, &#39;w-PFjo89Dpw[4]&#39;, &#39;3V2qm0rw920[3]&#39;, &#39;ctAZf4sMBUQ[1]&#39;, &#39;eE8Qr9fOvVA[0]&#39;, &#39;v2Rr-EsJda8[3]&#39;, &#39;yLo-Jl8nBXU[5]&#39;, &#39;F2M7WbPXRps[1]&#39;, &#39;NoZsdSGnNpI[1]&#39;, &#39;DnBHq5I52LM[7]&#39;, &#39;CuFLRnu4FQ8[0]&#39;, &#39;-RpZEe4w4fY[5]&#39;, &#39;a5CSKvCAhbs[3]&#39;, &#39;8Cp8c-eQELQ[0]&#39;, &#39;24202[7]&#39;, &#39;WaaSYRPwQBw[1]&#39;, &#39;225416[7]&#39;, &#39;267252[5]&#39;, &#39;dqragS38hCk[3]&#39;, &#39;jQ3EmbRIe58[3]&#39;, &#39;BaX10vbFhuU[1]&#39;, &#39;BZOB3r5AoKE[0]&#39;, &#39;262165[3]&#39;, &#39;D1I-Z8jaby8[1]&#39;, &#39;1tuMFJnlXJc[1]&#39;, &#39;j9mRv472dq0[0]&#39;, &#39;238060[5]&#39;, &#39;EMS14J0odIE[1]&#39;, &#39;GkoBk5K-FH0[11]&#39;, &#39;fU5AYkq0m9k[0]&#39;, &#39;96194[10]&#39;, &#39;U-KihZeIfKI[0]&#39;, &#39;hyazktfsZew[0]&#39;, &#39;cZVM4svwE90[4]&#39;, &#39;cR_KQlNhoNE[5]&#39;, &#39;vlnKSMw5v1o[2]&#39;, &#39;WfNiQBXmPw8[2]&#39;, &#39;EO_5o9Gup6g[3]&#39;, &#39;omBcvw7izuM[11]&#39;, &#39;88791[4]&#39;, &#39;24196[11]&#39;, &#39;_8pvMpMdGM4[18]&#39;, &#39;HxyfY7hsjOg[2]&#39;, &#39;2mWPHvbKzL8[3]&#39;, &#39;257247[3]&#39;, &#39;qjMyjLSORY4[9]&#39;, &#39;T-8TvJcS78w[0]&#39;, &#39;131871[6]&#39;, &#39;wC_1M7KIv9s[0]&#39;, &#39;272838[1]&#39;, &#39;52068[20]&#39;, &#39;qlDiE1d45Bc[3]&#39;, &#39;C3lDRFu1ZcI[6]&#39;, &#39;eY64P27khzk[2]&#39;, &#39;lkIe41StoGI[9]&#39;, &#39;112903[0]&#39;, &#39;257531[13]&#39;, &#39;239572[5]&#39;, &#39;272375[18]&#39;, &#39;cl1DNRGX578[2]&#39;, &#39;sw-smuVRByI[1]&#39;, &#39;251839[17]&#39;, &#39;oW1OEsP7Dds[0]&#39;, &#39;mgovo8VYtvk[6]&#39;, &#39;7ifnoHhrMtA[4]&#39;, &#39;5eY4S1F62Z4[6]&#39;, &#39;ttfaZ8IIWCo[8]&#39;, &#39;3u_Joh0WJdw[0]&#39;, &#39;261900[10]&#39;, &#39;ydzNAuqUAnc[2]&#39;, &#39;RArhIHk4Qs4[9]&#39;, &#39;q-0gu48ClF4[1]&#39;, &#39;wLj_gnNON7A[10]&#39;, &#39;wLj_gnNON7A[1]&#39;, &#39;139032[2]&#39;, &#39;126542[10]&#39;, &#39;112223[5]&#39;, &#39;d7Dz34-cZ74[2]&#39;, &#39;UfLMdSGGQVw[3]&#39;, &#39;xU3N7ujUB-g[2]&#39;, &#39;HQ2LwfRcrVc[1]&#39;, &#39;UkqTwAuA8jI[1]&#39;, &#39;gXuiIWRxrw4[10]&#39;, &#39;1tQOvm5eQOA[7]&#39;, &#39;35694[11]&#39;, &#39;an_GzG40hcE[3]&#39;, &#39;lD4xtQ6NpDY[8]&#39;, &#39;CO2YoTZbUr0[8]&#39;, &#39;194625[18]&#39;, &#39;61531[4]&#39;, &#39;bpvYdXVlgvc[2]&#39;, &#39;PmemTgQHagk[6]&#39;, &#39;275620[10]&#39;, &#39;jPrEKz1rAno[1]&#39;, &#39;76sN4tvbPGk[0]&#39;, &#39;AGM-hNupJik[0]&#39;, &#39;L0WUuWYNeCo[19]&#39;, &#39;24196[15]&#39;, &#39;PybuzkS31J4[2]&#39;, &#39;4poXF3xo6Z8[9]&#39;, &#39;Zs8x712Y-CM[2]&#39;, &#39;3MFNIag0wNE[6]&#39;, &#39;mN1Z5xEOy10[2]&#39;, &#39;92496[5]&#39;, &#39;-mJ2ud6oKI8[8]&#39;, &#39;K_5u2Wh_wGk[2]&#39;, &#39;xu53lk4dhSc[1]&#39;, &#39;t4-ZulW5np4[1]&#39;, &#39;vRhj2bLo1ho[3]&#39;, &#39;rC7qKZMKa0U[0]&#39;, &#39;8xfW_azeNPk[14]&#39;, &#39;yLo-Jl8nBXU[2]&#39;, &#39;7UlSX-syPeo[10]&#39;, &#39;LtlL-03S79Q[4]&#39;, &#39;266938[22]&#39;, &#39;229090[16]&#39;, &#39;DdUJojoFU_c[2]&#39;, &#39;HLFaW4oVP9E[2]&#39;, &#39;3HRnhUin-5g[6]&#39;, &#39;aDvgbBqTWWE[3]&#39;, &#39;266938[16]&#39;, &#39;264446[35]&#39;, &#39;pnSRLB6anIM[2]&#39;, &#39;107585[3]&#39;, &#39;dsob2MgUPpA[5]&#39;, &#39;RE-LIPOFnrE[0]&#39;, &#39;2-4autDbHVQ[8]&#39;, &#39;q17gSr9kNww[0]&#39;, &#39;6c7vAwDSVGc[1]&#39;, &#39;qDfSYz0PX9g[6]&#39;, &#39;236399[9]&#39;, &#39;136215[14]&#39;, &#39;gZDyk95Xob4[11]&#39;, &#39;TH32jop4FiI[7]&#39;, &#39;93839[4]&#39;, &#39;wI7DDCRh4Nw[3]&#39;, &#39;r13W4H8ZhqI[2]&#39;, &#39;zFTuwjr3xq0[5]&#39;, &#39;154449[11]&#39;, &#39;Oj3XwBBrzXc[0]&#39;, &#39;208592[2]&#39;, &#39;222247[8]&#39;, &#39;mRnEJOLkhp8[1]&#39;, &#39;4Q95Lg3Icho[11]&#39;, &#39;pbFwuNCQlH8[4]&#39;, &#39;CZVmxwrWv34[1]&#39;, &#39;YLA7h1RTa9w[10]&#39;, &#39;soqnBdPOwoo[4]&#39;, &#39;Kyz32PTyP4I[3]&#39;, &#39;sWsDAG6x9n0[1]&#39;, &#39;136205[2]&#39;, &#39;gVqs4TzqySw[2]&#39;, &#39;ttfaZ8IIWCo[2]&#39;, &#39;s53UAEi7JEY[1]&#39;, &#39;FHlzZ2VxuGQ[1]&#39;, &#39;7ZzbemE4QEE[3]&#39;, &#39;bBJ0BxmIocQ[3]&#39;, &#39;209758[7]&#39;, &#39;rEWQW_ibDwg[3]&#39;, &#39;216857[3]&#39;, &#39;121128[4]&#39;, &#39;APYv5s4ucd0[0]&#39;, &#39;hawztAtYHCE[2]&#39;, &#39;5IhAgV0Bf_4[0]&#39;, &#39;24202[11]&#39;, &#39;244261[22]&#39;, &#39;OHWyYVux-yw[3]&#39;, &#39;jcQi90n008o[5]&#39;, &#39;2vX-ZRQQDwo[6]&#39;, &#39;233356[0]&#39;, &#39;F59hwsm4Ld0[31]&#39;, &#39;-egA8-b7-3M[11]&#39;, &#39;102858[14]&#39;, &#39;4ZhIx2ozUIE[3]&#39;, &#39;lD4xtQ6NpDY[10]&#39;, &#39;w_qYZSVx2dM[4]&#39;, &#39;efLrpnuLwyU[3]&#39;, &#39;e7_2U4lm6TE[9]&#39;, &#39;uyeQsv2tq44[0]&#39;, &#39;fSOVk2cS-sY[4]&#39;, &#39;218708[8]&#39;, &#39;SSNrLu-eZiM[0]&#39;, &#39;327283[6]&#39;, &#39;lEsFI5YJGDo[8]&#39;, &#39;9PzZSheh10U[24]&#39;, &#39;-tANM6ETl_M[0]&#39;, &#39;DR9Hhpy8aA8[1]&#39;, &#39;245276[1]&#39;, &#39;lkeVfgI0eEk[6]&#39;, &#39;7U_z0JfleAw[0]&#39;, &#39;294178[14]&#39;, &#39;qFsGMA75-oQ[1]&#39;, &#39;5vwXp27bCLw[1]&#39;, &#39;YQUutkMdLj0[1]&#39;, &#39;sFxUNO2HOKY[1]&#39;, &#39;mHGaQ_nv9UY[16]&#39;, &#39;22821[12]&#39;, &#39;xk4C4p5vHDk[0]&#39;, &#39;P0UHzR4CmYg[20]&#39;, &#39;JYdfUNjyYxo[0]&#39;, &#39;7ifnoHhrMtA[2]&#39;, &#39;3OuNMjZo5wg[0]&#39;, &#39;243338[23]&#39;, &#39;qBanrqkzobg[1]&#39;, &#39;X7-Gbk8gAD0[5]&#39;, &#39;yZWH2P-h0jo[2]&#39;, &#39;270254[25]&#39;, &#39;227173[2]&#39;, &#39;ULtBuI6nMaY[0]&#39;, &#39;JMzilFvwNXE[1]&#39;, &#39;jfSGWBfVNBI[0]&#39;, &#39;aCwLQrJz4Bo[2]&#39;, &#39;270628[12]&#39;, &#39;266791[23]&#39;, &#39;OFia3dWgaoI[0]&#39;, &#39;TksWzxo81Mk[2]&#39;, &#39;Y7h-S3cJ52o[1]&#39;, &#39;88888[7]&#39;, &#39;53742[4]&#39;, &#39;efLrpnuLwyU[2]&#39;, &#39;216007[16]&#39;, &#39;w_qYZSVx2dM[0]&#39;, &#39;yKdIZR5xfcc[3]&#39;, &#39;k5ZOshC2LP4[3]&#39;, &#39;2RDubrUjI-k[1]&#39;, &#39;0rE8jEvQW_I[6]&#39;, &#39;72385[1]&#39;, &#39;30763[13]&#39;, &#39;kqXpf26EL-s[7]&#39;, &#39;nAhn8-kZpM8[0]&#39;, &#39;obGF3RfWQKE[0]&#39;, &#39;lzyVWNrkgbQ[2]&#39;, &#39;239572[1]&#39;, &#39;240915[3]&#39;, &#39;4qjz4BQCZyM[1]&#39;, &#39;56989[0]&#39;, &#39;9zBj8VkRBpE[0]&#39;, &#39;111881[4]&#39;, &#39;75RGHaxmUK8[3]&#39;, &#39;xaSf1d13WoY[3]&#39;, &#39;52068[21]&#39;, &#39;197778[1]&#39;, &#39;q5M1God4M6Y[2]&#39;, &#39;9-EO2oCAGA4[2]&#39;, &#39;266396[23]&#39;, &#39;puum3vabpb4[12]&#39;, &#39;90wZz0thye4[8]&#39;, &#39;qFsGMA75-oQ[3]&#39;, &#39;oCsrnIomHos[2]&#39;, &#39;121128[10]&#39;, &#39;4dAYMzRyndc[6]&#39;, &#39;kiR5zVo2zvU[15]&#39;, &#39;RB3HA-ZMtFw[0]&#39;, &#39;7ifnoHhrMtA[3]&#39;, &#39;pvIQWWiT4-0[0]&#39;, &#39;80855[8]&#39;, &#39;he475nnmMi0[10]&#39;, &#39;EO_5o9Gup6g[15]&#39;, &#39;206507[13]&#39;, &#39;102858[4]&#39;, &#39;HByf7qiO-Kg[3]&#39;, &#39;223431[11]&#39;, &#39;238023[36]&#39;, &#39;72385[19]&#39;, &#39;Q_py5n2fQXw[2]&#39;, &#39;yUqNp-poh9M[4]&#39;, &#39;XblL7mcdDdg[0]&#39;, &#39;raQ9Pcgo-II[1]&#39;, &#39;b1LEcg6z66g[7]&#39;, &#39;JDgqyOkzXHw[3]&#39;, &#39;224599[7]&#39;, &#39;288766[8]&#39;, &#39;yp6Gd2NPwOU[3]&#39;, &#39;-wny0OAz3g8[1]&#39;, &#39;gAMbkJk6gnE[1]&#39;, &#39;202431[6]&#39;, &#39;bAkUEnPoucg[0]&#39;, &#39;H6ci6Myq8uI[0]&#39;, &#39;Z3fcd1wdzr0[1]&#39;, &#39;52839[1]&#39;, &#39;LUf9vbe0TcQ[0]&#39;, &#39;YWxvIFmYnNU[19]&#39;, &#39;k4T6GaDrcjs[8]&#39;, &#39;UfLMdSGGQVw[9]&#39;, &#39;2h9VVQUZjK0[12]&#39;, &#39;R9ypacCuEZo[4]&#39;, &#39;Emjv2cDzW1E[0]&#39;, &#39;224263[17]&#39;, &#39;c805Td8A_Ek[6]&#39;, &#39;257277[9]&#39;, &#39;L-7oRnbi9-w[0]&#39;, &#39;pf-78LF4ORE[17]&#39;, &#39;rz4Ax6xfZHQ[3]&#39;, &#39;Ceu9AkIjuLY[7]&#39;, &#39;uWW1ejwFURI[0]&#39;, &#39;IOpWjKAHG8Q[0]&#39;, &#39;260011[6]&#39;, &#39;ZaoFHcbRM9g[6]&#39;, &#39;273314[6]&#39;, &#39;24202[3]&#39;, &#39;106077[5]&#39;, &#39;224263[7]&#39;, &#39;OctOcfI4KSs[4]&#39;, &#39;gvjQ1XfMA_g[2]&#39;, &#39;K0m1tO3Ybyc[2]&#39;, &#39;139032[5]&#39;, &#39;bVhWpCvpSs4[5]&#39;, &#39;275620[19]&#39;, &#39;VzDXgBOe5iI[0]&#39;, &#39;MCRCXXPqFOI[8]&#39;, &#39;wHQYmMZzyJY[4]&#39;, &#39;JdFaSggG58c[2]&#39;, &#39;pnSRLB6anIM[4]&#39;, &#39;XyP8bVmGX6M[1]&#39;, &#39;121128[2]&#39;, &#39;267278[20]&#39;, &#39;zjYEBwXGD8I[8]&#39;, &#39;lwL4hjhkid4[1]&#39;, &#39;gZDyk95Xob4[7]&#39;, &#39;206051[1]&#39;, &#39;kiR5zVo2zvU[14]&#39;, &#39;JF-5nlUNx_g[19]&#39;, &#39;bNQOeiAotbk[6]&#39;, &#39;jcQi90n008o[2]&#39;, &#39;NVlxq3jxlAk[4]&#39;, &#39;92221[18]&#39;, &#39;vRydHjRzDX0[4]&#39;, &#39;89951[14]&#39;, &#39;TO5HjoK8Iu8[0]&#39;, &#39;81538[2]&#39;, &#39;-I_e4mIh0yE[0]&#39;, &#39;70710[1]&#39;, &#39;dYyg91d7zjY[1]&#39;, &#39;-lqc32Zpr7M[3]&#39;, &#39;8x81fzwcJko[1]&#39;, &#39;o4b7hjQwpv0[1]&#39;, &#39;113265[8]&#39;, &#39;260011[3]&#39;, &#39;GdFP_p4eQX0[0]&#39;, &#39;220548[0]&#39;, &#39;-HvKLjmsO5U[1]&#39;, &#39;70420[10]&#39;, &#39;189966[10]&#39;, &#39;213327[7]&#39;, &#39;mRPIse3OO74[1]&#39;, &#39;qEkFReBuwxc[7]&#39;, &#39;qrI7XCKRFNk[0]&#39;, &#39;FzxmeVRTjwU[2]&#39;, &#39;unOeTDc2rlY[7]&#39;, &#39;0FA32bEZ6xI[9]&#39;, &#39;2S00zYaVrtc[5]&#39;, &#39;gjSyl6evrWk[7]&#39;, &#39;244180[9]&#39;, &#39;2LpVvLemgvw[9]&#39;, &#39;BZOB3r5AoKE[1]&#39;, &#39;hASTLbFHrEs[4]&#39;, &#39;266396[94]&#39;, &#39;MFrwi-RibUk[7]&#39;, &#39;FHDVQkU-nGI[2]&#39;, &#39;72017[11]&#39;, &#39;270665[20]&#39;, &#39;dlE05KC95uk[8]&#39;, &#39;WZVfvgTeFPo[0]&#39;, &#39;eJfT7-dDqzA[2]&#39;, &#39;255408[6]&#39;, &#39;CZigX1ntOsI[12]&#39;, &#39;OEesmAnTpeA[3]&#39;, &#39;pDRdCSIyjkA[0]&#39;, &#39;NDMAVMZyISM[2]&#39;, &#39;132028[7]&#39;, &#39;lUNNDDsm7R8[0]&#39;, &#39;3j94B0pzSVs[1]&#39;, &#39;qJZlp9uxoTU[10]&#39;, &#39;IHp8hd1jm6k[1]&#39;, &#39;oANUXY3xXKM[1]&#39;, &#39;259470[9]&#39;, &#39;EQxkXiWAm08[1]&#39;, &#39;yHtR71rx16I[6]&#39;, &#39;pQpy7RSfWzM[7]&#39;, &#39;214095[7]&#39;, &#39;39lcRCFvV-s[32]&#39;, &#39;8YsIvz4qnk4[1]&#39;, &#39;192799[11]&#39;, &#39;r46amqjpWgg[20]&#39;, &#39;mgovo8VYtvk[0]&#39;, &#39;81668[1]&#39;, &#39;VwGPIUNayKM[0]&#39;, &#39;zhNksSReaQk[24]&#39;, &#39;UlTJmndbGHM[2]&#39;, &#39;218708[2]&#39;, &#39;WBCRTcMJZZc[3]&#39;, &#39;srbrWyZRMCI[3]&#39;, &#39;MKShLlJ7X7g[3]&#39;, &#39;MpuWcGn2Lcg[0]&#39;, &#39;N0pKIn6VhOw[2]&#39;, &#39;bDwAuRFciJM[7]&#39;, &#39;Rb1uzHNcYcA[2]&#39;, &#39;qkWdc-E6jGI[4]&#39;, &#39;IwQWibE8EOM[4]&#39;, &#39;RdExUaEIWIk[1]&#39;, &#39;QUpI5kMw_nA[2]&#39;, &#39;139032[3]&#39;, &#39;237363[10]&#39;, &#39;9PzZSheh10U[16]&#39;, &#39;125676[8]&#39;, &#39;288714[19]&#39;, &#39;uVM4JWjfGgQ[0]&#39;, &#39;YF3mDOuF46M[0]&#39;, &#39;taGs3-SMoYM[2]&#39;, &#39;kY64gXOapYk[4]&#39;, &#39;116213[11]&#39;, &#39;z7FicxE_pMU[0]&#39;, &#39;ahG9c_uaf8s[3]&#39;, &#39;50103[7]&#39;, &#39;49358[12]&#39;, &#39;wC_1M7KIv9s[17]&#39;, &#39;JwzxqrD8tIo[0]&#39;, &#39;-HwX2H8Z4hY[5]&#39;, &#39;79935[4]&#39;, &#39;241629[3]&#39;, &#39;fhY2vbnjuWY[3]&#39;, &#39;X0jMZoxUL2A[10]&#39;, &#39;ROC2YI3tDsk[2]&#39;, &#39;102858[8]&#39;, &#39;SGsiGz2fdpo[17]&#39;, &#39;LcfubBagG6Q[8]&#39;, &#39;j1m6ctAgjsM[36]&#39;, &#39;154449[13]&#39;, &#39;OEOkmrKvTUo[0]&#39;, &#39;Ceu9AkIjuLY[4]&#39;, &#39;XAgD-xoil40[4]&#39;, &#39;116213[8]&#39;, &#39;kCQqLNiO0mk[8]&#39;, &#39;QLEOYF7Mju0[6]&#39;, &#39;271594[28]&#39;, &#39;kg-W6-hP2Do[3]&#39;, &#39;121358[16]&#39;, &#39;JCg26b8EO48[8]&#39;, &#39;229967[0]&#39;, &#39;ahcAFnY6iAY[1]&#39;, &#39;273314[7]&#39;, &#39;EOkdFMw0pmk[9]&#39;, &#39;FfavRdRKsAQ[4]&#39;, &#39;iS91daVpH2E[5]&#39;, &#39;ngp7s5Wvde0[1]&#39;, &#39;qEkFReBuwxc[2]&#39;, &#39;298736[6]&#39;, &#39;IwQWibE8EOM[0]&#39;, &#39;89951[8]&#39;, &#39;gFAOKuqpUq4[0]&#39;, &#39;18QjfdhJEM4[18]&#39;, &#39;DdUJojoFU_c[11]&#39;, &#39;ejDe6hQWZOk[1]&#39;, &#39;206051[12]&#39;, &#39;N3vSaV8Ztrg[1]&#39;, &#39;zfZUOvZZTuk[17]&#39;, &#39;106941[0]&#39;, &#39;227173[10]&#39;, &#39;R7IkQVUuLew[5]&#39;, &#39;ET1cU5_A2YM[4]&#39;, &#39;PRZ4VhESz1A[3]&#39;, &#39;7BFhRPlSOf0[3]&#39;, &#39;lp9vkkimXqg[7]&#39;, &#39;cR_KQlNhoNE[2]&#39;, &#39;59333[0]&#39;, &#39;11j7EfglCAs[2]&#39;, &#39;87400[1]&#39;, &#39;194625[6]&#39;, &#39;112433[2]&#39;, &#39;auTpzciNgls[3]&#39;, &#39;I3SPlbTGuNc[9]&#39;, &#39;S9PDgK7fpJI[8]&#39;, &#39;212532[0]&#39;, &#39;272375[4]&#39;, &#39;70280[0]&#39;, &#39;YWxvIFmYnNU[0]&#39;, &#39;266791[11]&#39;, &#39;l8LTcZJ-_8k[20]&#39;, &#39;259470[12]&#39;, &#39;102389[2]&#39;, &#39;WoL4fCxGd8Q[5]&#39;, &#39;267799[18]&#39;, &#39;G4HMKRdIva0[15]&#39;, &#39;272624[11]&#39;, &#39;TBCjKGYBNIo[15]&#39;, &#39;MM2qPdnRmQ8[1]&#39;, &#39;AepwIhSbAws[0]&#39;, &#39;o6Cd9RmqdBc[0]&#39;, &#39;PyQrAYl1bFs[2]&#39;, &#39;277991[5]&#39;, &#39;38374[6]&#39;, &#39;B1B71X_SmwY[18]&#39;, &#39;O-b3DQg0QmA[2]&#39;, &#39;27798[14]&#39;, &#39;ctMCSUT2LlQ[7]&#39;, &#39;5vwXp27bCLw[8]&#39;, &#39;veA6ECsGFxI[1]&#39;, &#39;202826[0]&#39;, &#39;p7zuPEZgtY4[4]&#39;, &#39;yDIFWzOBjXc[17]&#39;, &#39;GRFXnnrQaB4[5]&#39;, &#39;266791[28]&#39;, &#39;i5bmKlHv-SA[0]&#39;, &#39;niX_m3aMxhQ[3]&#39;, &#39;b-FX9NOVQOM[1]&#39;, &#39;-t217m2on-s[1]&#39;, &#39;282586[25]&#39;, &#39;JGEEA_JVriE[3]&#39;, &#39;dsob2MgUPpA[4]&#39;, &#39;265959[12]&#39;, &#39;Ve-mmCM8TI0[9]&#39;, &#39;266938[0]&#39;, &#39;18QjfdhJEM4[2]&#39;, &#39;luQfWSfb1s0[11]&#39;, &#39;3j94B0pzSVs[0]&#39;, &#39;126831[10]&#39;, &#39;cW-aX4dPVfk[32]&#39;, &#39;2Wo-0trLBjU[5]&#39;, &#39;Fmwc7wkIc4Q[12]&#39;, &#39;aKPfbyW-Qxw[6]&#39;, &#39;8lfS97s2AKc[5]&#39;, &#39;J_DtcW86D9c[4]&#39;, &#39;51224[2]&#39;, &#39;9K5mYSaoBL4[3]&#39;, &#39;_bIJOxiIJFk[4]&#39;, &#39;RadU51t1kL0[2]&#39;, &#39;1W38PnuWIkM[2]&#39;, &#39;83400[9]&#39;, &#39;194299[4]&#39;, &#39;65kkuNV921k[3]&#39;, &#39;ChhZna-aBK4[12]&#39;, &#39;260011[16]&#39;, &#39;d0QNH2vcDgU[6]&#39;, &#39;107585[4]&#39;, &#39;24xayGF5yYA[13]&#39;, &#39;Cb8ay6WtJuM[9]&#39;, &#39;34346[0]&#39;, &#39;69824[5]&#39;, &#39;qmMSumMloAs[1]&#39;, &#39;RadU51t1kL0[7]&#39;, &#39;DtbT85s3i94[3]&#39;, &#39;276217[39]&#39;, &#39;Arh2TKRi_mg[8]&#39;, &#39;216007[22]&#39;, &#39;272375[0]&#39;, &#39;Na6170hd8po[2]&#39;, &#39;yOQHOiswVjc[4]&#39;, &#39;4wuug3-5cWo[10]&#39;, &#39;4WTVL5bNybU[1]&#39;, &#39;7ZzbemE4QEE[30]&#39;, &#39;XFJQJb0yaKY[0]&#39;, &#39;Q7S0tX4FUNA[3]&#39;, &#39;215318[6]&#39;, &#39;oyHKiX5YGDE[0]&#39;, &#39;238889[11]&#39;, &#39;eW1vgHE6FRM[2]&#39;, &#39;102858[1]&#39;, &#39;LpbSYaPRTqI[4]&#39;, &#39;rC29Qub0U7A[2]&#39;, &#39;227416[5]&#39;, &#39;xBE9YWYGjtk[8]&#39;, &#39;VbV9S4svrTg[13]&#39;, &#39;C5-cY1nPQ20[6]&#39;, &#39;gEgcpVY8WK4[8]&#39;, &#39;f6S2XNPIiFk[7]&#39;, &#39;mN1Z5xEOy10[1]&#39;, &#39;-wny0OAz3g8[8]&#39;, &#39;TBCjKGYBNIo[2]&#39;, &#39;245322[5]&#39;, &#39;255338[9]&#39;, &#39;24202[5]&#39;, &#39;L2uC4_Co9uw[0]&#39;, &#39;fz-MzQcOBwQ[11]&#39;, &#39;JHW3nD6flgU[3]&#39;, &#39;295793[3]&#39;, &#39;236021[6]&#39;, &#39;101787[12]&#39;, &#39;hawztAtYHCE[0]&#39;, &#39;282560[17]&#39;, &#39;KPeos6f4HuQ[3]&#39;, &#39;R9ypacCuEZo[2]&#39;, &#39;21137[0]&#39;, &#39;257045[12]&#39;, &#39;288714[8]&#39;, &#39;2vsgDSlJ9pU[0]&#39;, &#39;TH32jop4FiI[9]&#39;, &#39;75938[9]&#39;, &#39;201582[1]&#39;, &#39;201582[9]&#39;, &#39;xjsaS-LeZ14[1]&#39;, &#39;45186[1]&#39;, &#39;GAVpYuhMZAw[8]&#39;, &#39;HJTxq72GuMs[1]&#39;, &#39;TXCXFYIc3Yo[6]&#39;]\n"
    }
   ],
   "source": [
    "# obtain the train/dev/test splits - these splits are based on video IDs\n",
    "#train_split = DATASET.standard_folds.standard_train_fold\n",
    "#dev_split = DATASET.standard_folds.standard_valid_fold\n",
    "#test_split = DATASET.standard_folds.standard_test_fold\n",
    "\n",
    "import math\n",
    "import random\n",
    "\n",
    "identifiers = list(dataset[label_field].keys())\n",
    "#print(identifiers[:10])\n",
    "random.shuffle(identifiers)\n",
    "print(len(identifiers))\n",
    "\n",
    "train_index = math.floor(len(identifiers)*0.8)\n",
    "dev_index = math.floor(len(identifiers)*0.85)\n",
    "#print(train_index)\n",
    "#print(dev_index)\n",
    "\n",
    "train_split = identifiers[:train_index]\n",
    "dev_split = identifiers[train_index:dev_index]\n",
    "test_split = identifiers[dev_index:]\n",
    "\n",
    "# inspect the splits: they only contain video IDs\n",
    "print(test_split)"
   ]
  },
  {
   "source": [
    "# we can see they are in the format of 'video_id[segment_no]', but the splits was specified with video_id only\n",
    "# we need to use regex or something to match the video IDs...\n",
    "import torch\n",
    "import torch.nn as nn\n",
    "\n",
    "from torch.nn.utils.rnn import pad_sequence, pack_padded_sequence, pad_packed_sequence\n",
    "from torch.utils.data import DataLoader, Dataset\n",
    "from tqdm import tqdm_notebook\n",
    "from collections import defaultdict\n",
    "\n",
    "# a sentinel epsilon for safe division, without it we will replace illegal values with a constant\n",
    "EPS = 0\n",
    "\n",
    "# construct a word2id mapping that automatically takes increment when new words are encountered\n",
    "word2id = defaultdict(lambda: len(word2id))\n",
    "sep = word2id['[SEP]']\n",
    "cls = word2id['[CLS]']\n",
    "\n",
    "# place holders for the final train/dev/test dataset\n",
    "train = []\n",
    "dev = []\n",
    "test = []\n",
    "\n",
    "# define a regular expression to extract the video ID out of the keys\n",
    "pattern = re.compile('(.*)\\[.*\\]')\n",
    "num_drop = 0 # a counter to count how many data points went into some processing issues\n",
    "\n",
    "for segment in dataset[label_field].keys():\n",
    "\n",
    "    print(segment)\n",
    "    \n",
    "    # get the video ID and the features out of the aligned dataset\n",
    "    vid = re.search(pattern, segment).group(1)\n",
    "    label = dataset[label_field][segment]['features']\n",
    "    #_words = dataset[text_field][segment]['features']\n",
    "    _words = dataset[word_field][vid]['features']\n",
    "    _visual = dataset[visual_field][segment]['features']\n",
    "    _acoustic = dataset[acoustic_field][segment]['features']\n",
    "\n",
    "    #print(label.shape)\n",
    "    #print(_words.shape)\n",
    "    #print(_visual.shape)\n",
    "    #print(_acoustic.shape)\n",
    "\n",
    "    # if the sequences are not same length after alignment, there must be some problem with some modalities\n",
    "    # we should drop it or inspect the data again\n",
    "    #if not _words.shape[0] == _visual.shape[0] == _acoustic.shape[0]:\n",
    "    #    print(f\"Encountered datapoint {vid} with text shape {_words.shape}, visual shape {_visual.shape}, acoustic shape {_acoustic.shape}\")\n",
    "    #    num_drop += 1\n",
    "    #    continue\n",
    "\n",
    "    # remove nan values\n",
    "    label = np.nan_to_num(label)\n",
    "    _visual = np.nan_to_num(_visual)\n",
    "    _acoustic = np.nan_to_num(_acoustic)\n",
    "\n",
    "    print(label.shape)\n",
    "    print(_words.shape)\n",
    "    print(_visual.shape)\n",
    "    print(_acoustic.shape)\n",
    "\n",
    "    # remove speech pause tokens - this is in general helpful\n",
    "    # we should remove speech pauses and corresponding visual/acoustic features together\n",
    "    # otherwise modalities would no longer be aligned\n",
    "    words = []\n",
    "    visual = []\n",
    "    acoustic = []\n",
    "    for i, word in enumerate(_words):\n",
    "        #if word[0] != b'sp':\n",
    "        #print(len(_words))\n",
    "        #print(word[0])\n",
    "        words.append(word2id[word[0].decode('utf-8')]) # SDK stores strings as bytes, decode into strings here\n",
    "        #words.append(word2id[word[0]])\n",
    "\n",
    "    words.append(word2id['[SEP]'])\n",
    "    words.append(word2id['[CLS]'])\n",
    "    visual.append(_visual)\n",
    "    acoustic.append(_acoustic)\n",
    "\n",
    "    words = np.asarray(words)\n",
    "    visual = np.asarray(visual)\n",
    "    acoustic = np.asarray(acoustic)\n",
    "\n",
    "    # z-normalization per instance and remove nan/infs\n",
    "    visual = np.nan_to_num((visual - visual.mean(0, keepdims=True)) / (EPS + np.std(visual, axis=0, keepdims=True)))\n",
    "    acoustic = np.nan_to_num((acoustic - acoustic.mean(0, keepdims=True)) / (EPS + np.std(acoustic, axis=0, keepdims=True)))\n",
    "\n",
    "    if segment in train_split:\n",
    "        train.append(((words, visual, acoustic), label, segment))\n",
    "    elif segment in dev_split:\n",
    "        dev.append(((words, visual, acoustic), label, segment))\n",
    "    elif segment in test_split:\n",
    "        test.append(((words, visual, acoustic), label, segment))\n",
    "    else:\n",
    "        print(f\"Found video that doesn't belong to any splits: {vid}\")\n",
    "\n",
    "    #input('Enter: ')\n",
    "\n",
    "print(f\"Total number of {num_drop} datapoints have been dropped.\")\n",
    "\n",
    "# turn off the word2id - define a named function here to allow for pickling\n",
    "def return_unk():\n",
    "    return UNK\n",
    "word2id.default_factory = return_unk"
   ],
   "cell_type": "code",
   "metadata": {
    "tags": [
     "outputPrepend"
    ]
   },
   "execution_count": 16,
   "outputs": [
    {
     "output_type": "stream",
     "name": "stdout",
     "text": "ts: -bl5PfNIYrk\n-cEhr0cQcDM[0]\n(1, 7)\n(313, 1)\n(245, 35)\n(762, 74)\nFound video that doesn&#39;t belong to any splits: -cEhr0cQcDM\n-cEhr0cQcDM[1]\n(1, 7)\n(313, 1)\n(244, 35)\n(742, 74)\nFound video that doesn&#39;t belong to any splits: -cEhr0cQcDM\n-cmk6cfUeMs[0]\n(1, 7)\n(59, 1)\n(111, 35)\n(424, 74)\nFound video that doesn&#39;t belong to any splits: -cmk6cfUeMs\n-cmk6cfUeMs[1]\n(1, 7)\n(59, 1)\n(387, 35)\n(1475, 74)\nFound video that doesn&#39;t belong to any splits: -cmk6cfUeMs\n-dZ1TCboxcQ[0]\n(1, 7)\n(184, 1)\n(275, 35)\n(1006, 74)\nFound video that doesn&#39;t belong to any splits: -dZ1TCboxcQ\n-dZ1TCboxcQ[1]\n(1, 7)\n(184, 1)\n(151, 35)\n(560, 74)\nFound video that doesn&#39;t belong to any splits: -dZ1TCboxcQ\n-dZ1TCboxcQ[2]\n(1, 7)\n(184, 1)\n(225, 35)\n(823, 74)\nFound video that doesn&#39;t belong to any splits: -dZ1TCboxcQ\n-dZ1TCboxcQ[3]\n(1, 7)\n(184, 1)\n(282, 35)\n(1027, 74)\nFound video that doesn&#39;t belong to any splits: -dZ1TCboxcQ\n-dxfTGcXJoc[0]\n(1, 7)\n(342, 1)\n(657, 35)\n(2084, 74)\nFound video that doesn&#39;t belong to any splits: -dxfTGcXJoc\n-dxfTGcXJoc[1]\n(1, 7)\n(342, 1)\n(523, 35)\n(1645, 74)\nFound video that doesn&#39;t belong to any splits: -dxfTGcXJoc\n-dxfTGcXJoc[2]\n(1, 7)\n(342, 1)\n(538, 35)\n(1703, 74)\nFound video that doesn&#39;t belong to any splits: -dxfTGcXJoc\n-dxfTGcXJoc[3]\n(1, 7)\n(342, 1)\n(324, 35)\n(1015, 74)\nFound video that doesn&#39;t belong to any splits: -dxfTGcXJoc\n-dxfTGcXJoc[4]\n(1, 7)\n(342, 1)\n(167, 35)\n(522, 74)\nFound video that doesn&#39;t belong to any splits: -dxfTGcXJoc\n-dxfTGcXJoc[5]\n(1, 7)\n(342, 1)\n(334, 35)\n(1042, 74)\nFound video that doesn&#39;t belong to any splits: -dxfTGcXJoc\n-dxfTGcXJoc[6]\n(1, 7)\n(342, 1)\n(413, 35)\n(1295, 74)\nFound video that doesn&#39;t belong to any splits: -dxfTGcXJoc\n-dxfTGcXJoc[7]\n(1, 7)\n(342, 1)\n(352, 35)\n(1109, 74)\nFound video that doesn&#39;t belong to any splits: -dxfTGcXJoc\n-egA8-b7-3M[0]\n(1, 7)\n(581, 1)\n(330, 35)\n(1040, 74)\nFound video that doesn&#39;t belong to any splits: -egA8-b7-3M\n-egA8-b7-3M[10]\n(1, 7)\n(581, 1)\n(177, 35)\n(560, 74)\nFound video that doesn&#39;t belong to any splits: -egA8-b7-3M\n-egA8-b7-3M[11]\n(1, 7)\n(581, 1)\n(875, 35)\n(2749, 74)\nFound video that doesn&#39;t belong to any splits: -egA8-b7-3M\n-egA8-b7-3M[12]\n(1, 7)\n(581, 1)\n(197, 35)\n(610, 74)\nFound video that doesn&#39;t belong to any splits: -egA8-b7-3M\n-egA8-b7-3M[13]\n(1, 7)\n(581, 1)\n(242, 35)\n(748, 74)\nFound video that doesn&#39;t belong to any splits: -egA8-b7-3M\n-egA8-b7-3M[14]\n(1, 7)\n(581, 1)\n(247, 35)\n(766, 74)\nFound video that doesn&#39;t belong to any splits: -egA8-b7-3M\n-egA8-b7-3M[15]\n(1, 7)\n(581, 1)\n(200, 35)\n(631, 74)\nFound video that doesn&#39;t belong to any splits: -egA8-b7-3M\n-egA8-b7-3M[16]\n(1, 7)\n(581, 1)\n(161, 35)\n(506, 74)\nFound video that doesn&#39;t belong to any splits: -egA8-b7-3M\n-egA8-b7-3M[1]\n(1, 7)\n(581, 1)\n(348, 35)\n(1094, 74)\nFound video that doesn&#39;t belong to any splits: -egA8-b7-3M\n-egA8-b7-3M[2]\n(1, 7)\n(581, 1)\n(135, 35)\n(416, 74)\nFound video that doesn&#39;t belong to any splits: -egA8-b7-3M\n-egA8-b7-3M[3]\n(1, 7)\n(581, 1)\n(255, 35)\n(784, 74)\nFound video that doesn&#39;t belong to any splits: -egA8-b7-3M\n-egA8-b7-3M[4]\n(1, 7)\n(581, 1)\n(177, 35)\n(559, 74)\nFound video that doesn&#39;t belong to any splits: -egA8-b7-3M\n-egA8-b7-3M[5]\n(1, 7)\n(581, 1)\n(233, 35)\n(728, 74)\nFound video that doesn&#39;t belong to any splits: -egA8-b7-3M\n-egA8-b7-3M[6]\n(1, 7)\n(581, 1)\n(273, 35)\n(851, 74)\nFound video that doesn&#39;t belong to any splits: -egA8-b7-3M\n-egA8-b7-3M[7]\n(1, 7)\n(581, 1)\n(217, 35)\n(683, 74)\nFound video that doesn&#39;t belong to any splits: -egA8-b7-3M\n-egA8-b7-3M[8]\n(1, 7)\n(581, 1)\n(217, 35)\n(669, 74)\nFound video that doesn&#39;t belong to any splits: -egA8-b7-3M\n-egA8-b7-3M[9]\n(1, 7)\n(581, 1)\n(227, 35)\n(702, 74)\nFound video that doesn&#39;t belong to any splits: -egA8-b7-3M\n-hPfPhUIzfA[0]\n(1, 7)\n(213, 1)\n(548, 35)\n(1697, 74)\nFound video that doesn&#39;t belong to any splits: -hPfPhUIzfA\n-hPfPhUIzfA[1]\n(1, 7)\n(213, 1)\n(154, 35)\n(471, 74)\nFound video that doesn&#39;t belong to any splits: -hPfPhUIzfA\n-hPfPhUIzfA[2]\n(1, 7)\n(213, 1)\n(169, 35)\n(527, 74)\nFound video that doesn&#39;t belong to any splits: -hPfPhUIzfA\n-hPfPhUIzfA[3]\n(1, 7)\n(213, 1)\n(239, 35)\n(746, 74)\nFound video that doesn&#39;t belong to any splits: -hPfPhUIzfA\n-hnBHBN8p5A[0]\n(1, 7)\n(145, 1)\n(61, 35)\n(225, 74)\nFound video that doesn&#39;t belong to any splits: -hnBHBN8p5A\n-hnBHBN8p5A[1]\n(1, 7)\n(145, 1)\n(170, 35)\n(650, 74)\nFound video that doesn&#39;t belong to any splits: -hnBHBN8p5A\n-hnBHBN8p5A[2]\n(1, 7)\n(145, 1)\n(194, 35)\n(749, 74)\nFound video that doesn&#39;t belong to any splits: -hnBHBN8p5A\n-hnBHBN8p5A[3]\n(1, 7)\n(145, 1)\n(156, 35)\n(579, 74)\nFound video that doesn&#39;t belong to any splits: -hnBHBN8p5A\n-hnBHBN8p5A[4]\n(1, 7)\n(145, 1)\n(199, 35)\n(785, 74)\nFound video that doesn&#39;t belong to any splits: -hnBHBN8p5A\n-iRBcNs9oI8[0]\n(1, 7)\n(138, 1)\n(261, 35)\n(821, 74)\nFound video that doesn&#39;t belong to any splits: -iRBcNs9oI8\n-iRBcNs9oI8[1]\n(1, 7)\n(138, 1)\n(174, 35)\n(543, 74)\nFound video that doesn&#39;t belong to any splits: -iRBcNs9oI8\n-iRBcNs9oI8[2]\n(1, 7)\n(138, 1)\n(127, 35)\n(398, 74)\nFound video that doesn&#39;t belong to any splits: -iRBcNs9oI8\n-iRBcNs9oI8[3]\n(1, 7)\n(138, 1)\n(105, 35)\n(319, 74)\nFound video that doesn&#39;t belong to any splits: -iRBcNs9oI8\n-iRBcNs9oI8[4]\n(1, 7)\n(138, 1)\n(178, 35)\n(565, 74)\nFound video that doesn&#39;t belong to any splits: -iRBcNs9oI8\n-iRBcNs9oI8[5]\n(1, 7)\n(138, 1)\n(137, 35)\n(425, 74)\nFound video that doesn&#39;t belong to any splits: -iRBcNs9oI8\n-iRBcNs9oI8[6]\n(1, 7)\n(138, 1)\n(93, 35)\n(291, 74)\nFound video that doesn&#39;t belong to any splits: -iRBcNs9oI8\n-iRBcNs9oI8[7]\n(1, 7)\n(138, 1)\n(132, 35)\n(412, 74)\nFound video that doesn&#39;t belong to any splits: -iRBcNs9oI8\n-iRBcNs9oI8[8]\n(1, 7)\n(138, 1)\n(265, 35)\n(827, 74)\nFound video that doesn&#39;t belong to any splits: -iRBcNs9oI8\n-iRBcNs9oI8[9]\n(1, 7)\n(138, 1)\n(109, 35)\n(344, 74)\nFound video that doesn&#39;t belong to any splits: -iRBcNs9oI8\n-l_53IwQoj0[0]\n(1, 7)\n(177, 1)\n(207, 35)\n(641, 74)\nFound video that doesn&#39;t belong to any splits: -l_53IwQoj0\n-lqc32Zpr7M[0]\n(1, 7)\n(324, 1)\n(174, 35)\n(531, 74)\nFound video that doesn&#39;t belong to any splits: -lqc32Zpr7M\n-lqc32Zpr7M[1]\n(1, 7)\n(324, 1)\n(308, 35)\n(942, 74)\nFound video that doesn&#39;t belong to any splits: -lqc32Zpr7M\n-lqc32Zpr7M[2]\n(1, 7)\n(324, 1)\n(300, 35)\n(928, 74)\nFound video that doesn&#39;t belong to any splits: -lqc32Zpr7M\n-lqc32Zpr7M[3]\n(1, 7)\n(324, 1)\n(177, 35)\n(551, 74)\nFound video that doesn&#39;t belong to any splits: -lqc32Zpr7M\n-lzEya4AM_4[0]\n(1, 7)\n(353, 1)\n(250, 35)\n(765, 74)\nFound video that doesn&#39;t belong to any splits: -lzEya4AM_4\n-lzEya4AM_4[1]\n(1, 7)\n(353, 1)\n(251, 35)\n(779, 74)\nFound video that doesn&#39;t belong to any splits: -lzEya4AM_4\n-lzEya4AM_4[2]\n(1, 7)\n(353, 1)\n(493, 35)\n(1524, 74)\nFound video that doesn&#39;t belong to any splits: -lzEya4AM_4\n-lzEya4AM_4[3]\n(1, 7)\n(353, 1)\n(148, 35)\n(453, 74)\nFound video that doesn&#39;t belong to any splits: -lzEya4AM_4\n-lzEya4AM_4[4]\n(1, 7)\n(353, 1)\n(496, 35)\n(1541, 74)\nFound video that doesn&#39;t belong to any splits: -lzEya4AM_4\n-m9KtvCk_L8[0]\n(1, 7)\n(308, 1)\n(187, 35)\n(564, 74)\nFound video that doesn&#39;t belong to any splits: -m9KtvCk_L8\n-m9KtvCk_L8[1]\n(1, 7)\n(308, 1)\n(95, 35)\n(287, 74)\nFound video that doesn&#39;t belong to any splits: -m9KtvCk_L8\n-m9KtvCk_L8[2]\n(1, 7)\n(308, 1)\n(156, 35)\n(483, 74)\nFound video that doesn&#39;t belong to any splits: -m9KtvCk_L8\n-mJ2ud6oKI8[0]\n(1, 7)\n(212, 1)\n(199, 35)\n(622, 74)\nFound video that doesn&#39;t belong to any splits: -mJ2ud6oKI8\n-mJ2ud6oKI8[1]\n(1, 7)\n(212, 1)\n(185, 35)\n(584, 74)\nFound video that doesn&#39;t belong to any splits: -mJ2ud6oKI8\n-mJ2ud6oKI8[2]\n(1, 7)\n(212, 1)\n(187, 35)\n(572, 74)\nFound video that doesn&#39;t belong to any splits: -mJ2ud6oKI8\n-mJ2ud6oKI8[3]\n(1, 7)\n(212, 1)\n(221, 35)\n(676, 74)\nFound video that doesn&#39;t belong to any splits: -mJ2ud6oKI8\n-mJ2ud6oKI8[4]\n(1, 7)\n(212, 1)\n(160, 35)\n(495, 74)\nFound video that doesn&#39;t belong to any splits: -mJ2ud6oKI8\n-mJ2ud6oKI8[5]\n(1, 7)\n(212, 1)\n(79, 35)\n(234, 74)\nFound video that doesn&#39;t belong to any splits: -mJ2ud6oKI8\n-mJ2ud6oKI8[6]\n(1, 7)\n(212, 1)\n(123, 35)\n(378, 74)\nFound video that doesn&#39;t belong to any splits: -mJ2ud6oKI8\n-mJ2ud6oKI8[7]\n(1, 7)\n(212, 1)\n(141, 35)\n(432, 74)\nFound video that doesn&#39;t belong to any splits: -mJ2ud6oKI8\n-mJ2ud6oKI8[8]\n(1, 7)\n(212, 1)\n(236, 35)\n(720, 74)\nFound video that doesn&#39;t belong to any splits: -mJ2ud6oKI8\n-mqbVkbCndg[0]\n(1, 7)\n(164, 1)\n(206, 35)\n(650, 74)\nFound video that doesn&#39;t belong to any splits: -mqbVkbCndg\n-mqbVkbCndg[1]\n(1, 7)\n(164, 1)\n(107, 35)\n(333, 74)\nFound video that doesn&#39;t belong to any splits: -mqbVkbCndg\n-mqbVkbCndg[2]\n(1, 7)\n(164, 1)\n(220, 35)\n(684, 74)\nFound video that doesn&#39;t belong to any splits: -mqbVkbCndg\n-o_667Ny7RM[0]\n(1, 7)\n(121, 1)\n(156, 35)\n(578, 74)\nFound video that doesn&#39;t belong to any splits: -o_667Ny7RM\n-qDkUB0GgYY[0]\n(1, 7)\n(260, 1)\n(585, 35)\n(1794, 74)\nFound video that doesn&#39;t belong to any splits: -qDkUB0GgYY\n-qDkUB0GgYY[1]\n(1, 7)\n(260, 1)\n(162, 35)\n(483, 74)\nFound video that doesn&#39;t belong to any splits: -qDkUB0GgYY\n-qDkUB0GgYY[2]\n(1, 7)\n(260, 1)\n(291, 35)\n(896, 74)\nFound video that doesn&#39;t belong to any splits: -qDkUB0GgYY\n-qMhGeJkp5o[0]\n(1, 7)\n(334, 1)\n(348, 35)\n(1072, 74)\nFound video that doesn&#39;t belong to any splits: -qMhGeJkp5o\n-qMhGeJkp5o[1]\n(1, 7)\n(334, 1)\n(269, 35)\n(845, 74)\nFound video that doesn&#39;t belong to any splits: -qMhGeJkp5o\n-qMhGeJkp5o[2]\n(1, 7)\n(334, 1)\n(315, 35)\n(978, 74)\nFound video that doesn&#39;t belong to any splits: -qMhGeJkp5o\n-qMhGeJkp5o[3]\n(1, 7)\n(334, 1)\n(259, 35)\n(820, 74)\nFound video that doesn&#39;t belong to any splits: -qMhGeJkp5o\n-qMhGeJkp5o[4]\n(1, 7)\n(334, 1)\n(450, 35)\n(1412, 74)\nFound video that doesn&#39;t belong to any splits: -qMhGeJkp5o\n-qMhGeJkp5o[5]\n(1, 7)\n(334, 1)\n(181, 35)\n(551, 74)\nFound video that doesn&#39;t belong to any splits: -qMhGeJkp5o\n-qMhGeJkp5o[6]\n(1, 7)\n(334, 1)\n(182, 35)\n(563, 74)\nFound video that doesn&#39;t belong to any splits: -qMhGeJkp5o\n-qMhGeJkp5o[7]\n(1, 7)\n(334, 1)\n(189, 35)\n(598, 74)\nFound video that doesn&#39;t belong to any splits: -qMhGeJkp5o\n-qMhGeJkp5o[8]\n(1, 7)\n(334, 1)\n(108, 35)\n(325, 74)\nFound video that doesn&#39;t belong to any splits: -qMhGeJkp5o\n-ri04Z7vwnc[0]\n(1, 7)\n(218, 1)\n(90, 35)\n(335, 74)\nFound video that doesn&#39;t belong to any splits: -ri04Z7vwnc\n-ri04Z7vwnc[1]\n(1, 7)\n(218, 1)\n(139, 35)\n(522, 74)\nFound video that doesn&#39;t belong to any splits: -ri04Z7vwnc\n-ri04Z7vwnc[2]\n(1, 7)\n(218, 1)\n(164, 35)\n(613, 74)\nFound video that doesn&#39;t belong to any splits: -ri04Z7vwnc\n-ri04Z7vwnc[3]\n(1, 7)\n(218, 1)\n(94, 35)\n(354, 74)\nFound video that doesn&#39;t belong to any splits: -ri04Z7vwnc\n-ri04Z7vwnc[4]\n(1, 7)\n(218, 1)\n(295, 35)\n(1118, 74)\nFound video that doesn&#39;t belong to any splits: -ri04Z7vwnc\n-ri04Z7vwnc[5]\n(1, 7)\n(218, 1)\n(186, 35)\n(686, 74)\nFound video that doesn&#39;t belong to any splits: -ri04Z7vwnc\n-rxZxtG0xmY[0]\n(1, 7)\n(179, 1)\n(361, 35)\n(1142, 74)\nFound video that doesn&#39;t belong to any splits: -rxZxtG0xmY\n-rxZxtG0xmY[1]\n(1, 7)\n(179, 1)\n(296, 35)\n(919, 74)\nFound video that doesn&#39;t belong to any splits: -rxZxtG0xmY\n-s9qJ7ATP7w[0]\n(1, 7)\n(261, 1)\n(232, 35)\n(700, 74)\nFound video that doesn&#39;t belong to any splits: -s9qJ7ATP7w\n-s9qJ7ATP7w[1]\n(1, 7)\n(261, 1)\n(157, 35)\n(481, 74)\nFound video that doesn&#39;t belong to any splits: -s9qJ7ATP7w\n-s9qJ7ATP7w[2]\n(1, 7)\n(261, 1)\n(162, 35)\n(493, 74)\nFound video that doesn&#39;t belong to any splits: -s9qJ7ATP7w\n-s9qJ7ATP7w[3]\n(1, 7)\n(261, 1)\n(195, 35)\n(591, 74)\nFound video that doesn&#39;t belong to any splits: -s9qJ7ATP7w\n-s9qJ7ATP7w[4]\n(1, 7)\n(261, 1)\n(142, 35)\n(439, 74)\nFound video that doesn&#39;t belong to any splits: -s9qJ7ATP7w\n-s9qJ7ATP7w[5]\n(1, 7)\n(261, 1)\n(281, 35)\n(868, 74)\nFound video that doesn&#39;t belong to any splits: -s9qJ7ATP7w\n-s9qJ7ATP7w[6]\n(1, 7)\n(261, 1)\n(82, 35)\n(244, 74)\nFound video that doesn&#39;t belong to any splits: -s9qJ7ATP7w\n-s9qJ7ATP7w[7]\n(1, 7)\n(261, 1)\n(241, 35)\n(719, 74)\nFound video that doesn&#39;t belong to any splits: -s9qJ7ATP7w\n-s9qJ7ATP7w[8]\n(1, 7)\n(261, 1)\n(114, 35)\n(337, 74)\nFound video that doesn&#39;t belong to any splits: -s9qJ7ATP7w\n-s9qJ7ATP7w[9]\n(1, 7)\n(261, 1)\n(257, 35)\n(776, 74)\nFound video that doesn&#39;t belong to any splits: -s9qJ7ATP7w\n-t217m2on-s[0]\n(1, 7)\n(218, 1)\n(184, 35)\n(577, 74)\nFound video that doesn&#39;t belong to any splits: -t217m2on-s\n-t217m2on-s[1]\n(1, 7)\n(218, 1)\n(563, 35)\n(1753, 74)\nFound video that doesn&#39;t belong to any splits: -t217m2on-s\n-tANM6ETl_M[0]\n(1, 7)\n(209, 1)\n(362, 35)\n(1133, 74)\nFound video that doesn&#39;t belong to any splits: -tANM6ETl_M\n-tANM6ETl_M[1]\n(1, 7)\n(209, 1)\n(223, 35)\n(685, 74)\nFound video that doesn&#39;t belong to any splits: -tANM6ETl_M\n-tANM6ETl_M[2]\n(1, 7)\n(209, 1)\n(753, 35)\n(2350, 74)\nFound video that doesn&#39;t belong to any splits: -tANM6ETl_M\n-tPCytz4rww[0]\n(1, 7)\n(387, 1)\n(158, 35)\n(485, 74)\nFound video that doesn&#39;t belong to any splits: -tPCytz4rww\n-tPCytz4rww[1]\n(1, 7)\n(387, 1)\n(184, 35)\n(559, 74)\nFound video that doesn&#39;t belong to any splits: -tPCytz4rww\n-tPCytz4rww[2]\n(1, 7)\n(387, 1)\n(388, 35)\n(1209, 74)\nFound video that doesn&#39;t belong to any splits: -tPCytz4rww\n-tPCytz4rww[3]\n(1, 7)\n(387, 1)\n(239, 35)\n(738, 74)\nFound video that doesn&#39;t belong to any splits: -tPCytz4rww\n-tPCytz4rww[4]\n(1, 7)\n(387, 1)\n(219, 35)\n(678, 74)\nFound video that doesn&#39;t belong to any splits: -tPCytz4rww\n-tPCytz4rww[5]\n(1, 7)\n(387, 1)\n(128, 35)\n(385, 74)\nFound video that doesn&#39;t belong to any splits: -tPCytz4rww\n-uywlfIYOS8[0]\n(1, 7)\n(208, 1)\n(200, 35)\n(611, 74)\nFound video that doesn&#39;t belong to any splits: -uywlfIYOS8\n-uywlfIYOS8[1]\n(1, 7)\n(208, 1)\n(417, 35)\n(1286, 74)\nFound video that doesn&#39;t belong to any splits: -uywlfIYOS8\n-vxjVxOeScU[0]\n(1, 7)\n(226, 1)\n(219, 35)\n(683, 74)\nFound video that doesn&#39;t belong to any splits: -vxjVxOeScU\n-vxjVxOeScU[1]\n(1, 7)\n(226, 1)\n(298, 35)\n(930, 74)\nFound video that doesn&#39;t belong to any splits: -vxjVxOeScU\n-vxjVxOeScU[2]\n(1, 7)\n(226, 1)\n(454, 35)\n(1415, 74)\nFound video that doesn&#39;t belong to any splits: -vxjVxOeScU\n-wMB_hJL-3o[0]\n(1, 7)\n(269, 1)\n(243, 35)\n(748, 74)\nFound video that doesn&#39;t belong to any splits: -wMB_hJL-3o\n-wMB_hJL-3o[1]\n(1, 7)\n(269, 1)\n(311, 35)\n(960, 74)\nFound video that doesn&#39;t belong to any splits: -wMB_hJL-3o\n-wMB_hJL-3o[2]\n(1, 7)\n(269, 1)\n(369, 35)\n(1162, 74)\nFound video that doesn&#39;t belong to any splits: -wMB_hJL-3o\n-wMB_hJL-3o[3]\n(1, 7)\n(269, 1)\n(205, 35)\n(623, 74)\nFound video that doesn&#39;t belong to any splits: -wMB_hJL-3o\n-wdUIwjDMfg[0]\n(1, 7)\n(214, 1)\n(975, 35)\n(3121, 74)\nFound video that doesn&#39;t belong to any splits: -wdUIwjDMfg\n-wny0OAz3g8[0]\n(1, 7)\n(229, 1)\n(109, 35)\n(336, 74)\nFound video that doesn&#39;t belong to any splits: -wny0OAz3g8\n-wny0OAz3g8[1]\n(1, 7)\n(229, 1)\n(232, 35)\n(705, 74)\nFound video that doesn&#39;t belong to any splits: -wny0OAz3g8\n-wny0OAz3g8[2]\n(1, 7)\n(229, 1)\n(225, 35)\n(681, 74)\nFound video that doesn&#39;t belong to any splits: -wny0OAz3g8\n-wny0OAz3g8[3]\n(1, 7)\n(229, 1)\n(207, 35)\n(632, 74)\nFound video that doesn&#39;t belong to any splits: -wny0OAz3g8\n-wny0OAz3g8[4]\n(1, 7)\n(229, 1)\n(149, 35)\n(462, 74)\nFound video that doesn&#39;t belong to any splits: -wny0OAz3g8\n-wny0OAz3g8[5]\n(1, 7)\n(229, 1)\n(224, 35)\n(694, 74)\nFound video that doesn&#39;t belong to any splits: -wny0OAz3g8\n-wny0OAz3g8[6]\n(1, 7)\n(229, 1)\n(274, 35)\n(826, 74)\nFound video that doesn&#39;t belong to any splits: -wny0OAz3g8\n-wny0OAz3g8[7]\n(1, 7)\n(229, 1)\n(177, 35)\n(538, 74)\nFound video that doesn&#39;t belong to any splits: -wny0OAz3g8\n-wny0OAz3g8[8]\n(1, 7)\n(229, 1)\n(207, 35)\n(629, 74)\nFound video that doesn&#39;t belong to any splits: -wny0OAz3g8\n-yRb-Jum7EQ[0]\n(1, 7)\n(204, 1)\n(944, 35)\n(2981, 74)\nFound video that doesn&#39;t belong to any splits: -yRb-Jum7EQ\n-yRb-Jum7EQ[1]\n(1, 7)\n(204, 1)\n(299, 35)\n(941, 74)\nFound video that doesn&#39;t belong to any splits: -yRb-Jum7EQ\n-yRb-Jum7EQ[2]\n(1, 7)\n(204, 1)\n(237, 35)\n(742, 74)\nFound video that doesn&#39;t belong to any splits: -yRb-Jum7EQ\n-yRb-Jum7EQ[3]\n(1, 7)\n(204, 1)\n(425, 35)\n(1337, 74)\nFound video that doesn&#39;t belong to any splits: -yRb-Jum7EQ\n-yRb-Jum7EQ[4]\n(1, 7)\n(204, 1)\n(363, 35)\n(1151, 74)\nFound video that doesn&#39;t belong to any splits: -yRb-Jum7EQ\n03X1FwF6udc[0]\n(1, 7)\n(700, 1)\n(346, 35)\n(1049, 74)\nFound video that doesn&#39;t belong to any splits: 03X1FwF6udc\n03X1FwF6udc[1]\n(1, 7)\n(700, 1)\n(124, 35)\n(364, 74)\nFound video that doesn&#39;t belong to any splits: 03X1FwF6udc\n03X1FwF6udc[2]\n(1, 7)\n(700, 1)\n(163, 35)\n(486, 74)\nFound video that doesn&#39;t belong to any splits: 03X1FwF6udc\n03X1FwF6udc[3]\n(1, 7)\n(700, 1)\n(312, 35)\n(965, 74)\nFound video that doesn&#39;t belong to any splits: 03X1FwF6udc\n03X1FwF6udc[4]\n(1, 7)\n(700, 1)\n(334, 35)\n(1005, 74)\nFound video that doesn&#39;t belong to any splits: 03X1FwF6udc\n03X1FwF6udc[5]\n(1, 7)\n(700, 1)\n(309, 35)\n(940, 74)\nFound video that doesn&#39;t belong to any splits: 03X1FwF6udc\n03X1FwF6udc[6]\n(1, 7)\n(700, 1)\n(145, 35)\n(448, 74)\nFound video that doesn&#39;t belong to any splits: 03X1FwF6udc\n06st0Ez_E_I[0]\n(1, 7)\n(256, 1)\n(342, 35)\n(1079, 74)\nFound video that doesn&#39;t belong to any splits: 06st0Ez_E_I\n06st0Ez_E_I[1]\n(1, 7)\n(256, 1)\n(182, 35)\n(550, 74)\nFound video that doesn&#39;t belong to any splits: 06st0Ez_E_I\n07Z16yRBFUQ[0]\n(1, 7)\n(189, 1)\n(200, 35)\n(619, 74)\nFound video that doesn&#39;t belong to any splits: 07Z16yRBFUQ\n07Z16yRBFUQ[1]\n(1, 7)\n(189, 1)\n(412, 35)\n(1285, 74)\nFound video that doesn&#39;t belong to any splits: 07Z16yRBFUQ\n07Z16yRBFUQ[2]\n(1, 7)\n(189, 1)\n(303, 35)\n(933, 74)\nFound video that doesn&#39;t belong to any splits: 07Z16yRBFUQ\n08d4NTXkSxw[0]\n(1, 7)\n(184, 1)\n(227, 35)\n(695, 74)\nFound video that doesn&#39;t belong to any splits: 08d4NTXkSxw\n08d4NTXkSxw[1]\n(1, 7)\n(184, 1)\n(163, 35)\n(505, 74)\nFound video that doesn&#39;t belong to any splits: 08d4NTXkSxw\n08d4NTXkSxw[2]\n(1, 7)\n(184, 1)\n(356, 35)\n(1104, 74)\nFound video that doesn&#39;t belong to any splits: 08d4NTXkSxw\n08d4NTXkSxw[3]\n(1, 7)\n(184, 1)\n(297, 35)\n(920, 74)\nFound video that doesn&#39;t belong to any splits: 08d4NTXkSxw\n0AA-wmk8WdA[0]\n(1, 7)\n(294, 1)\n(220, 35)\n(676, 74)\nFound video that doesn&#39;t belong to any splits: 0AA-wmk8WdA\n0AA-wmk8WdA[1]\n(1, 7)\n(294, 1)\n(166, 35)\n(519, 74)\nFound video that doesn&#39;t belong to any splits: 0AA-wmk8WdA\n0AkGtPzl7D8[0]\n(1, 7)\n(214, 1)\n(182, 35)\n(563, 74)\nFound video that doesn&#39;t belong to any splits: 0AkGtPzl7D8\n0BVed2nBq1g[0]\n(1, 7)\n(127, 1)\n(103, 35)\n(382, 74)\nFound video that doesn&#39;t belong to any splits: 0BVed2nBq1g\n0BVed2nBq1g[1]\n(1, 7)\n(127, 1)\n(216, 35)\n(811, 74)\nFound video that doesn&#39;t belong to any splits: 0BVed2nBq1g\n0BVed2nBq1g[2]\n(1, 7)\n(127, 1)\n(286, 35)\n(1054, 74)\nFound video that doesn&#39;t belong to any splits: 0BVed2nBq1g\n0BVed2nBq1g[3]\n(1, 7)\n(127, 1)\n(165, 35)\n(613, 74)\nFound video that doesn&#39;t belong to any splits: 0BVed2nBq1g\n0BVed2nBq1g[4]\n(1, 7)\n(127, 1)\n(154, 35)\n(558, 74)\nFound video that doesn&#39;t belong to any splits: 0BVed2nBq1g\n0BVed2nBq1g[5]\n(1, 7)\n(127, 1)\n(139, 35)\n(515, 74)\nFound video that doesn&#39;t belong to any splits: 0BVed2nBq1g\n0BVed2nBq1g[6]\n(1, 7)\n(127, 1)\n(94, 35)\n(341, 74)\nFound video that doesn&#39;t belong to any splits: 0BVed2nBq1g\n0DBfvvIVmqY[0]\n(1, 7)\n(210, 1)\n(126, 35)\n(392, 74)\nFound video that doesn&#39;t belong to any splits: 0DBfvvIVmqY\n0DBfvvIVmqY[10]\n(1, 7)\n(210, 1)\n(97, 35)\n(297, 74)\nFound video that doesn&#39;t belong to any splits: 0DBfvvIVmqY\n0DBfvvIVmqY[1]\n(1, 7)\n(210, 1)\n(244, 35)\n(739, 74)\nFound video that doesn&#39;t belong to any splits: 0DBfvvIVmqY\n0DBfvvIVmqY[2]\n(1, 7)\n(210, 1)\n(109, 35)\n(340, 74)\nFound video that doesn&#39;t belong to any splits: 0DBfvvIVmqY\n0DBfvvIVmqY[3]\n(1, 7)\n(210, 1)\n(92, 35)\n(279, 74)\nFound video that doesn&#39;t belong to any splits: 0DBfvvIVmqY\n0DBfvvIVmqY[4]\n(1, 7)\n(210, 1)\n(203, 35)\n(633, 74)\nFound video that doesn&#39;t belong to any splits: 0DBfvvIVmqY\n"
    },
    {
     "output_type": "error",
     "ename": "KeyboardInterrupt",
     "evalue": "",
     "traceback": [
      "\u001b[1;31m---------------------------------------------------------------------------\u001b[0m",
      "\u001b[1;31mKeyboardInterrupt\u001b[0m                         Traceback (most recent call last)",
      "\u001b[1;32m&lt;ipython-input-16-119d0965caa1&gt;\u001b[0m in \u001b[0;36m&lt;module&gt;\u001b[1;34m\u001b[0m\n\u001b[0;32m     93\u001b[0m         \u001b[0mtest\u001b[0m\u001b[1;33m.\u001b[0m\u001b[0mappend\u001b[0m\u001b[1;33m(\u001b[0m\u001b[1;33m(\u001b[0m\u001b[1;33m(\u001b[0m\u001b[0mwords\u001b[0m\u001b[1;33m,\u001b[0m \u001b[0mvisual\u001b[0m\u001b[1;33m,\u001b[0m \u001b[0macoustic\u001b[0m\u001b[1;33m)\u001b[0m\u001b[1;33m,\u001b[0m \u001b[0mlabel\u001b[0m\u001b[1;33m,\u001b[0m \u001b[0msegment\u001b[0m\u001b[1;33m)\u001b[0m\u001b[1;33m)\u001b[0m\u001b[1;33m\u001b[0m\u001b[1;33m\u001b[0m\u001b[0m\n\u001b[0;32m     94\u001b[0m     \u001b[1;32melse\u001b[0m\u001b[1;33m:\u001b[0m\u001b[1;33m\u001b[0m\u001b[1;33m\u001b[0m\u001b[0m\n\u001b[1;32m---&gt; 95\u001b[1;33m         \u001b[0mprint\u001b[0m\u001b[1;33m(\u001b[0m\u001b[1;34mf&quot;Found video that doesn&#39;t belong to any splits: {vid}&quot;\u001b[0m\u001b[1;33m)\u001b[0m\u001b[1;33m\u001b[0m\u001b[1;33m\u001b[0m\u001b[0m\n\u001b[0m\u001b[0;32m     96\u001b[0m \u001b[1;33m\u001b[0m\u001b[0m\n\u001b[0;32m     97\u001b[0m     \u001b[1;31m#input(&#39;Enter: &#39;)\u001b[0m\u001b[1;33m\u001b[0m\u001b[1;33m\u001b[0m\u001b[1;33m\u001b[0m\u001b[0m\n",
      "\u001b[1;32m~\\AppData\\Local\\Programs\\Python\\Python38\\lib\\site-packages\\colorama\\ansitowin32.py\u001b[0m in \u001b[0;36mwrite\u001b[1;34m(self, text)\u001b[0m\n\u001b[0;32m     39\u001b[0m \u001b[1;33m\u001b[0m\u001b[0m\n\u001b[0;32m     40\u001b[0m     \u001b[1;32mdef\u001b[0m \u001b[0mwrite\u001b[0m\u001b[1;33m(\u001b[0m\u001b[0mself\u001b[0m\u001b[1;33m,\u001b[0m \u001b[0mtext\u001b[0m\u001b[1;33m)\u001b[0m\u001b[1;33m:\u001b[0m\u001b[1;33m\u001b[0m\u001b[1;33m\u001b[0m\u001b[0m\n\u001b[1;32m---&gt; 41\u001b[1;33m         \u001b[0mself\u001b[0m\u001b[1;33m.\u001b[0m\u001b[0m__convertor\u001b[0m\u001b[1;33m.\u001b[0m\u001b[0mwrite\u001b[0m\u001b[1;33m(\u001b[0m\u001b[0mtext\u001b[0m\u001b[1;33m)\u001b[0m\u001b[1;33m\u001b[0m\u001b[1;33m\u001b[0m\u001b[0m\n\u001b[0m\u001b[0;32m     42\u001b[0m \u001b[1;33m\u001b[0m\u001b[0m\n\u001b[0;32m     43\u001b[0m     \u001b[1;32mdef\u001b[0m \u001b[0misatty\u001b[0m\u001b[1;33m(\u001b[0m\u001b[0mself\u001b[0m\u001b[1;33m)\u001b[0m\u001b[1;33m:\u001b[0m\u001b[1;33m\u001b[0m\u001b[1;33m\u001b[0m\u001b[0m\n",
      "\u001b[1;32m~\\AppData\\Local\\Programs\\Python\\Python38\\lib\\site-packages\\colorama\\ansitowin32.py\u001b[0m in \u001b[0;36mwrite\u001b[1;34m(self, text)\u001b[0m\n\u001b[0;32m    160\u001b[0m     \u001b[1;32mdef\u001b[0m \u001b[0mwrite\u001b[0m\u001b[1;33m(\u001b[0m\u001b[0mself\u001b[0m\u001b[1;33m,\u001b[0m \u001b[0mtext\u001b[0m\u001b[1;33m)\u001b[0m\u001b[1;33m:\u001b[0m\u001b[1;33m\u001b[0m\u001b[1;33m\u001b[0m\u001b[0m\n\u001b[0;32m    161\u001b[0m         \u001b[1;32mif\u001b[0m \u001b[0mself\u001b[0m\u001b[1;33m.\u001b[0m\u001b[0mstrip\u001b[0m \u001b[1;32mor\u001b[0m \u001b[0mself\u001b[0m\u001b[1;33m.\u001b[0m\u001b[0mconvert\u001b[0m\u001b[1;33m:\u001b[0m\u001b[1;33m\u001b[0m\u001b[1;33m\u001b[0m\u001b[0m\n\u001b[1;32m--&gt; 162\u001b[1;33m             \u001b[0mself\u001b[0m\u001b[1;33m.\u001b[0m\u001b[0mwrite_and_convert\u001b[0m\u001b[1;33m(\u001b[0m\u001b[0mtext\u001b[0m\u001b[1;33m)\u001b[0m\u001b[1;33m\u001b[0m\u001b[1;33m\u001b[0m\u001b[0m\n\u001b[0m\u001b[0;32m    163\u001b[0m         \u001b[1;32melse\u001b[0m\u001b[1;33m:\u001b[0m\u001b[1;33m\u001b[0m\u001b[1;33m\u001b[0m\u001b[0m\n\u001b[0;32m    164\u001b[0m             \u001b[0mself\u001b[0m\u001b[1;33m.\u001b[0m\u001b[0mwrapped\u001b[0m\u001b[1;33m.\u001b[0m\u001b[0mwrite\u001b[0m\u001b[1;33m(\u001b[0m\u001b[0mtext\u001b[0m\u001b[1;33m)\u001b[0m\u001b[1;33m\u001b[0m\u001b[1;33m\u001b[0m\u001b[0m\n",
      "\u001b[1;32m~\\AppData\\Local\\Programs\\Python\\Python38\\lib\\site-packages\\colorama\\ansitowin32.py\u001b[0m in \u001b[0;36mwrite_and_convert\u001b[1;34m(self, text)\u001b[0m\n\u001b[0;32m    188\u001b[0m             \u001b[0mself\u001b[0m\u001b[1;33m.\u001b[0m\u001b[0mconvert_ansi\u001b[0m\u001b[1;33m(\u001b[0m\u001b[1;33m*\u001b[0m\u001b[0mmatch\u001b[0m\u001b[1;33m.\u001b[0m\u001b[0mgroups\u001b[0m\u001b[1;33m(\u001b[0m\u001b[1;33m)\u001b[0m\u001b[1;33m)\u001b[0m\u001b[1;33m\u001b[0m\u001b[1;33m\u001b[0m\u001b[0m\n\u001b[0;32m    189\u001b[0m             \u001b[0mcursor\u001b[0m \u001b[1;33m=\u001b[0m \u001b[0mend\u001b[0m\u001b[1;33m\u001b[0m\u001b[1;33m\u001b[0m\u001b[0m\n\u001b[1;32m--&gt; 190\u001b[1;33m         \u001b[0mself\u001b[0m\u001b[1;33m.\u001b[0m\u001b[0mwrite_plain_text\u001b[0m\u001b[1;33m(\u001b[0m\u001b[0mtext\u001b[0m\u001b[1;33m,\u001b[0m \u001b[0mcursor\u001b[0m\u001b[1;33m,\u001b[0m \u001b[0mlen\u001b[0m\u001b[1;33m(\u001b[0m\u001b[0mtext\u001b[0m\u001b[1;33m)\u001b[0m\u001b[1;33m)\u001b[0m\u001b[1;33m\u001b[0m\u001b[1;33m\u001b[0m\u001b[0m\n\u001b[0m\u001b[0;32m    191\u001b[0m \u001b[1;33m\u001b[0m\u001b[0m\n\u001b[0;32m    192\u001b[0m \u001b[1;33m\u001b[0m\u001b[0m\n",
      "\u001b[1;32m~\\AppData\\Local\\Programs\\Python\\Python38\\lib\\site-packages\\colorama\\ansitowin32.py\u001b[0m in \u001b[0;36mwrite_plain_text\u001b[1;34m(self, text, start, end)\u001b[0m\n\u001b[0;32m    194\u001b[0m         \u001b[1;32mif\u001b[0m \u001b[0mstart\u001b[0m \u001b[1;33m&lt;\u001b[0m \u001b[0mend\u001b[0m\u001b[1;33m:\u001b[0m\u001b[1;33m\u001b[0m\u001b[1;33m\u001b[0m\u001b[0m\n\u001b[0;32m    195\u001b[0m             \u001b[0mself\u001b[0m\u001b[1;33m.\u001b[0m\u001b[0mwrapped\u001b[0m\u001b[1;33m.\u001b[0m\u001b[0mwrite\u001b[0m\u001b[1;33m(\u001b[0m\u001b[0mtext\u001b[0m\u001b[1;33m[\u001b[0m\u001b[0mstart\u001b[0m\u001b[1;33m:\u001b[0m\u001b[0mend\u001b[0m\u001b[1;33m]\u001b[0m\u001b[1;33m)\u001b[0m\u001b[1;33m\u001b[0m\u001b[1;33m\u001b[0m\u001b[0m\n\u001b[1;32m--&gt; 196\u001b[1;33m             \u001b[0mself\u001b[0m\u001b[1;33m.\u001b[0m\u001b[0mwrapped\u001b[0m\u001b[1;33m.\u001b[0m\u001b[0mflush\u001b[0m\u001b[1;33m(\u001b[0m\u001b[1;33m)\u001b[0m\u001b[1;33m\u001b[0m\u001b[1;33m\u001b[0m\u001b[0m\n\u001b[0m\u001b[0;32m    197\u001b[0m \u001b[1;33m\u001b[0m\u001b[0m\n\u001b[0;32m    198\u001b[0m \u001b[1;33m\u001b[0m\u001b[0m\n",
      "\u001b[1;32m~\\AppData\\Local\\Programs\\Python\\Python38\\lib\\site-packages\\ipykernel\\iostream.py\u001b[0m in \u001b[0;36mflush\u001b[1;34m(self)\u001b[0m\n\u001b[0;32m    342\u001b[0m         \u001b[1;32mif\u001b[0m \u001b[0mself\u001b[0m\u001b[1;33m.\u001b[0m\u001b[0mpub_thread\u001b[0m \u001b[1;32mand\u001b[0m \u001b[0mself\u001b[0m\u001b[1;33m.\u001b[0m\u001b[0mpub_thread\u001b[0m\u001b[1;33m.\u001b[0m\u001b[0mthread\u001b[0m \u001b[1;32mis\u001b[0m \u001b[1;32mnot\u001b[0m \u001b[1;32mNone\u001b[0m \u001b[1;32mand\u001b[0m \u001b[0mself\u001b[0m\u001b[1;33m.\u001b[0m\u001b[0mpub_thread\u001b[0m\u001b[1;33m.\u001b[0m\u001b[0mthread\u001b[0m\u001b[1;33m.\u001b[0m\u001b[0mis_alive\u001b[0m\u001b[1;33m(\u001b[0m\u001b[1;33m)\u001b[0m\u001b[1;33m:\u001b[0m\u001b[1;33m\u001b[0m\u001b[1;33m\u001b[0m\u001b[0m\n\u001b[0;32m    343\u001b[0m             \u001b[1;31m# request flush on the background thread\u001b[0m\u001b[1;33m\u001b[0m\u001b[1;33m\u001b[0m\u001b[1;33m\u001b[0m\u001b[0m\n\u001b[1;32m--&gt; 344\u001b[1;33m             \u001b[0mself\u001b[0m\u001b[1;33m.\u001b[0m\u001b[0mpub_thread\u001b[0m\u001b[1;33m.\u001b[0m\u001b[0mschedule\u001b[0m\u001b[1;33m(\u001b[0m\u001b[0mself\u001b[0m\u001b[1;33m.\u001b[0m\u001b[0m_flush\u001b[0m\u001b[1;33m)\u001b[0m\u001b[1;33m\u001b[0m\u001b[1;33m\u001b[0m\u001b[0m\n\u001b[0m\u001b[0;32m    345\u001b[0m             \u001b[1;31m# wait for flush to actually get through, if we can.\u001b[0m\u001b[1;33m\u001b[0m\u001b[1;33m\u001b[0m\u001b[1;33m\u001b[0m\u001b[0m\n\u001b[0;32m    346\u001b[0m             \u001b[1;31m# waiting across threads during import can cause deadlocks\u001b[0m\u001b[1;33m\u001b[0m\u001b[1;33m\u001b[0m\u001b[1;33m\u001b[0m\u001b[0m\n",
      "\u001b[1;32m~\\AppData\\Local\\Programs\\Python\\Python38\\lib\\site-packages\\ipykernel\\iostream.py\u001b[0m in \u001b[0;36mschedule\u001b[1;34m(self, f)\u001b[0m\n\u001b[0;32m    203\u001b[0m             \u001b[0mself\u001b[0m\u001b[1;33m.\u001b[0m\u001b[0m_events\u001b[0m\u001b[1;33m.\u001b[0m\u001b[0mappend\u001b[0m\u001b[1;33m(\u001b[0m\u001b[0mf\u001b[0m\u001b[1;33m)\u001b[0m\u001b[1;33m\u001b[0m\u001b[1;33m\u001b[0m\u001b[0m\n\u001b[0;32m    204\u001b[0m             \u001b[1;31m# wake event thread (message content is ignored)\u001b[0m\u001b[1;33m\u001b[0m\u001b[1;33m\u001b[0m\u001b[1;33m\u001b[0m\u001b[0m\n\u001b[1;32m--&gt; 205\u001b[1;33m             \u001b[0mself\u001b[0m\u001b[1;33m.\u001b[0m\u001b[0m_event_pipe\u001b[0m\u001b[1;33m.\u001b[0m\u001b[0msend\u001b[0m\u001b[1;33m(\u001b[0m\u001b[1;34mb&#39;&#39;\u001b[0m\u001b[1;33m)\u001b[0m\u001b[1;33m\u001b[0m\u001b[1;33m\u001b[0m\u001b[0m\n\u001b[0m\u001b[0;32m    206\u001b[0m         \u001b[1;32melse\u001b[0m\u001b[1;33m:\u001b[0m\u001b[1;33m\u001b[0m\u001b[1;33m\u001b[0m\u001b[0m\n\u001b[0;32m    207\u001b[0m             \u001b[0mf\u001b[0m\u001b[1;33m(\u001b[0m\u001b[1;33m)\u001b[0m\u001b[1;33m\u001b[0m\u001b[1;33m\u001b[0m\u001b[0m\n",
      "\u001b[1;32m~\\AppData\\Local\\Programs\\Python\\Python38\\lib\\site-packages\\zmq\\sugar\\socket.py\u001b[0m in \u001b[0;36msend\u001b[1;34m(self, data, flags, copy, track, routing_id, group)\u001b[0m\n\u001b[0;32m    414\u001b[0m                                  copy_threshold=self.copy_threshold)\n\u001b[0;32m    415\u001b[0m             \u001b[0mdata\u001b[0m\u001b[1;33m.\u001b[0m\u001b[0mgroup\u001b[0m \u001b[1;33m=\u001b[0m \u001b[0mgroup\u001b[0m\u001b[1;33m\u001b[0m\u001b[1;33m\u001b[0m\u001b[0m\n\u001b[1;32m--&gt; 416\u001b[1;33m         \u001b[1;32mreturn\u001b[0m \u001b[0msuper\u001b[0m\u001b[1;33m(\u001b[0m\u001b[0mSocket\u001b[0m\u001b[1;33m,\u001b[0m \u001b[0mself\u001b[0m\u001b[1;33m)\u001b[0m\u001b[1;33m.\u001b[0m\u001b[0msend\u001b[0m\u001b[1;33m(\u001b[0m\u001b[0mdata\u001b[0m\u001b[1;33m,\u001b[0m \u001b[0mflags\u001b[0m\u001b[1;33m=\u001b[0m\u001b[0mflags\u001b[0m\u001b[1;33m,\u001b[0m \u001b[0mcopy\u001b[0m\u001b[1;33m=\u001b[0m\u001b[0mcopy\u001b[0m\u001b[1;33m,\u001b[0m \u001b[0mtrack\u001b[0m\u001b[1;33m=\u001b[0m\u001b[0mtrack\u001b[0m\u001b[1;33m)\u001b[0m\u001b[1;33m\u001b[0m\u001b[1;33m\u001b[0m\u001b[0m\n\u001b[0m\u001b[0;32m    417\u001b[0m \u001b[1;33m\u001b[0m\u001b[0m\n\u001b[0;32m    418\u001b[0m     \u001b[1;32mdef\u001b[0m \u001b[0msend_multipart\u001b[0m\u001b[1;33m(\u001b[0m\u001b[0mself\u001b[0m\u001b[1;33m,\u001b[0m \u001b[0mmsg_parts\u001b[0m\u001b[1;33m,\u001b[0m \u001b[0mflags\u001b[0m\u001b[1;33m=\u001b[0m\u001b[1;36m0\u001b[0m\u001b[1;33m,\u001b[0m \u001b[0mcopy\u001b[0m\u001b[1;33m=\u001b[0m\u001b[1;32mTrue\u001b[0m\u001b[1;33m,\u001b[0m \u001b[0mtrack\u001b[0m\u001b[1;33m=\u001b[0m\u001b[1;32mFalse\u001b[0m\u001b[1;33m,\u001b[0m \u001b[1;33m**\u001b[0m\u001b[0mkwargs\u001b[0m\u001b[1;33m)\u001b[0m\u001b[1;33m:\u001b[0m\u001b[1;33m\u001b[0m\u001b[1;33m\u001b[0m\u001b[0m\n",
      "\u001b[1;32mzmq\\backend\\cython\\socket.pyx\u001b[0m in \u001b[0;36mzmq.backend.cython.socket.Socket.send\u001b[1;34m()\u001b[0m\n",
      "\u001b[1;32mzmq\\backend\\cython\\socket.pyx\u001b[0m in \u001b[0;36mzmq.backend.cython.socket.Socket.send\u001b[1;34m()\u001b[0m\n",
      "\u001b[1;32mzmq\\backend\\cython\\socket.pyx\u001b[0m in \u001b[0;36mzmq.backend.cython.socket._send_copy\u001b[1;34m()\u001b[0m\n",
      "\u001b[1;32m~\\AppData\\Local\\Programs\\Python\\Python38\\lib\\site-packages\\zmq\\backend\\cython\\checkrc.pxd\u001b[0m in \u001b[0;36mzmq.backend.cython.checkrc._check_rc\u001b[1;34m()\u001b[0m\n",
      "\u001b[1;31mKeyboardInterrupt\u001b[0m: "
     ]
    }
   ]
  },
  {
   "cell_type": "markdown",
   "metadata": {},
   "source": [
    "## Inspect the dataset\n",
    "\n",
    "Now that we have loaded the data, we can check the sizes of each split, data point shapes, vocabulary size, etc."
   ]
  },
  {
   "cell_type": "code",
   "execution_count": 1,
   "metadata": {
    "scrolled": true,
    "tags": []
   },
   "outputs": [
    {
     "output_type": "error",
     "ename": "NameError",
     "evalue": "name &#39;train&#39; is not defined",
     "traceback": [
      "\u001b[1;31m---------------------------------------------------------------------------\u001b[0m",
      "\u001b[1;31mNameError\u001b[0m                                 Traceback (most recent call last)",
      "\u001b[1;32m&lt;ipython-input-1-96ce713acf1d&gt;\u001b[0m in \u001b[0;36m&lt;module&gt;\u001b[1;34m\u001b[0m\n\u001b[0;32m      1\u001b[0m \u001b[1;31m# let&#39;s see the size of each set and shape of data\u001b[0m\u001b[1;33m\u001b[0m\u001b[1;33m\u001b[0m\u001b[1;33m\u001b[0m\u001b[0m\n\u001b[1;32m----&gt; 2\u001b[1;33m \u001b[0mprint\u001b[0m\u001b[1;33m(\u001b[0m\u001b[0mlen\u001b[0m\u001b[1;33m(\u001b[0m\u001b[0mtrain\u001b[0m\u001b[1;33m)\u001b[0m\u001b[1;33m)\u001b[0m\u001b[1;33m\u001b[0m\u001b[1;33m\u001b[0m\u001b[0m\n\u001b[0m\u001b[0;32m      3\u001b[0m \u001b[0mprint\u001b[0m\u001b[1;33m(\u001b[0m\u001b[0mlen\u001b[0m\u001b[1;33m(\u001b[0m\u001b[0mdev\u001b[0m\u001b[1;33m)\u001b[0m\u001b[1;33m)\u001b[0m\u001b[1;33m\u001b[0m\u001b[1;33m\u001b[0m\u001b[0m\n\u001b[0;32m      4\u001b[0m \u001b[0mprint\u001b[0m\u001b[1;33m(\u001b[0m\u001b[0mlen\u001b[0m\u001b[1;33m(\u001b[0m\u001b[0mtest\u001b[0m\u001b[1;33m)\u001b[0m\u001b[1;33m)\u001b[0m\u001b[1;33m\u001b[0m\u001b[1;33m\u001b[0m\u001b[0m\n\u001b[0;32m      5\u001b[0m \u001b[1;33m\u001b[0m\u001b[0m\n",
      "\u001b[1;31mNameError\u001b[0m: name &#39;train&#39; is not defined"
     ]
    }
   ],
   "source": [
    "# let's see the size of each set and shape of data\n",
    "print(len(train))\n",
    "print(len(dev))\n",
    "print(len(test))\n",
    "\n",
    "print(train[0][0][1].shape)\n",
    "print(train[0][1].shape)\n",
    "print(train[0][1])\n",
    "\n",
    "print(f\"Total vocab size: {len(word2id)}\")"
   ]
  },
  {
   "cell_type": "markdown",
   "metadata": {},
   "source": [
    "## Collate function in PyTorch\n",
    "\n",
    "Collate functions are functions used by PyTorch dataloader to gather batched data from dataset. It loads multiple data points from an iterable dataset object and put them in a certain format. Here we just use the lists we've constructed as the dataset and assume PyTorch dataloader will operate on that."
   ]
  },
  {
   "cell_type": "code",
   "execution_count": 10,
   "metadata": {
    "tags": []
   },
   "outputs": [
    {
     "output_type": "stream",
     "name": "stdout",
     "text": "torch.Size([39, 8])\ntorch.Size([39, 8, 35])\ntorch.Size([39, 8, 74])\ntensor([[-1.6667,  0.0000,  0.0000,  0.6667,  0.0000,  0.0000,  0.0000],\n        [ 2.3333,  0.6667,  0.0000,  0.0000,  0.0000,  0.0000,  0.0000],\n        [ 0.6667,  1.3333,  0.0000,  0.0000,  0.3333,  0.0000,  0.0000],\n        [ 0.0000,  0.0000,  0.0000,  0.0000,  0.0000,  0.0000,  0.0000],\n        [-1.6667,  0.0000,  0.0000,  1.0000,  0.0000,  0.3333,  0.0000],\n        [ 1.3333,  0.3333,  0.0000,  0.0000,  0.0000,  0.0000,  0.0000],\n        [-0.3333,  0.0000,  0.3333,  0.0000,  0.0000,  0.0000,  0.0000],\n        [-0.6667,  0.3333,  0.0000,  0.3333,  0.6667,  0.6667,  0.0000]])\ntensor([39, 30, 25, 24, 24, 21, 20, 14])\n"
    }
   ],
   "source": [
    "def multi_collate(batch):\n",
    "    '''\n",
    "    Collate functions assume batch = [Dataset[i] for i in index_set]\n",
    "    '''\n",
    "    # for later use we sort the batch in descending order of length\n",
    "    batch = sorted(batch, key=lambda x: x[0][0].shape[0], reverse=True)\n",
    "    \n",
    "    # get the data out of the batch - use pad sequence util functions from PyTorch to pad things\n",
    "    labels = torch.cat([torch.from_numpy(sample[1]) for sample in batch], dim=0)\n",
    "    sentences = pad_sequence([torch.LongTensor(sample[0][0]) for sample in batch], padding_value=PAD)\n",
    "    visual = pad_sequence([torch.FloatTensor(sample[0][1]) for sample in batch])\n",
    "    acoustic = pad_sequence([torch.FloatTensor(sample[0][2]) for sample in batch])\n",
    "    \n",
    "    # lengths are useful later in using RNNs\n",
    "    lengths = torch.LongTensor([sample[0][0].shape[0] for sample in batch])\n",
    "    return sentences, visual, acoustic, labels, lengths\n",
    "\n",
    "# construct dataloaders, dev and test could use around ~X3 times batch size since no_grad is used during eval\n",
    "batch_sz = 56\n",
    "train_loader = DataLoader(train, shuffle=True, batch_size=batch_sz, collate_fn=multi_collate)\n",
    "dev_loader = DataLoader(dev, shuffle=False, batch_size=batch_sz*3, collate_fn=multi_collate)\n",
    "test_loader = DataLoader(test, shuffle=False, batch_size=batch_sz*3, collate_fn=multi_collate)\n",
    "\n",
    "# let's create a temporary dataloader just to see how the batch looks like\n",
    "temp_loader = iter(DataLoader(test, shuffle=True, batch_size=8, collate_fn=multi_collate))\n",
    "batch = next(temp_loader)\n",
    "\n",
    "print(batch[0].shape) # word vectors, padded to maxlen\n",
    "print(batch[1].shape) # visual features\n",
    "print(batch[2].shape) # acoustic features\n",
    "print(batch[3]) # labels\n",
    "print(batch[4]) # lengths"
   ]
  },
  {
   "cell_type": "code",
   "execution_count": 13,
   "metadata": {},
   "outputs": [
    {
     "output_type": "error",
     "ename": "TypeError",
     "evalue": "sequence item 0: expected str instance, numpy.float64 found",
     "traceback": [
      "\u001b[1;31m---------------------------------------------------------------------------\u001b[0m",
      "\u001b[1;31mTypeError\u001b[0m                                 Traceback (most recent call last)",
      "\u001b[1;32m&lt;ipython-input-13-99f54f363cca&gt;\u001b[0m in \u001b[0;36m&lt;module&gt;\u001b[1;34m\u001b[0m\n\u001b[0;32m      3\u001b[0m \u001b[0mexamine_target\u001b[0m \u001b[1;33m=\u001b[0m \u001b[0mtrain\u001b[0m\u001b[1;33m\u001b[0m\u001b[1;33m\u001b[0m\u001b[0m\n\u001b[0;32m      4\u001b[0m \u001b[0midx\u001b[0m \u001b[1;33m=\u001b[0m \u001b[0mnp\u001b[0m\u001b[1;33m.\u001b[0m\u001b[0mrandom\u001b[0m\u001b[1;33m.\u001b[0m\u001b[0mrandint\u001b[0m\u001b[1;33m(\u001b[0m\u001b[1;36m0\u001b[0m\u001b[1;33m,\u001b[0m \u001b[0mlen\u001b[0m\u001b[1;33m(\u001b[0m\u001b[0mexamine_target\u001b[0m\u001b[1;33m)\u001b[0m\u001b[1;33m)\u001b[0m\u001b[1;33m\u001b[0m\u001b[1;33m\u001b[0m\u001b[0m\n\u001b[1;32m----&gt; 5\u001b[1;33m \u001b[0mprint\u001b[0m\u001b[1;33m(\u001b[0m\u001b[1;34m&#39; &#39;\u001b[0m\u001b[1;33m.\u001b[0m\u001b[0mjoin\u001b[0m\u001b[1;33m(\u001b[0m\u001b[0mlist\u001b[0m\u001b[1;33m(\u001b[0m\u001b[0mmap\u001b[0m\u001b[1;33m(\u001b[0m\u001b[1;32mlambda\u001b[0m \u001b[0mx\u001b[0m\u001b[1;33m:\u001b[0m \u001b[0mid2word\u001b[0m\u001b[1;33m[\u001b[0m\u001b[0mx\u001b[0m\u001b[1;33m]\u001b[0m\u001b[1;33m,\u001b[0m \u001b[0mexamine_target\u001b[0m\u001b[1;33m[\u001b[0m\u001b[0midx\u001b[0m\u001b[1;33m]\u001b[0m\u001b[1;33m[\u001b[0m\u001b[1;36m0\u001b[0m\u001b[1;33m]\u001b[0m\u001b[1;33m[\u001b[0m\u001b[1;36m0\u001b[0m\u001b[1;33m]\u001b[0m\u001b[1;33m.\u001b[0m\u001b[0mtolist\u001b[0m\u001b[1;33m(\u001b[0m\u001b[1;33m)\u001b[0m\u001b[1;33m)\u001b[0m\u001b[1;33m)\u001b[0m\u001b[1;33m)\u001b[0m\u001b[1;33m)\u001b[0m\u001b[1;33m\u001b[0m\u001b[1;33m\u001b[0m\u001b[0m\n\u001b[0m\u001b[0;32m      6\u001b[0m \u001b[1;31m# print(&#39; &#39;.join(examine_target[idx][0]))\u001b[0m\u001b[1;33m\u001b[0m\u001b[1;33m\u001b[0m\u001b[1;33m\u001b[0m\u001b[0m\n\u001b[0;32m      7\u001b[0m \u001b[0mprint\u001b[0m\u001b[1;33m(\u001b[0m\u001b[0mexamine_target\u001b[0m\u001b[1;33m[\u001b[0m\u001b[0midx\u001b[0m\u001b[1;33m]\u001b[0m\u001b[1;33m[\u001b[0m\u001b[1;36m1\u001b[0m\u001b[1;33m]\u001b[0m\u001b[1;33m)\u001b[0m\u001b[1;33m\u001b[0m\u001b[1;33m\u001b[0m\u001b[0m\n",
      "\u001b[1;31mTypeError\u001b[0m: sequence item 0: expected str instance, numpy.float64 found"
     ]
    }
   ],
   "source": [
    "# Let's actually inspect the transcripts to ensure it's correct\n",
    "if SETUP:\n",
    "    id2word = {v:k for k, v in word2id.items()}\n",
    "    examine_target = train\n",
    "    idx = np.random.randint(0, len(examine_target))\n",
    "    print(' '.join(list(map(lambda x: id2word[x], examine_target[idx][0][0].tolist()))))\n",
    "    # print(' '.join(examine_target[idx][0]))\n",
    "    print(examine_target[idx][1])\n",
    "    print(examine_target[idx][2])"
   ]
  },
  {
   "source": [
    "## Define a function which returns all 3 loaders for communication with models in the other files\n",
    "\n",
    "The function will return train, dev (validation) and test dataloaders"
   ],
   "cell_type": "markdown",
   "metadata": {}
  },
  {
   "cell_type": "code",
   "execution_count": 11,
   "metadata": {},
   "outputs": [],
   "source": [
    "def get_dataloaders():\n",
    "    return train_loader, dev_loader, test_loader"
   ]
  },
  {
   "cell_type": "markdown",
   "metadata": {},
   "source": [
    "## Define a multimodal model\n",
    "\n",
    "Here we show a simple example of late-fusion LSTM. Late-fusion refers to combining the features from different modalities at the final prediction stage, without introducing any interactions between them before that."
   ]
  },
  {
   "cell_type": "code",
   "execution_count": 31,
   "metadata": {},
   "outputs": [],
   "source": [
    "# let's define a simple model that can deal with multimodal variable length sequence\n",
    "class LFLSTM(nn.Module):\n",
    "    def __init__(self, input_sizes, hidden_sizes, fc1_size, output_size, dropout_rate):\n",
    "        super(LFLSTM, self).__init__()\n",
    "        self.input_size = input_sizes\n",
    "        self.hidden_size = hidden_sizes\n",
    "        self.fc1_size = fc1_size\n",
    "        self.output_size = output_size\n",
    "        self.dropout_rate = dropout_rate\n",
    "        \n",
    "        # defining modules - two layer bidirectional LSTM with layer norm in between\n",
    "        self.embed = nn.Embedding(len(word2id), input_sizes[0])\n",
    "        self.trnn1 = nn.LSTM(input_sizes[0], hidden_sizes[0], bidirectional=True)\n",
    "        self.trnn2 = nn.LSTM(2*hidden_sizes[0], hidden_sizes[0], bidirectional=True)\n",
    "        \n",
    "        self.vrnn1 = nn.LSTM(input_sizes[1], hidden_sizes[1], bidirectional=True)\n",
    "        self.vrnn2 = nn.LSTM(2*hidden_sizes[1], hidden_sizes[1], bidirectional=True)\n",
    "        \n",
    "        self.arnn1 = nn.LSTM(input_sizes[2], hidden_sizes[2], bidirectional=True)\n",
    "        self.arnn2 = nn.LSTM(2*hidden_sizes[2], hidden_sizes[2], bidirectional=True)\n",
    "\n",
    "        self.fc1 = nn.Linear(sum(hidden_sizes)*4, fc1_size)\n",
    "        self.fc2 = nn.Linear(fc1_size, output_size)\n",
    "        self.relu = nn.ReLU()\n",
    "        self.dropout = nn.Dropout(dropout_rate)\n",
    "        self.tlayer_norm = nn.LayerNorm((hidden_sizes[0]*2,))\n",
    "        self.vlayer_norm = nn.LayerNorm((hidden_sizes[1]*2,))\n",
    "        self.alayer_norm = nn.LayerNorm((hidden_sizes[2]*2,))\n",
    "        self.bn = nn.BatchNorm1d(sum(hidden_sizes)*4)\n",
    "\n",
    "        \n",
    "    def extract_features(self, sequence, lengths, rnn1, rnn2, layer_norm):\n",
    "        packed_sequence = pack_padded_sequence(sequence, lengths)\n",
    "        packed_h1, (final_h1, _) = rnn1(packed_sequence)\n",
    "        padded_h1, _ = pad_packed_sequence(packed_h1)\n",
    "        normed_h1 = layer_norm(padded_h1)\n",
    "        packed_normed_h1 = pack_padded_sequence(normed_h1, lengths)\n",
    "        _, (final_h2, _) = rnn2(packed_normed_h1)\n",
    "        return final_h1, final_h2\n",
    "\n",
    "        \n",
    "    def fusion(self, sentences, visual, acoustic, lengths):\n",
    "        batch_size = lengths.size(0)\n",
    "        sentences = self.embed(sentences)\n",
    "        \n",
    "        # extract features from text modality\n",
    "        final_h1t, final_h2t = self.extract_features(sentences, lengths, self.trnn1, self.trnn2, self.tlayer_norm)\n",
    "        \n",
    "        # extract features from visual modality\n",
    "        final_h1v, final_h2v = self.extract_features(visual, lengths, self.vrnn1, self.vrnn2, self.vlayer_norm)\n",
    "        \n",
    "        # extract features from acoustic modality\n",
    "        final_h1a, final_h2a = self.extract_features(acoustic, lengths, self.arnn1, self.arnn2, self.alayer_norm)\n",
    "\n",
    "        \n",
    "        # simple late fusion -- concatenation + normalization\n",
    "        h = torch.cat((final_h1t, final_h2t, final_h1v, final_h2v, final_h1a, final_h2a),\n",
    "                       dim=2).permute(1, 0, 2).contiguous().view(batch_size, -1)\n",
    "        return self.bn(h)\n",
    "\n",
    "    def forward(self, sentences, visual, acoustic, lengths):\n",
    "        batch_size = lengths.size(0)\n",
    "        h = self.fusion(sentences, visual, acoustic, lengths)\n",
    "        h = self.fc1(h)\n",
    "        h = self.dropout(h)\n",
    "        h = self.relu(h)\n",
    "        o = self.fc2(h)\n",
    "        return o"
   ]
  },
  {
   "cell_type": "markdown",
   "metadata": {},
   "source": [
    "## Load pretrained embeddings\n",
    "\n",
    "We define a function for loading pretrained word embeddings stored in GloVe-style file. Contextualized embeddings obviously cannot be stored and loaded this way, though."
   ]
  },
  {
   "cell_type": "code",
   "execution_count": 32,
   "metadata": {},
   "outputs": [],
   "source": [
    "# define a function that loads data from GloVe-like embedding files\n",
    "# we will add tutorials for loading contextualized embeddings later\n",
    "# 2196017 is the vocab size of GloVe here.\n",
    "\n",
    "def load_emb(w2i, path_to_embedding, embedding_size=300, embedding_vocab=2196017, init_emb=None):\n",
    "    if init_emb is None:\n",
    "        emb_mat = np.random.randn(len(w2i), embedding_size)\n",
    "    else:\n",
    "        emb_mat = init_emb\n",
    "    f = open(path_to_embedding, 'r')\n",
    "    found = 0\n",
    "    for line in tqdm_notebook(f, total=embedding_vocab):\n",
    "        content = line.strip().split()\n",
    "        vector = np.asarray(list(map(lambda x: float(x), content[-300:])))\n",
    "        word = ' '.join(content[:-300])\n",
    "        if word in w2i:\n",
    "            idx = w2i[word]\n",
    "            emb_mat[idx, :] = vector\n",
    "            found += 1\n",
    "    print(f\"Found {found} words in the embedding file.\")\n",
    "    return torch.tensor(emb_mat).float()"
   ]
  },
  {
   "cell_type": "markdown",
   "metadata": {},
   "source": [
    "## Training a model\n",
    "\n",
    "Next we train a model. We use Adam with gradient clipping and weight decay for training, and our loss here is Mean Absolute Error (MOSI is a regression dataset). We exclude the embeddings from trainable computation graph to prevent overfitting. We also apply a early-stopping scheme with learning rate annealing based on validation loss."
   ]
  },
  {
   "cell_type": "code",
   "execution_count": 34,
   "metadata": {
    "scrolled": true
   },
   "outputs": [
    {
     "data": {
      "application/vnd.jupyter.widget-view+json": {
       "model_id": "1776dd6725104aee8d69a3a51bc1f125",
       "version_major": 2,
       "version_minor": 0
      },
      "text/plain": [
       "HBox(children=(IntProgress(value=0, max=23), HTML(value='')))"
      ]
     },
     "metadata": {},
     "output_type": "display_data"
    },
    {
     "name": "stdout",
     "output_type": "stream",
     "text": [
      "Training loss: 1.1386\n",
      "Validation loss: 1.371\n",
      "Current patience: 8, current trial: 3.\n",
      "Found new best model on dev set!\n"
     ]
    },
    {
     "data": {
      "application/vnd.jupyter.widget-view+json": {
       "model_id": "006124110b404defa70fba36dc69e107",
       "version_major": 2,
       "version_minor": 0
      },
      "text/plain": [
       "HBox(children=(IntProgress(value=0, max=23), HTML(value='')))"
      ]
     },
     "metadata": {},
     "output_type": "display_data"
    },
    {
     "name": "stdout",
     "output_type": "stream",
     "text": [
      "Training loss: 0.8447\n",
      "Validation loss: 1.2764\n",
      "Current patience: 8, current trial: 3.\n",
      "Found new best model on dev set!\n"
     ]
    },
    {
     "data": {
      "application/vnd.jupyter.widget-view+json": {
       "model_id": "6d83b5d754de485b8600d79e0391bfea",
       "version_major": 2,
       "version_minor": 0
      },
      "text/plain": [
       "HBox(children=(IntProgress(value=0, max=23), HTML(value='')))"
      ]
     },
     "metadata": {},
     "output_type": "display_data"
    },
    {
     "name": "stdout",
     "output_type": "stream",
     "text": [
      "Training loss: 0.7315\n",
      "Validation loss: 1.1768\n",
      "Current patience: 8, current trial: 3.\n",
      "Found new best model on dev set!\n"
     ]
    },
    {
     "data": {
      "application/vnd.jupyter.widget-view+json": {
       "model_id": "b5c4b111b648449f96fb73e5cdae9117",
       "version_major": 2,
       "version_minor": 0
      },
      "text/plain": [
       "HBox(children=(IntProgress(value=0, max=23), HTML(value='')))"
      ]
     },
     "metadata": {},
     "output_type": "display_data"
    },
    {
     "name": "stdout",
     "output_type": "stream",
     "text": [
      "Training loss: 0.6246\n",
      "Validation loss: 1.2723\n",
      "Current patience: 8, current trial: 3.\n"
     ]
    },
    {
     "data": {
      "application/vnd.jupyter.widget-view+json": {
       "model_id": "0a8e8456352c4da3a665978d3a425709",
       "version_major": 2,
       "version_minor": 0
      },
      "text/plain": [
       "HBox(children=(IntProgress(value=0, max=23), HTML(value='')))"
      ]
     },
     "metadata": {},
     "output_type": "display_data"
    },
    {
     "name": "stdout",
     "output_type": "stream",
     "text": [
      "Training loss: 0.5839\n",
      "Validation loss: 1.1591\n",
      "Current patience: 7, current trial: 3.\n",
      "Found new best model on dev set!\n"
     ]
    },
    {
     "data": {
      "application/vnd.jupyter.widget-view+json": {
       "model_id": "390ef9e360204aada617d4710b490170",
       "version_major": 2,
       "version_minor": 0
      },
      "text/plain": [
       "HBox(children=(IntProgress(value=0, max=23), HTML(value='')))"
      ]
     },
     "metadata": {},
     "output_type": "display_data"
    },
    {
     "name": "stdout",
     "output_type": "stream",
     "text": [
      "Training loss: 0.5475\n",
      "Validation loss: 1.0939\n",
      "Current patience: 8, current trial: 3.\n",
      "Found new best model on dev set!\n"
     ]
    },
    {
     "data": {
      "application/vnd.jupyter.widget-view+json": {
       "model_id": "de6b61e9a66a488096107d8c9380b2e2",
       "version_major": 2,
       "version_minor": 0
      },
      "text/plain": [
       "HBox(children=(IntProgress(value=0, max=23), HTML(value='')))"
      ]
     },
     "metadata": {},
     "output_type": "display_data"
    },
    {
     "name": "stdout",
     "output_type": "stream",
     "text": [
      "Training loss: 0.4957\n",
      "Validation loss: 1.115\n",
      "Current patience: 8, current trial: 3.\n"
     ]
    },
    {
     "data": {
      "application/vnd.jupyter.widget-view+json": {
       "model_id": "8e95171ce2c147d18aaef064f7c498a8",
       "version_major": 2,
       "version_minor": 0
      },
      "text/plain": [
       "HBox(children=(IntProgress(value=0, max=23), HTML(value='')))"
      ]
     },
     "metadata": {},
     "output_type": "display_data"
    },
    {
     "name": "stdout",
     "output_type": "stream",
     "text": [
      "Training loss: 0.4584\n",
      "Validation loss: 1.0815\n",
      "Current patience: 7, current trial: 3.\n",
      "Found new best model on dev set!\n"
     ]
    },
    {
     "data": {
      "application/vnd.jupyter.widget-view+json": {
       "model_id": "86670ce55198413e8d70152dcb67ee53",
       "version_major": 2,
       "version_minor": 0
      },
      "text/plain": [
       "HBox(children=(IntProgress(value=0, max=23), HTML(value='')))"
      ]
     },
     "metadata": {},
     "output_type": "display_data"
    },
    {
     "name": "stdout",
     "output_type": "stream",
     "text": [
      "Training loss: 0.427\n",
      "Validation loss: 1.0937\n",
      "Current patience: 8, current trial: 3.\n"
     ]
    },
    {
     "data": {
      "application/vnd.jupyter.widget-view+json": {
       "model_id": "ea97e40e4bf544fbbc2ec69a72b2084e",
       "version_major": 2,
       "version_minor": 0
      },
      "text/plain": [
       "HBox(children=(IntProgress(value=0, max=23), HTML(value='')))"
      ]
     },
     "metadata": {},
     "output_type": "display_data"
    },
    {
     "name": "stdout",
     "output_type": "stream",
     "text": [
      "Training loss: 0.4032\n",
      "Validation loss: 1.1297\n",
      "Current patience: 7, current trial: 3.\n"
     ]
    },
    {
     "data": {
      "application/vnd.jupyter.widget-view+json": {
       "model_id": "7375a34b178c44f2a5bdeb95c05e09a5",
       "version_major": 2,
       "version_minor": 0
      },
      "text/plain": [
       "HBox(children=(IntProgress(value=0, max=23), HTML(value='')))"
      ]
     },
     "metadata": {},
     "output_type": "display_data"
    },
    {
     "name": "stdout",
     "output_type": "stream",
     "text": [
      "Training loss: 0.4028\n",
      "Validation loss: 1.0685\n",
      "Current patience: 6, current trial: 3.\n",
      "Found new best model on dev set!\n"
     ]
    },
    {
     "data": {
      "application/vnd.jupyter.widget-view+json": {
       "model_id": "a832076cf24c4cf6a0bb7c7425bae2ef",
       "version_major": 2,
       "version_minor": 0
      },
      "text/plain": [
       "HBox(children=(IntProgress(value=0, max=23), HTML(value='')))"
      ]
     },
     "metadata": {},
     "output_type": "display_data"
    },
    {
     "name": "stdout",
     "output_type": "stream",
     "text": [
      "Training loss: 0.4014\n",
      "Validation loss: 1.0524\n",
      "Current patience: 8, current trial: 3.\n",
      "Found new best model on dev set!\n"
     ]
    },
    {
     "data": {
      "application/vnd.jupyter.widget-view+json": {
       "model_id": "93e58ace9166489081c560fc20f7813b",
       "version_major": 2,
       "version_minor": 0
      },
      "text/plain": [
       "HBox(children=(IntProgress(value=0, max=23), HTML(value='')))"
      ]
     },
     "metadata": {},
     "output_type": "display_data"
    },
    {
     "name": "stdout",
     "output_type": "stream",
     "text": [
      "Training loss: 0.4073\n",
      "Validation loss: 1.0986\n",
      "Current patience: 8, current trial: 3.\n"
     ]
    },
    {
     "data": {
      "application/vnd.jupyter.widget-view+json": {
       "model_id": "5fffd1094b534ac487a51baad9181d99",
       "version_major": 2,
       "version_minor": 0
      },
      "text/plain": [
       "HBox(children=(IntProgress(value=0, max=23), HTML(value='')))"
      ]
     },
     "metadata": {},
     "output_type": "display_data"
    },
    {
     "name": "stdout",
     "output_type": "stream",
     "text": [
      "Training loss: 0.3845\n",
      "Validation loss: 1.1033\n",
      "Current patience: 7, current trial: 3.\n"
     ]
    },
    {
     "data": {
      "application/vnd.jupyter.widget-view+json": {
       "model_id": "73d8cd06000a4154b0cbc37419d0634b",
       "version_major": 2,
       "version_minor": 0
      },
      "text/plain": [
       "HBox(children=(IntProgress(value=0, max=23), HTML(value='')))"
      ]
     },
     "metadata": {},
     "output_type": "display_data"
    },
    {
     "name": "stdout",
     "output_type": "stream",
     "text": [
      "Training loss: 0.3848\n",
      "Validation loss: 1.0728\n",
      "Current patience: 6, current trial: 3.\n"
     ]
    },
    {
     "data": {
      "application/vnd.jupyter.widget-view+json": {
       "model_id": "1bc3e1051b6c4afd80b9da493d662ccf",
       "version_major": 2,
       "version_minor": 0
      },
      "text/plain": [
       "HBox(children=(IntProgress(value=0, max=23), HTML(value='')))"
      ]
     },
     "metadata": {},
     "output_type": "display_data"
    },
    {
     "name": "stdout",
     "output_type": "stream",
     "text": [
      "Training loss: 0.3926\n",
      "Validation loss: 1.1008\n",
      "Current patience: 5, current trial: 3.\n"
     ]
    },
    {
     "data": {
      "application/vnd.jupyter.widget-view+json": {
       "model_id": "32bad5e20455433baae057f85fcc5297",
       "version_major": 2,
       "version_minor": 0
      },
      "text/plain": [
       "HBox(children=(IntProgress(value=0, max=23), HTML(value='')))"
      ]
     },
     "metadata": {},
     "output_type": "display_data"
    },
    {
     "name": "stdout",
     "output_type": "stream",
     "text": [
      "Training loss: 0.3858\n",
      "Validation loss: 1.094\n",
      "Current patience: 4, current trial: 3.\n"
     ]
    },
    {
     "data": {
      "application/vnd.jupyter.widget-view+json": {
       "model_id": "272b85fae6e14cd7bb3f6ec701d9d3da",
       "version_major": 2,
       "version_minor": 0
      },
      "text/plain": [
       "HBox(children=(IntProgress(value=0, max=23), HTML(value='')))"
      ]
     },
     "metadata": {},
     "output_type": "display_data"
    },
    {
     "name": "stdout",
     "output_type": "stream",
     "text": [
      "Training loss: 0.3794\n",
      "Validation loss: 1.1458\n",
      "Current patience: 3, current trial: 3.\n"
     ]
    },
    {
     "data": {
      "application/vnd.jupyter.widget-view+json": {
       "model_id": "2fc8fd82384f4a098908715cf3b8f700",
       "version_major": 2,
       "version_minor": 0
      },
      "text/plain": [
       "HBox(children=(IntProgress(value=0, max=23), HTML(value='')))"
      ]
     },
     "metadata": {},
     "output_type": "display_data"
    },
    {
     "name": "stdout",
     "output_type": "stream",
     "text": [
      "Training loss: 0.3848\n",
      "Validation loss: 1.0925\n",
      "Current patience: 2, current trial: 3.\n"
     ]
    },
    {
     "data": {
      "application/vnd.jupyter.widget-view+json": {
       "model_id": "8ecf71919604473eb0979c33492c32ce",
       "version_major": 2,
       "version_minor": 0
      },
      "text/plain": [
       "HBox(children=(IntProgress(value=0, max=23), HTML(value='')))"
      ]
     },
     "metadata": {},
     "output_type": "display_data"
    },
    {
     "name": "stdout",
     "output_type": "stream",
     "text": [
      "Training loss: 0.3872\n",
      "Validation loss: 1.1394\n",
      "Current patience: 1, current trial: 3.\n"
     ]
    },
    {
     "data": {
      "application/vnd.jupyter.widget-view+json": {
       "model_id": "a2d2b2a289d54467b2fcc67e0df8d188",
       "version_major": 2,
       "version_minor": 0
      },
      "text/plain": [
       "HBox(children=(IntProgress(value=0, max=23), HTML(value='')))"
      ]
     },
     "metadata": {},
     "output_type": "display_data"
    },
    {
     "name": "stdout",
     "output_type": "stream",
     "text": [
      "Training loss: 0.3716\n",
      "Validation loss: 1.1504\n",
      "Current patience: 0, current trial: 3.\n",
      "Running out of patience, loading previous best model.\n",
      "Current learning rate: 0.0001\n"
     ]
    },
    {
     "data": {
      "application/vnd.jupyter.widget-view+json": {
       "model_id": "8a1c4114b8a444bbbbec42ba28227455",
       "version_major": 2,
       "version_minor": 0
      },
      "text/plain": [
       "HBox(children=(IntProgress(value=0, max=23), HTML(value='')))"
      ]
     },
     "metadata": {},
     "output_type": "display_data"
    },
    {
     "name": "stdout",
     "output_type": "stream",
     "text": [
      "Training loss: 0.3474\n",
      "Validation loss: 1.0385\n",
      "Current patience: 8, current trial: 2.\n",
      "Found new best model on dev set!\n"
     ]
    },
    {
     "data": {
      "application/vnd.jupyter.widget-view+json": {
       "model_id": "77618b96991543febe93129e36650e92",
       "version_major": 2,
       "version_minor": 0
      },
      "text/plain": [
       "HBox(children=(IntProgress(value=0, max=23), HTML(value='')))"
      ]
     },
     "metadata": {},
     "output_type": "display_data"
    },
    {
     "name": "stdout",
     "output_type": "stream",
     "text": [
      "Training loss: 0.2987\n",
      "Validation loss: 1.037\n",
      "Current patience: 8, current trial: 2.\n",
      "Found new best model on dev set!\n"
     ]
    },
    {
     "data": {
      "application/vnd.jupyter.widget-view+json": {
       "model_id": "fc71bb04b33e40fcaab2b80a2dba13fa",
       "version_major": 2,
       "version_minor": 0
      },
      "text/plain": [
       "HBox(children=(IntProgress(value=0, max=23), HTML(value='')))"
      ]
     },
     "metadata": {},
     "output_type": "display_data"
    },
    {
     "name": "stdout",
     "output_type": "stream",
     "text": [
      "Training loss: 0.2694\n",
      "Validation loss: 1.0471\n",
      "Current patience: 8, current trial: 2.\n"
     ]
    },
    {
     "data": {
      "application/vnd.jupyter.widget-view+json": {
       "model_id": "67b06c93355b4d2b935f6360cbe9a9a7",
       "version_major": 2,
       "version_minor": 0
      },
      "text/plain": [
       "HBox(children=(IntProgress(value=0, max=23), HTML(value='')))"
      ]
     },
     "metadata": {},
     "output_type": "display_data"
    },
    {
     "name": "stdout",
     "output_type": "stream",
     "text": [
      "Training loss: 0.2567\n",
      "Validation loss: 1.0351\n",
      "Current patience: 7, current trial: 2.\n",
      "Found new best model on dev set!\n"
     ]
    },
    {
     "data": {
      "application/vnd.jupyter.widget-view+json": {
       "model_id": "2e690223607148bdaf3f9a5abb057b32",
       "version_major": 2,
       "version_minor": 0
      },
      "text/plain": [
       "HBox(children=(IntProgress(value=0, max=23), HTML(value='')))"
      ]
     },
     "metadata": {},
     "output_type": "display_data"
    },
    {
     "name": "stdout",
     "output_type": "stream",
     "text": [
      "Training loss: 0.2306\n",
      "Validation loss: 1.0464\n",
      "Current patience: 8, current trial: 2.\n"
     ]
    },
    {
     "data": {
      "application/vnd.jupyter.widget-view+json": {
       "model_id": "3aedf3a77ccc4346bf2d3244b5ef6b7b",
       "version_major": 2,
       "version_minor": 0
      },
      "text/plain": [
       "HBox(children=(IntProgress(value=0, max=23), HTML(value='')))"
      ]
     },
     "metadata": {},
     "output_type": "display_data"
    },
    {
     "name": "stdout",
     "output_type": "stream",
     "text": [
      "Training loss: 0.2383\n",
      "Validation loss: 1.0647\n",
      "Current patience: 7, current trial: 2.\n"
     ]
    },
    {
     "data": {
      "application/vnd.jupyter.widget-view+json": {
       "model_id": "4b505d7f8cf84ca88697386769181d50",
       "version_major": 2,
       "version_minor": 0
      },
      "text/plain": [
       "HBox(children=(IntProgress(value=0, max=23), HTML(value='')))"
      ]
     },
     "metadata": {},
     "output_type": "display_data"
    },
    {
     "name": "stdout",
     "output_type": "stream",
     "text": [
      "Training loss: 0.2395\n",
      "Validation loss: 1.0512\n",
      "Current patience: 6, current trial: 2.\n"
     ]
    },
    {
     "data": {
      "application/vnd.jupyter.widget-view+json": {
       "model_id": "32e5b4e8fbe8439ea27aa8e668df08fd",
       "version_major": 2,
       "version_minor": 0
      },
      "text/plain": [
       "HBox(children=(IntProgress(value=0, max=23), HTML(value='')))"
      ]
     },
     "metadata": {},
     "output_type": "display_data"
    },
    {
     "name": "stdout",
     "output_type": "stream",
     "text": [
      "Training loss: 0.224\n",
      "Validation loss: 1.0518\n",
      "Current patience: 5, current trial: 2.\n"
     ]
    },
    {
     "data": {
      "application/vnd.jupyter.widget-view+json": {
       "model_id": "a0780ec753db4db083a5bceaa91c9f82",
       "version_major": 2,
       "version_minor": 0
      },
      "text/plain": [
       "HBox(children=(IntProgress(value=0, max=23), HTML(value='')))"
      ]
     },
     "metadata": {},
     "output_type": "display_data"
    },
    {
     "name": "stdout",
     "output_type": "stream",
     "text": [
      "Training loss: 0.2209\n",
      "Validation loss: 1.0604\n",
      "Current patience: 4, current trial: 2.\n"
     ]
    },
    {
     "data": {
      "application/vnd.jupyter.widget-view+json": {
       "model_id": "04deceb4c37246429538b469f4e6d6bc",
       "version_major": 2,
       "version_minor": 0
      },
      "text/plain": [
       "HBox(children=(IntProgress(value=0, max=23), HTML(value='')))"
      ]
     },
     "metadata": {},
     "output_type": "display_data"
    },
    {
     "name": "stdout",
     "output_type": "stream",
     "text": [
      "Training loss: 0.2029\n",
      "Validation loss: 1.0552\n",
      "Current patience: 3, current trial: 2.\n"
     ]
    },
    {
     "data": {
      "application/vnd.jupyter.widget-view+json": {
       "model_id": "a0e10873f5744dada6e0824b06960466",
       "version_major": 2,
       "version_minor": 0
      },
      "text/plain": [
       "HBox(children=(IntProgress(value=0, max=23), HTML(value='')))"
      ]
     },
     "metadata": {},
     "output_type": "display_data"
    },
    {
     "name": "stdout",
     "output_type": "stream",
     "text": [
      "Training loss: 0.2093\n",
      "Validation loss: 1.0569\n",
      "Current patience: 2, current trial: 2.\n"
     ]
    },
    {
     "data": {
      "application/vnd.jupyter.widget-view+json": {
       "model_id": "07aa9d339def4e5388a716a30b0f7050",
       "version_major": 2,
       "version_minor": 0
      },
      "text/plain": [
       "HBox(children=(IntProgress(value=0, max=23), HTML(value='')))"
      ]
     },
     "metadata": {},
     "output_type": "display_data"
    },
    {
     "name": "stdout",
     "output_type": "stream",
     "text": [
      "Training loss: 0.2015\n",
      "Validation loss: 1.0552\n",
      "Current patience: 1, current trial: 2.\n"
     ]
    },
    {
     "data": {
      "application/vnd.jupyter.widget-view+json": {
       "model_id": "59bf26bd5827411e812d8b0e2cfd3ec0",
       "version_major": 2,
       "version_minor": 0
      },
      "text/plain": [
       "HBox(children=(IntProgress(value=0, max=23), HTML(value='')))"
      ]
     },
     "metadata": {},
     "output_type": "display_data"
    },
    {
     "name": "stdout",
     "output_type": "stream",
     "text": [
      "Training loss: 0.2096\n",
      "Validation loss: 1.0622\n",
      "Current patience: 0, current trial: 2.\n",
      "Running out of patience, loading previous best model.\n",
      "Current learning rate: 1.0000000000000003e-05\n"
     ]
    },
    {
     "data": {
      "application/vnd.jupyter.widget-view+json": {
       "model_id": "2485a53aa74e4e2db0ba56ad95b87fbe",
       "version_major": 2,
       "version_minor": 0
      },
      "text/plain": [
       "HBox(children=(IntProgress(value=0, max=23), HTML(value='')))"
      ]
     },
     "metadata": {},
     "output_type": "display_data"
    },
    {
     "name": "stdout",
     "output_type": "stream",
     "text": [
      "Training loss: 0.2436\n",
      "Validation loss: 1.0393\n",
      "Current patience: 8, current trial: 1.\n"
     ]
    },
    {
     "data": {
      "application/vnd.jupyter.widget-view+json": {
       "model_id": "7003eb39dfb24e279945e2626c959a52",
       "version_major": 2,
       "version_minor": 0
      },
      "text/plain": [
       "HBox(children=(IntProgress(value=0, max=23), HTML(value='')))"
      ]
     },
     "metadata": {},
     "output_type": "display_data"
    },
    {
     "name": "stdout",
     "output_type": "stream",
     "text": [
      "Training loss: 0.2258\n",
      "Validation loss: 1.0402\n",
      "Current patience: 7, current trial: 1.\n"
     ]
    },
    {
     "data": {
      "application/vnd.jupyter.widget-view+json": {
       "model_id": "b333b96e403d4e5d91656643cdc8642d",
       "version_major": 2,
       "version_minor": 0
      },
      "text/plain": [
       "HBox(children=(IntProgress(value=0, max=23), HTML(value='')))"
      ]
     },
     "metadata": {},
     "output_type": "display_data"
    },
    {
     "name": "stdout",
     "output_type": "stream",
     "text": [
      "Training loss: 0.2464\n",
      "Validation loss: 1.0353\n",
      "Current patience: 6, current trial: 1.\n"
     ]
    },
    {
     "data": {
      "application/vnd.jupyter.widget-view+json": {
       "model_id": "1c940ab618644e8e843fe613ec66ac99",
       "version_major": 2,
       "version_minor": 0
      },
      "text/plain": [
       "HBox(children=(IntProgress(value=0, max=23), HTML(value='')))"
      ]
     },
     "metadata": {},
     "output_type": "display_data"
    },
    {
     "name": "stdout",
     "output_type": "stream",
     "text": [
      "Training loss: 0.2323\n",
      "Validation loss: 1.0411\n",
      "Current patience: 5, current trial: 1.\n"
     ]
    },
    {
     "data": {
      "application/vnd.jupyter.widget-view+json": {
       "model_id": "0088b4a26d6c4d15a83daceff5cf7cb3",
       "version_major": 2,
       "version_minor": 0
      },
      "text/plain": [
       "HBox(children=(IntProgress(value=0, max=23), HTML(value='')))"
      ]
     },
     "metadata": {},
     "output_type": "display_data"
    },
    {
     "name": "stdout",
     "output_type": "stream",
     "text": [
      "Training loss: 0.2406\n",
      "Validation loss: 1.0407\n",
      "Current patience: 4, current trial: 1.\n"
     ]
    },
    {
     "data": {
      "application/vnd.jupyter.widget-view+json": {
       "model_id": "b3529d31911343dd9a3205db81a6949d",
       "version_major": 2,
       "version_minor": 0
      },
      "text/plain": [
       "HBox(children=(IntProgress(value=0, max=23), HTML(value='')))"
      ]
     },
     "metadata": {},
     "output_type": "display_data"
    },
    {
     "name": "stdout",
     "output_type": "stream",
     "text": [
      "Training loss: 0.2243\n",
      "Validation loss: 1.0435\n",
      "Current patience: 3, current trial: 1.\n"
     ]
    },
    {
     "data": {
      "application/vnd.jupyter.widget-view+json": {
       "model_id": "d7e6536dfc154d1a85fd62af7d4f569d",
       "version_major": 2,
       "version_minor": 0
      },
      "text/plain": [
       "HBox(children=(IntProgress(value=0, max=23), HTML(value='')))"
      ]
     },
     "metadata": {},
     "output_type": "display_data"
    },
    {
     "name": "stdout",
     "output_type": "stream",
     "text": [
      "Training loss: 0.2372\n",
      "Validation loss: 1.0399\n",
      "Current patience: 2, current trial: 1.\n"
     ]
    },
    {
     "data": {
      "application/vnd.jupyter.widget-view+json": {
       "model_id": "320c2a946d344e259065b8262637522d",
       "version_major": 2,
       "version_minor": 0
      },
      "text/plain": [
       "HBox(children=(IntProgress(value=0, max=23), HTML(value='')))"
      ]
     },
     "metadata": {},
     "output_type": "display_data"
    },
    {
     "name": "stdout",
     "output_type": "stream",
     "text": [
      "Training loss: 0.2314\n",
      "Validation loss: 1.0417\n",
      "Current patience: 1, current trial: 1.\n"
     ]
    },
    {
     "data": {
      "application/vnd.jupyter.widget-view+json": {
       "model_id": "7fbc1a08a63c40b08c71706913ff6a6e",
       "version_major": 2,
       "version_minor": 0
      },
      "text/plain": [
       "HBox(children=(IntProgress(value=0, max=23), HTML(value='')))"
      ]
     },
     "metadata": {},
     "output_type": "display_data"
    },
    {
     "name": "stdout",
     "output_type": "stream",
     "text": [
      "Training loss: 0.2231\n",
      "Validation loss: 1.0375\n",
      "Current patience: 0, current trial: 1.\n",
      "Running out of patience, loading previous best model.\n",
      "Current learning rate: 1.0000000000000002e-06\n",
      "Running out of patience, early stopping.\n",
      "Test set performance: 1.0627462150406664\n",
      "Test set accuracy is 0.7167883211678832\n"
     ]
    }
   ],
   "source": [
    "\"\"\"\n",
    "from tqdm import tqdm_notebook\n",
    "from torch.optim import Adam, SGD\n",
    "from sklearn.metrics import accuracy_score\n",
    "\n",
    "torch.manual_seed(123)\n",
    "torch.cuda.manual_seed_all(123)\n",
    "\n",
    "CUDA = torch.cuda.is_available()\n",
    "MAX_EPOCH = 1000\n",
    "\n",
    "text_size = 300\n",
    "visual_size = 47\n",
    "acoustic_size = 74\n",
    "\n",
    "# define some model settings and hyper-parameters\n",
    "input_sizes = [text_size, visual_size, acoustic_size]\n",
    "hidden_sizes = [int(text_size * 1.5), int(visual_size * 1.5), int(acoustic_size * 1.5)]\n",
    "fc1_size = sum(hidden_sizes) // 2\n",
    "dropout = 0.25\n",
    "output_size = 1\n",
    "curr_patience = patience = 8\n",
    "num_trials = 3\n",
    "grad_clip_value = 1.0\n",
    "weight_decay = 0.1\n",
    "\n",
    "if os.path.exists(CACHE_PATH):\n",
    "    pretrained_emb, word2id = torch.load(CACHE_PATH)\n",
    "elif WORD_EMB_PATH is not None:\n",
    "    pretrained_emb = load_emb(word2id, WORD_EMB_PATH)\n",
    "    torch.save((pretrained_emb, word2id), CACHE_PATH)\n",
    "else:\n",
    "    pretrained_emb = None\n",
    "\n",
    "model = LFLSTM(input_sizes, hidden_sizes, fc1_size, output_size, dropout)\n",
    "if pretrained_emb is not None:\n",
    "    model.embed.weight.data = pretrained_emb\n",
    "model.embed.requires_grad = False\n",
    "optimizer = Adam([param for param in model.parameters() if param.requires_grad], weight_decay=weight_decay)\n",
    "\n",
    "if CUDA:\n",
    "    model.cuda()\n",
    "criterion = nn.L1Loss(reduction='sum')\n",
    "criterion_test = nn.L1Loss(reduction='sum')\n",
    "best_valid_loss = float('inf')\n",
    "lr_scheduler = torch.optim.lr_scheduler.StepLR(optimizer, step_size=1, gamma=0.1)\n",
    "lr_scheduler.step() # for some reason it seems the StepLR needs to be stepped once first\n",
    "train_losses = []\n",
    "valid_losses = []\n",
    "for e in range(MAX_EPOCH):\n",
    "    model.train()\n",
    "    train_iter = tqdm_notebook(train_loader)\n",
    "    train_loss = 0.0\n",
    "    for batch in train_iter:\n",
    "        model.zero_grad()\n",
    "        t, v, a, y, l = batch\n",
    "        batch_size = t.size(0)\n",
    "        if CUDA:\n",
    "            t = t.cuda()\n",
    "            v = v.cuda()\n",
    "            a = a.cuda()\n",
    "            y = y.cuda()\n",
    "            l = l.cuda()\n",
    "        y_tilde = model(t, v, a, l)\n",
    "        loss = criterion(y_tilde, y)\n",
    "        loss.backward()\n",
    "        torch.nn.utils.clip_grad_value_([param for param in model.parameters() if param.requires_grad], grad_clip_value)\n",
    "        optimizer.step()\n",
    "        train_iter.set_description(f\"Epoch {e}/{MAX_EPOCH}, current batch loss: {round(loss.item()/batch_size, 4)}\")\n",
    "        train_loss += loss.item()\n",
    "    train_loss = train_loss / len(train)\n",
    "    train_losses.append(train_loss)\n",
    "    print(f\"Training loss: {round(train_loss, 4)}\")\n",
    "\n",
    "    model.eval()\n",
    "    with torch.no_grad():\n",
    "        valid_loss = 0.0\n",
    "        for batch in dev_loader:\n",
    "            model.zero_grad()\n",
    "            t, v, a, y, l = batch\n",
    "            if CUDA:\n",
    "                t = t.cuda()\n",
    "                v = v.cuda()\n",
    "                a = a.cuda()\n",
    "                y = y.cuda()\n",
    "                l = l.cuda()\n",
    "            y_tilde = model(t, v, a, l)\n",
    "            loss = criterion(y_tilde, y)\n",
    "            valid_loss += loss.item()\n",
    "    \n",
    "    valid_loss = valid_loss/len(dev)\n",
    "    valid_losses.append(valid_loss)\n",
    "    print(f\"Validation loss: {round(valid_loss, 4)}\")\n",
    "    print(f\"Current patience: {curr_patience}, current trial: {num_trials}.\")\n",
    "    if valid_loss <= best_valid_loss:\n",
    "        best_valid_loss = valid_loss\n",
    "        print(\"Found new best model on dev set!\")\n",
    "        torch.save(model.state_dict(), 'model.std')\n",
    "        torch.save(optimizer.state_dict(), 'optim.std')\n",
    "        curr_patience = patience\n",
    "    else:\n",
    "        curr_patience -= 1\n",
    "        if curr_patience <= -1:\n",
    "            print(\"Running out of patience, loading previous best model.\")\n",
    "            num_trials -= 1\n",
    "            curr_patience = patience\n",
    "            model.load_state_dict(torch.load('model.std'))\n",
    "            optimizer.load_state_dict(torch.load('optim.std'))\n",
    "            lr_scheduler.step()\n",
    "            print(f\"Current learning rate: {optimizer.state_dict()['param_groups'][0]['lr']}\")\n",
    "    \n",
    "    if num_trials <= 0:\n",
    "        print(\"Running out of patience, early stopping.\")\n",
    "        break\n",
    "\n",
    "model.load_state_dict(torch.load('model.std'))\n",
    "y_true = []\n",
    "y_pred = []\n",
    "model.eval()\n",
    "with torch.no_grad():\n",
    "    test_loss = 0.0\n",
    "    for batch in test_loader:\n",
    "        model.zero_grad()\n",
    "        t, v, a, y, l = batch\n",
    "        if CUDA:\n",
    "            t = t.cuda()\n",
    "            v = v.cuda()\n",
    "            a = a.cuda()\n",
    "            y = y.cuda()\n",
    "            l = l.cuda()\n",
    "        y_tilde = model(t, v, a, l)\n",
    "        loss = criterion_test(y_tilde, y)\n",
    "        y_true.append(y_tilde.detach().cpu().numpy())\n",
    "        y_pred.append(y.detach().cpu().numpy())\n",
    "        test_loss += loss.item()\n",
    "print(f\"Test set performance: {test_loss/len(test)}\")\n",
    "y_true = np.concatenate(y_true, axis=0)\n",
    "y_pred = np.concatenate(y_pred, axis=0)\n",
    "                  \n",
    "y_true_bin = y_true >= 0\n",
    "y_pred_bin = y_pred >= 0\n",
    "bin_acc = accuracy_score(y_true_bin, y_pred_bin)\n",
    "print(f\"Test set accuracy is {bin_acc}\")\n",
    "\"\"\""
   ]
  },
  {
   "cell_type": "code",
   "execution_count": null,
   "metadata": {},
   "outputs": [],
   "source": []
  }
 ],
 "metadata": {
  "kernelspec": {
   "display_name": "Python 3",
   "language": "python",
   "name": "python3"
  },
  "language_info": {
   "codemirror_mode": {
    "name": "ipython",
    "version": 3
   },
   "file_extension": ".py",
   "mimetype": "text/x-python",
   "name": "python",
   "nbconvert_exporter": "python",
   "pygments_lexer": "ipython3",
   "version": "3.8.5-final"
  }
 },
 "nbformat": 4,
 "nbformat_minor": 2
}