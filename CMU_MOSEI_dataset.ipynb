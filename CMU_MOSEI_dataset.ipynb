{
  "nbformat": 4,
  "nbformat_minor": 0,
  "metadata": {
    "colab": {
      "name": "CMU_MOSEI_dataset.ipynb",
      "provenance": [],
      "mount_file_id": "1WH0Zg5gVSWIFetRkcg4wqpGAKPvnSxS0",
      "authorship_tag": "ABX9TyNuyaQAK0wWuFYTqyQ9yNFM",
      "include_colab_link": true
    },
    "kernelspec": {
      "name": "python3",
      "display_name": "Python 3"
    }
  },
  "cells": [
    {
      "cell_type": "markdown",
      "metadata": {
        "id": "view-in-github",
        "colab_type": "text"
      },
      "source": [
        "<a href=\"https://colab.research.google.com/github/Astuary/MultimodalTransformer/blob/master/CMU_MOSEI_dataset.ipynb\" target=\"_parent\"><img src=\"https://colab.research.google.com/assets/colab-badge.svg\" alt=\"Open In Colab\"/></a>"
      ]
    },
    {
      "cell_type": "markdown",
      "metadata": {
        "id": "1GJA2nJrYs4C",
        "colab_type": "text"
      },
      "source": [
        "Mount the Drive"
      ]
    },
    {
      "cell_type": "code",
      "metadata": {
        "id": "M0gMsDrrUnV9",
        "colab_type": "code",
        "colab": {
          "base_uri": "https://localhost:8080/",
          "height": 52
        },
        "outputId": "2a2378d1-57da-4e20-aadd-6ed30d204dbc"
      },
      "source": [
        "from google.colab import drive\n",
        "drive.mount('/content/gdrive')\n",
        "! ls"
      ],
      "execution_count": 2,
      "outputs": [
        {
          "output_type": "stream",
          "text": [
            "Mounted at /content/gdrive\n",
            "drive  gdrive  sample_data\n"
          ],
          "name": "stdout"
        }
      ]
    },
    {
      "cell_type": "markdown",
      "metadata": {
        "id": "RUXTUiEgYvBD",
        "colab_type": "text"
      },
      "source": [
        "Clone the repo"
      ]
    },
    {
      "cell_type": "code",
      "metadata": {
        "id": "uJsXJhr1YOhT",
        "colab_type": "code",
        "colab": {
          "base_uri": "https://localhost:8080/",
          "height": 35
        },
        "outputId": "5581bcbf-98d9-47c1-88fd-93387a2f2836"
      },
      "source": [
        "%cd /content/gdrive/My Drive/Multimodal Emotion Recognition/Notebooks/Dataset\n",
        "## Uncomment the line below to download the dataset\n",
        "#! git clone https://github.com/A2Zadeh/CMU-MultimodalSDK.git"
      ],
      "execution_count": null,
      "outputs": [
        {
          "output_type": "stream",
          "text": [
            "/content/gdrive/My Drive/Multimodal Emotion Recognition/Notebooks/Dataset\n"
          ],
          "name": "stdout"
        }
      ]
    },
    {
      "cell_type": "code",
      "metadata": {
        "id": "MT6EhegbZkqF",
        "colab_type": "code",
        "colab": {}
      },
      "source": [
        "! pip install h5py validators tqdm numpy argparse requests colorama"
      ],
      "execution_count": null,
      "outputs": []
    },
    {
      "cell_type": "markdown",
      "metadata": {
        "id": "KlpRpL1JaVJB",
        "colab_type": "text"
      },
      "source": [
        "Import all the dependencies"
      ]
    },
    {
      "cell_type": "code",
      "metadata": {
        "id": "JCOuyCM3ZxGe",
        "colab_type": "code",
        "colab": {
          "base_uri": "https://localhost:8080/",
          "height": 55
        },
        "outputId": "be205856-3c6a-4ae3-f6f1-ca0a59eb4eb5"
      },
      "source": [
        "import sys\n",
        "sys.path.append(\"/content/gdrive/My Drive/Multimodal Emotion Recognition/Notebooks/Dataset/CMU-MultimodalSDK\")\n",
        "print(sys.path)\n",
        "from mmsdk import mmdatasdk\n",
        "\n"
      ],
      "execution_count": 3,
      "outputs": [
        {
          "output_type": "stream",
          "text": [
            "['', '/env/python', '/usr/lib/python36.zip', '/usr/lib/python3.6', '/usr/lib/python3.6/lib-dynload', '/usr/local/lib/python3.6/dist-packages', '/usr/lib/python3/dist-packages', '/usr/local/lib/python3.6/dist-packages/IPython/extensions', '/root/.ipython', '/content/gdrive/My Drive/Multimodal Emotion Recognition/Notebooks/Dataset/CMU-MultimodalSDK']\n"
          ],
          "name": "stdout"
        }
      ]
    },
    {
      "cell_type": "markdown",
      "metadata": {
        "id": "ZR7_7rtNgezB",
        "colab_type": "text"
      },
      "source": [
        "Download CMU-MOSEI high level feature dataset"
      ]
    },
    {
      "cell_type": "code",
      "metadata": {
        "id": "z7Txx0KGbu8c",
        "colab_type": "code",
        "colab": {
          "base_uri": "https://localhost:8080/",
          "height": 1000
        },
        "outputId": "0f8fd5e2-d543-45b2-8e1c-162f4c51be93"
      },
      "source": [
        "## Uncomment this to download the data\n",
        "#cmumosei_highlevel=mmdatasdk.mmdataset(mmdatasdk.cmu_mosi.highlevel, '/content/gdrive/My Drive/Multimodal Emotion Recognition/Notebooks/Dataset/cmumosei/')\n",
        "#cmumosei_labels=mmdatasdk.mmdataset(mmdatasdk.cmu_mosei.labels,'/content/gdrive/My Drive/Multimodal Emotion Recognition/Notebooks/Dataset/cmumosei/')\n",
        "\n",
        "cmumosei_highlevel=mmdatasdk.mmdataset('/content/gdrive/My Drive/Multimodal Emotion Recognition/Notebooks/Dataset/cmumosei/')\n",
        "cmumosei_labels=mmdatasdk.mmdataset('/content/gdrive/My Drive/Multimodal Emotion Recognition/Notebooks/Dataset/cmumosei/')"
      ],
      "execution_count": 4,
      "outputs": [
        {
          "output_type": "stream",
          "text": [
            "\u001b[92m\u001b[1m[2020-09-19 18:18:46.364] | Success | \u001b[0mComputational sequence read from file /content/gdrive/My Drive/Multimodal Emotion Recognition/Notebooks/Dataset/cmumosei/CMU_MOSEI_TimestampedWordVectors.csd ...\n"
          ],
          "name": "stdout"
        },
        {
          "output_type": "stream",
          "text": [
            "  0%|          | 7/3837 [00:00<00:57, 67.06 Computational Sequence Entries/s]"
          ],
          "name": "stderr"
        },
        {
          "output_type": "stream",
          "text": [
            "\u001b[94m\u001b[1m[2020-09-19 18:18:52.540] | Status  | \u001b[0mChecking the integrity of the <glove_vectors> computational sequence ...\n",
            "\u001b[94m\u001b[1m[2020-09-19 18:18:52.541] | Status  | \u001b[0mChecking the format of the data in <glove_vectors> computational sequence ...\n"
          ],
          "name": "stdout"
        },
        {
          "output_type": "stream",
          "text": [
            ""
          ],
          "name": "stderr"
        },
        {
          "output_type": "stream",
          "text": [
            "\u001b[92m\u001b[1m[2020-09-19 18:19:42.242] | Success | \u001b[0m<glove_vectors> computational sequence data in correct format.\n",
            "\u001b[94m\u001b[1m[2020-09-19 18:19:42.243] | Status  | \u001b[0mChecking the format of the metadata in <glove_vectors> computational sequence ...\n",
            "\u001b[92m\u001b[1m[2020-09-19 18:19:42.243] | Success | \u001b[0m<glove_vectors> computational sequence metadata in correct format.\n",
            "\u001b[92m\u001b[1m[2020-09-19 18:19:42.243] | Success | \u001b[0m<glove_vectors> computational sequence is valid!\n",
            "\u001b[92m\u001b[1m[2020-09-19 18:19:42.256] | Success | \u001b[0mComputational sequence read from file /content/gdrive/My Drive/Multimodal Emotion Recognition/Notebooks/Dataset/cmumosei/CMU_MOSEI_COVAREP.csd ...\n"
          ],
          "name": "stdout"
        },
        {
          "output_type": "stream",
          "text": [
            "  0%|          | 15/3836 [00:00<00:27, 141.08 Computational Sequence Entries/s]"
          ],
          "name": "stderr"
        },
        {
          "output_type": "stream",
          "text": [
            "\u001b[94m\u001b[1m[2020-09-19 18:19:48.134] | Status  | \u001b[0mChecking the integrity of the <COVAREP> computational sequence ...\n",
            "\u001b[94m\u001b[1m[2020-09-19 18:19:48.135] | Status  | \u001b[0mChecking the format of the data in <COVAREP> computational sequence ...\n"
          ],
          "name": "stdout"
        },
        {
          "output_type": "stream",
          "text": [
            ""
          ],
          "name": "stderr"
        },
        {
          "output_type": "stream",
          "text": [
            "\u001b[92m\u001b[1m[2020-09-19 18:20:25.426] | Success | \u001b[0m<COVAREP> computational sequence data in correct format.\n",
            "\u001b[94m\u001b[1m[2020-09-19 18:20:25.426] | Status  | \u001b[0mChecking the format of the metadata in <COVAREP> computational sequence ...\n",
            "\u001b[92m\u001b[1m[2020-09-19 18:20:25.426] | Success | \u001b[0m<COVAREP> computational sequence metadata in correct format.\n",
            "\u001b[92m\u001b[1m[2020-09-19 18:20:25.426] | Success | \u001b[0m<COVAREP> computational sequence is valid!\n",
            "\u001b[92m\u001b[1m[2020-09-19 18:20:25.445] | Success | \u001b[0mComputational sequence read from file /content/gdrive/My Drive/Multimodal Emotion Recognition/Notebooks/Dataset/cmumosei/CMU_MOSEI_VisualOpenFace2.csd ...\n"
          ],
          "name": "stdout"
        },
        {
          "output_type": "stream",
          "text": [
            "  0%|          | 15/3837 [00:00<00:25, 147.69 Computational Sequence Entries/s]"
          ],
          "name": "stderr"
        },
        {
          "output_type": "stream",
          "text": [
            "\u001b[94m\u001b[1m[2020-09-19 18:20:30.546] | Status  | \u001b[0mChecking the integrity of the <OpenFace_2> computational sequence ...\n",
            "\u001b[94m\u001b[1m[2020-09-19 18:20:30.547] | Status  | \u001b[0mChecking the format of the data in <OpenFace_2> computational sequence ...\n"
          ],
          "name": "stdout"
        },
        {
          "output_type": "stream",
          "text": [
            ""
          ],
          "name": "stderr"
        },
        {
          "output_type": "stream",
          "text": [
            "\u001b[92m\u001b[1m[2020-09-19 18:21:05.726] | Success | \u001b[0m<OpenFace_2> computational sequence data in correct format.\n",
            "\u001b[94m\u001b[1m[2020-09-19 18:21:05.726] | Status  | \u001b[0mChecking the format of the metadata in <OpenFace_2> computational sequence ...\n",
            "\u001b[92m\u001b[1m[2020-09-19 18:21:05.726] | Success | \u001b[0m<OpenFace_2> computational sequence metadata in correct format.\n",
            "\u001b[92m\u001b[1m[2020-09-19 18:21:05.726] | Success | \u001b[0m<OpenFace_2> computational sequence is valid!\n",
            "\u001b[92m\u001b[1m[2020-09-19 18:21:05.739] | Success | \u001b[0mComputational sequence read from file /content/gdrive/My Drive/Multimodal Emotion Recognition/Notebooks/Dataset/cmumosei/CMU_MOSEI_VisualFacet42.csd ...\n"
          ],
          "name": "stdout"
        },
        {
          "output_type": "stream",
          "text": [
            "  1%|          | 31/3837 [00:00<00:12, 309.21 Computational Sequence Entries/s]"
          ],
          "name": "stderr"
        },
        {
          "output_type": "stream",
          "text": [
            "\u001b[94m\u001b[1m[2020-09-19 18:21:09.832] | Status  | \u001b[0mChecking the integrity of the <FACET 4.2> computational sequence ...\n",
            "\u001b[94m\u001b[1m[2020-09-19 18:21:09.833] | Status  | \u001b[0mChecking the format of the data in <FACET 4.2> computational sequence ...\n"
          ],
          "name": "stdout"
        },
        {
          "output_type": "stream",
          "text": [
            ""
          ],
          "name": "stderr"
        },
        {
          "output_type": "stream",
          "text": [
            "\u001b[92m\u001b[1m[2020-09-19 18:21:22.363] | Success | \u001b[0m<FACET 4.2> computational sequence data in correct format.\n",
            "\u001b[94m\u001b[1m[2020-09-19 18:21:22.363] | Status  | \u001b[0mChecking the format of the metadata in <FACET 4.2> computational sequence ...\n",
            "\u001b[92m\u001b[1m[2020-09-19 18:21:22.363] | Success | \u001b[0m<FACET 4.2> computational sequence metadata in correct format.\n",
            "\u001b[92m\u001b[1m[2020-09-19 18:21:22.363] | Success | \u001b[0m<FACET 4.2> computational sequence is valid!\n",
            "\u001b[92m\u001b[1m[2020-09-19 18:21:22.370] | Success | \u001b[0mComputational sequence read from file /content/gdrive/My Drive/Multimodal Emotion Recognition/Notebooks/Dataset/cmumosei/CMU_MOSEI_Labels.csd ...\n"
          ],
          "name": "stdout"
        },
        {
          "output_type": "stream",
          "text": [
            "  6%|▋         | 207/3293 [00:00<00:01, 2061.16 Computational Sequence Entries/s]"
          ],
          "name": "stderr"
        },
        {
          "output_type": "stream",
          "text": [
            "\u001b[94m\u001b[1m[2020-09-19 18:21:24.866] | Status  | \u001b[0mChecking the integrity of the <All Labels> computational sequence ...\n",
            "\u001b[94m\u001b[1m[2020-09-19 18:21:24.866] | Status  | \u001b[0mChecking the format of the data in <All Labels> computational sequence ...\n"
          ],
          "name": "stdout"
        },
        {
          "output_type": "stream",
          "text": [
            ""
          ],
          "name": "stderr"
        },
        {
          "output_type": "stream",
          "text": [
            "\u001b[92m\u001b[1m[2020-09-19 18:21:26.210] | Success | \u001b[0m<All Labels> computational sequence data in correct format.\n",
            "\u001b[94m\u001b[1m[2020-09-19 18:21:26.211] | Status  | \u001b[0mChecking the format of the metadata in <All Labels> computational sequence ...\n",
            "\u001b[92m\u001b[1m[2020-09-19 18:21:26.211] | Success | \u001b[0m<All Labels> computational sequence metadata in correct format.\n",
            "\u001b[92m\u001b[1m[2020-09-19 18:21:26.211] | Success | \u001b[0m<All Labels> computational sequence is valid!\n",
            "\u001b[92m\u001b[1m[2020-09-19 18:21:26.211] | Success | \u001b[0mDataset initialized successfully ... \n",
            "\u001b[92m\u001b[1m[2020-09-19 18:21:26.224] | Success | \u001b[0mComputational sequence read from file /content/gdrive/My Drive/Multimodal Emotion Recognition/Notebooks/Dataset/cmumosei/CMU_MOSEI_TimestampedWordVectors.csd ...\n"
          ],
          "name": "stdout"
        },
        {
          "output_type": "stream",
          "text": [
            "  1%|          | 31/3837 [00:00<00:13, 292.10 Computational Sequence Entries/s]"
          ],
          "name": "stderr"
        },
        {
          "output_type": "stream",
          "text": [
            "\u001b[94m\u001b[1m[2020-09-19 18:21:28.904] | Status  | \u001b[0mChecking the integrity of the <glove_vectors> computational sequence ...\n",
            "\u001b[94m\u001b[1m[2020-09-19 18:21:28.904] | Status  | \u001b[0mChecking the format of the data in <glove_vectors> computational sequence ...\n"
          ],
          "name": "stdout"
        },
        {
          "output_type": "stream",
          "text": [
            ""
          ],
          "name": "stderr"
        },
        {
          "output_type": "stream",
          "text": [
            "\u001b[92m\u001b[1m[2020-09-19 18:21:37.529] | Success | \u001b[0m<glove_vectors> computational sequence data in correct format.\n",
            "\u001b[94m\u001b[1m[2020-09-19 18:21:37.529] | Status  | \u001b[0mChecking the format of the metadata in <glove_vectors> computational sequence ...\n",
            "\u001b[92m\u001b[1m[2020-09-19 18:21:37.529] | Success | \u001b[0m<glove_vectors> computational sequence metadata in correct format.\n",
            "\u001b[92m\u001b[1m[2020-09-19 18:21:37.529] | Success | \u001b[0m<glove_vectors> computational sequence is valid!\n",
            "\u001b[92m\u001b[1m[2020-09-19 18:21:37.539] | Success | \u001b[0mComputational sequence read from file /content/gdrive/My Drive/Multimodal Emotion Recognition/Notebooks/Dataset/cmumosei/CMU_MOSEI_COVAREP.csd ...\n"
          ],
          "name": "stdout"
        },
        {
          "output_type": "stream",
          "text": [
            "  3%|▎         | 128/3836 [00:00<00:02, 1275.98 Computational Sequence Entries/s]"
          ],
          "name": "stderr"
        },
        {
          "output_type": "stream",
          "text": [
            "\u001b[94m\u001b[1m[2020-09-19 18:21:37.853] | Status  | \u001b[0mChecking the integrity of the <COVAREP> computational sequence ...\n",
            "\u001b[94m\u001b[1m[2020-09-19 18:21:37.853] | Status  | \u001b[0mChecking the format of the data in <COVAREP> computational sequence ...\n"
          ],
          "name": "stdout"
        },
        {
          "output_type": "stream",
          "text": [
            ""
          ],
          "name": "stderr"
        },
        {
          "output_type": "stream",
          "text": [
            "\u001b[92m\u001b[1m[2020-09-19 18:21:40.599] | Success | \u001b[0m<COVAREP> computational sequence data in correct format.\n",
            "\u001b[94m\u001b[1m[2020-09-19 18:21:40.599] | Status  | \u001b[0mChecking the format of the metadata in <COVAREP> computational sequence ...\n",
            "\u001b[92m\u001b[1m[2020-09-19 18:21:40.600] | Success | \u001b[0m<COVAREP> computational sequence metadata in correct format.\n",
            "\u001b[92m\u001b[1m[2020-09-19 18:21:40.600] | Success | \u001b[0m<COVAREP> computational sequence is valid!\n",
            "\u001b[92m\u001b[1m[2020-09-19 18:21:40.610] | Success | \u001b[0mComputational sequence read from file /content/gdrive/My Drive/Multimodal Emotion Recognition/Notebooks/Dataset/cmumosei/CMU_MOSEI_VisualOpenFace2.csd ...\n"
          ],
          "name": "stdout"
        },
        {
          "output_type": "stream",
          "text": [
            "  3%|▎         | 122/3837 [00:00<00:03, 1201.16 Computational Sequence Entries/s]"
          ],
          "name": "stderr"
        },
        {
          "output_type": "stream",
          "text": [
            "\u001b[94m\u001b[1m[2020-09-19 18:21:40.915] | Status  | \u001b[0mChecking the integrity of the <OpenFace_2> computational sequence ...\n",
            "\u001b[94m\u001b[1m[2020-09-19 18:21:40.915] | Status  | \u001b[0mChecking the format of the data in <OpenFace_2> computational sequence ...\n"
          ],
          "name": "stdout"
        },
        {
          "output_type": "stream",
          "text": [
            ""
          ],
          "name": "stderr"
        },
        {
          "output_type": "stream",
          "text": [
            "\u001b[92m\u001b[1m[2020-09-19 18:21:43.690] | Success | \u001b[0m<OpenFace_2> computational sequence data in correct format.\n",
            "\u001b[94m\u001b[1m[2020-09-19 18:21:43.690] | Status  | \u001b[0mChecking the format of the metadata in <OpenFace_2> computational sequence ...\n",
            "\u001b[92m\u001b[1m[2020-09-19 18:21:43.691] | Success | \u001b[0m<OpenFace_2> computational sequence metadata in correct format.\n",
            "\u001b[92m\u001b[1m[2020-09-19 18:21:43.691] | Success | \u001b[0m<OpenFace_2> computational sequence is valid!\n",
            "\u001b[92m\u001b[1m[2020-09-19 18:21:43.701] | Success | \u001b[0mComputational sequence read from file /content/gdrive/My Drive/Multimodal Emotion Recognition/Notebooks/Dataset/cmumosei/CMU_MOSEI_VisualFacet42.csd ...\n"
          ],
          "name": "stdout"
        },
        {
          "output_type": "stream",
          "text": [
            "  4%|▎         | 138/3837 [00:00<00:02, 1377.06 Computational Sequence Entries/s]"
          ],
          "name": "stderr"
        },
        {
          "output_type": "stream",
          "text": [
            "\u001b[94m\u001b[1m[2020-09-19 18:21:44.051] | Status  | \u001b[0mChecking the integrity of the <FACET 4.2> computational sequence ...\n",
            "\u001b[94m\u001b[1m[2020-09-19 18:21:44.052] | Status  | \u001b[0mChecking the format of the data in <FACET 4.2> computational sequence ...\n"
          ],
          "name": "stdout"
        },
        {
          "output_type": "stream",
          "text": [
            ""
          ],
          "name": "stderr"
        },
        {
          "output_type": "stream",
          "text": [
            "\u001b[92m\u001b[1m[2020-09-19 18:21:47.200] | Success | \u001b[0m<FACET 4.2> computational sequence data in correct format.\n",
            "\u001b[94m\u001b[1m[2020-09-19 18:21:47.200] | Status  | \u001b[0mChecking the format of the metadata in <FACET 4.2> computational sequence ...\n",
            "\u001b[92m\u001b[1m[2020-09-19 18:21:47.200] | Success | \u001b[0m<FACET 4.2> computational sequence metadata in correct format.\n",
            "\u001b[92m\u001b[1m[2020-09-19 18:21:47.200] | Success | \u001b[0m<FACET 4.2> computational sequence is valid!\n",
            "\u001b[92m\u001b[1m[2020-09-19 18:21:47.207] | Success | \u001b[0mComputational sequence read from file /content/gdrive/My Drive/Multimodal Emotion Recognition/Notebooks/Dataset/cmumosei/CMU_MOSEI_Labels.csd ...\n"
          ],
          "name": "stdout"
        },
        {
          "output_type": "stream",
          "text": [
            "  5%|▌         | 179/3293 [00:00<00:01, 1785.80 Computational Sequence Entries/s]"
          ],
          "name": "stderr"
        },
        {
          "output_type": "stream",
          "text": [
            "\u001b[94m\u001b[1m[2020-09-19 18:21:47.443] | Status  | \u001b[0mChecking the integrity of the <All Labels> computational sequence ...\n",
            "\u001b[94m\u001b[1m[2020-09-19 18:21:47.443] | Status  | \u001b[0mChecking the format of the data in <All Labels> computational sequence ...\n"
          ],
          "name": "stdout"
        },
        {
          "output_type": "stream",
          "text": [
            "                                                                                  "
          ],
          "name": "stderr"
        },
        {
          "output_type": "stream",
          "text": [
            "\u001b[92m\u001b[1m[2020-09-19 18:21:49.024] | Success | \u001b[0m<All Labels> computational sequence data in correct format.\n",
            "\u001b[94m\u001b[1m[2020-09-19 18:21:49.024] | Status  | \u001b[0mChecking the format of the metadata in <All Labels> computational sequence ...\n",
            "\u001b[92m\u001b[1m[2020-09-19 18:21:49.024] | Success | \u001b[0m<All Labels> computational sequence metadata in correct format.\n",
            "\u001b[92m\u001b[1m[2020-09-19 18:21:49.024] | Success | \u001b[0m<All Labels> computational sequence is valid!\n",
            "\u001b[92m\u001b[1m[2020-09-19 18:21:49.024] | Success | \u001b[0mDataset initialized successfully ... \n"
          ],
          "name": "stdout"
        },
        {
          "output_type": "stream",
          "text": [
            "\r"
          ],
          "name": "stderr"
        }
      ]
    },
    {
      "cell_type": "markdown",
      "metadata": {
        "id": "T3K231GELss1",
        "colab_type": "text"
      },
      "source": [
        "Align the data"
      ]
    },
    {
      "cell_type": "code",
      "metadata": {
        "id": "B39K8eKtLPEU",
        "colab_type": "code",
        "colab": {}
      },
      "source": [
        "#cmumosei_highlevel.add_computational_sequences(mmdatasdk.cmu_mosei.labels,'/content/gdrive/My Drive/Multimodal Emotion Recognition/Notebooks/Dataset/cmumosei/')\n",
        "cmumosei_highlevel.align('All Labels')"
      ],
      "execution_count": null,
      "outputs": []
    },
    {
      "cell_type": "code",
      "metadata": {
        "id": "C6VsHkVnliv6",
        "colab_type": "code",
        "colab": {}
      },
      "source": [
        "tensors=cmumosei_highlevel.get_tensors(seq_len=50,non_sequences=[\"All Labels\"],direction=False,folds=[mmdatasdk.cmu_mosei.standard_folds.standard_train_fold,mmdatasdk.cmu_mosei.standard_folds.standard_valid_fold,mmdatasdk.cmu_mosei.standard_folds.standard_test_fold])\n",
        "print(tensors)"
      ],
      "execution_count": null,
      "outputs": []
    }
  ]
}