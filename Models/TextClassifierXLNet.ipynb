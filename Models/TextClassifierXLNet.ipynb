{
 "metadata": {
  "language_info": {
   "codemirror_mode": {
    "name": "ipython",
    "version": 3
   },
   "file_extension": ".py",
   "mimetype": "text/x-python",
   "name": "python",
   "nbconvert_exporter": "python",
   "pygments_lexer": "ipython3",
   "version": "3.8.5-final"
  },
  "orig_nbformat": 2,
  "kernelspec": {
   "name": "Python 3.8.5 64-bit",
   "display_name": "Python 3.8.5 64-bit",
   "metadata": {
    "interpreter": {
     "hash": "1d2403e8d1191dec4bc7e2bb72d8b6e1ba102fdb9deb343b526414078f65b66f"
    }
   }
  }
 },
 "nbformat": 4,
 "nbformat_minor": 2,
 "cells": [
  {
   "cell_type": "code",
   "execution_count": null,
   "metadata": {
    "tags": []
   },
   "outputs": [],
   "source": [
    "import sys\n",
    "import import_ipynb\n",
    "from constants import LOADER_PATH\n",
    "\n",
    "if LOADER_PATH not in sys.path:\n",
    "    sys.path.append(LOADER_PATH)\n",
    "print(sys.path)\n",
    "if not os.path.exists(LOADER_PATH):\n",
    "    print(\"Check the relative address of data loaders in the constants/paths.py, current address is: \", LOADER_PATH)\n",
    "\n",
    "from DataloaderCreator import get_dataloaders"
   ]
  },
  {
   "cell_type": "code",
   "execution_count": null,
   "metadata": {},
   "outputs": [],
   "source": [
    "train_loader, dev_loader, test_loader = get_dataloaders()"
   ]
  },
  {
   "cell_type": "code",
   "execution_count": null,
   "metadata": {},
   "outputs": [],
   "source": [
    "import torch\n",
    "import random\n",
    "import numpy as np\n",
    "from tqdm import tqdm_notebook, trange\n",
    "from torch.utils.data.distributed import DistributedSampler\n",
    "from torch.utils.data import DataLoader, RandomSampler, SequentialSampler, TensorDataset\n",
    "\n",
    "from transformers import AdamW\n",
    "from transformers import WEIGHTS_NAME, XLNetConfig, XLNetForSequenceClassification\n"
   ]
  },
  {
   "cell_type": "code",
   "execution_count": null,
   "metadata": {},
   "outputs": [],
   "source": [
    "\n",
    "#'data_dir': '',\n",
    "#'model_type':  'xlnet',\n",
    "#'model_name': 'xlnet-base-cased',\n",
    "#'task_name': 'multiclass-classification',\n",
    "#'output_dir': '',\n",
    "#'cache_dir': '..\\Dataset',\n",
    "#'do_train': True,\n",
    "#'do_eval': True,\n",
    "#'fp16': False,\n",
    "#'fp16_opt_level': 'O1',\n",
    "#'max_seq_length': 128,\n",
    "#'output_mode': 'classification',\n",
    "#'train_batch_size': 56,\n",
    "#'eval_batch_size': 56*3,\n",
    "\n",
    "\n",
    "args = {\n",
    "    'gradient_accumulation_steps': 1,\n",
    "    'num_train_epochs': 10,\n",
    "    'weight_decay': 0,\n",
    "    'learning_rate': 4e-5,\n",
    "    'adam_epsilon': 1e-8,\n",
    "    'warmup_steps': 0,\n",
    "    'max_grad_norm': 1.0,\n",
    "\n",
    "    'logging_steps': 5,\n",
    "    'evaluate_during_training': False,\n",
    "    'save_steps': 2000,\n",
    "    'eval_all_checkpoints': True,\n",
    "\n",
    "    'overwrite_output_dir': False,\n",
    "    'reprocess_input_data': True,\n",
    "    'notes': 'XLnet for text classification of CMU-MOSEI dataset'\n",
    "}\n",
    "device = torch.device(\"cuda\" if torch.cuda.is_available() else \"cpu\")"
   ]
  },
  {
   "cell_type": "code",
   "execution_count": null,
   "metadata": {
    "tags": []
   },
   "outputs": [],
   "source": [
    "MODEL_CLASSES = {\n",
    "    'xlnet': (XLNetConfig, XLNetForSequenceClassification)\n",
    "}\n",
    "\n",
    "device = torch.device(\"cuda\" if torch.cuda.is_available() else \"cpu\")\n",
    "print(device)\n",
    "config = XLNetConfig.from_pretrained('xlnet-base-cased')\n",
    "model = XLNetForSequenceClassification.from_pretrained('xlnet-base-cased', num_labels=6)\n",
    "model.to(device)"
   ]
  },
  {
   "cell_type": "code",
   "execution_count": null,
   "metadata": {},
   "outputs": [],
   "source": []
  }
 ]
}